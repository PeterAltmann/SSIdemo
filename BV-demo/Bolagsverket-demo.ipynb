{
 "cells": [
  {
   "cell_type": "markdown",
   "id": "7c173c09-f259-4e8b-b3ff-1c70b20bb82a",
   "metadata": {},
   "source": [
    "# Authentic Company Data: Requirements for organization SSI wallets\n",
    "\n",
    "In this presentation, we will:\n",
    "\n",
    "* Describe the overall stack and provide a high level overview of the solution\n",
    "* Dig deeper into each solution component and explain why it is important\n",
    "* Initiate all the required components for Bolagsverket to interact with Aktiebolaget AB\n",
    "* Show how Bolagsverket can issue a Verifiable Credential containing company registration data to Aktiebolaget AB\n",
    "    1. Introduce the VC formats\n",
    "    2. Demonstrate the ZKP ones"
   ]
  },
  {
   "cell_type": "markdown",
   "id": "526afdbb-828a-4e71-84c7-90ca11031503",
   "metadata": {
    "tags": []
   },
   "source": [
    "## 1. Input to the overall architecture - ToIP"
   ]
  },
  {
   "cell_type": "markdown",
   "id": "235de312-51ed-4dd9-a9f5-0bb82de075de",
   "metadata": {},
   "source": [
    "The Trust over IP stack has two tracks: Technology and Governance. The technology stack contains all the technical components that make it possible to exchange verifiable data between two actors. The governance track contains the rules and policies that govern each layer of the technical solution.\n",
    "\n",
    "<img src = 'fig/toip.png' width = 700>\n",
    "\n",
    "Below, we look specifically at the technology stack (layers 1-3) and run everything using the default governance settings and in \"God mode\"."
   ]
  },
  {
   "cell_type": "markdown",
   "id": "9420b101-1a7d-496d-a2cf-d41154013493",
   "metadata": {
    "tags": []
   },
   "source": [
    "### 1.1. Layer 1: DID Registry and DID Method\n",
    "\n",
    "*DIDs are a special kind of identifiers that facilitate interactor exchanges. They can be published in a DID registry. A specific DID method explains how to create, update, and delete a DID and its associated DID Document.*"
   ]
  },
  {
   "cell_type": "markdown",
   "id": "fea11c44-bbb4-4434-93a3-492a08f719af",
   "metadata": {
    "jp-MarkdownHeadingCollapsed": true,
    "tags": []
   },
   "source": [
    "#### DIDs\n",
    "To understand a DID registry and a DID Method, we must understand what a **D**ecentralized **ID**entifier is. A DID is a type of identifier that resolves into a DID Document, which contains all the information required to create a connection to the DID controller.\n",
    "\n",
    "<img src = 'fig/did.svg' width = 400>\n",
    "\n",
    "The standard elements of a DID Document include (or can include):\n",
    "\n",
    "1. The DID itself as the document identifier\n",
    "2. A set of public keys \n",
    "3. A set of authentication methods\n",
    "4. A set of service endpoints for interaction\n",
    "5. A timestamp to enable audits\n",
    "6. A signature to ensure integrity"
   ]
  },
  {
   "cell_type": "markdown",
   "id": "a09aa1f8-c40f-4b11-9632-8da1d8d7c46b",
   "metadata": {
    "tags": []
   },
   "source": [
    "#### DID Registration\n",
    "\n",
    "To enable trust in the identity ecosystem, certain actors register their DID on a public data registry. Note that the properties of the data registry determines the technical trust in the DID registration. For instance, actors may wish to use publicly verifiable hash pointers for retrieval.\n",
    "\n",
    "<img src = 'fig/diddoc.svg' width = 600>"
   ]
  },
  {
   "cell_type": "markdown",
   "id": "68bf1959-01c0-4c03-b9c4-a2cb993c1b22",
   "metadata": {
    "tags": []
   },
   "source": [
    "#### The DID Method.\n",
    "\n",
    "The DID method is a specification for how to create, update, delete a DID Document. Each VDR has a specific DID method, some have several. To learn about the DID method for a specific VDR, see the [W3C did spec registry](https://w3c.github.io/did-spec-registries/#did-methods)."
   ]
  },
  {
   "cell_type": "markdown",
   "id": "3f3f6823-372f-49d9-b031-127a10c6b210",
   "metadata": {
    "tags": []
   },
   "source": [
    "### 1.2. Layer 1: Design input\n",
    "\n",
    "*Use an Indy, Aries, Ursa projects based approach. Well documented and best development tool support.*"
   ]
  },
  {
   "cell_type": "markdown",
   "id": "9f61c1b3-bb6e-4066-ba47-c81a149ffab0",
   "metadata": {
    "tags": []
   },
   "source": [
    "**Selection criteria:**\n",
    "\n",
    "1. a VDR specifically designed for digital identity data so that we do not have to create things at the DID registry level\n",
    "2. a commonly used DID method that works with our VDR\n",
    "3. a solution with a proven deployment\n",
    "4. a well documented solution with a lot of open information and guides\n",
    "\n",
    "For our purposes, the British Colombia (BC) project \"The Verifiable Organizations Network\" ([VON](https://vonx.io/)) checks all boxes. It builds on Hyperledger Indy, a purpose built VDR for identity. It uses `sov` as a DID Method, which works well with the Indy VDR. The potential has been successfully demonstrated resulting in a [deployed network](https://sovrin-mainnet-browser.vonx.io/) and a [data registry containing organization identifiers](https://orgbook.gov.bc.ca/search). Finally, the BC team has documented their results and prepared docker containers for easy concept testing:\n",
    "\n",
    "* The [von network github](https://github.com/bcgov/von-network)\n",
    "* The [OrgBook credential registry github](https://github.com/bcgov/TheOrgBook)\n",
    "* The [GreenLight decentralized workflow github](https://github.com/bcgov/greenlight)\n",
    "\n",
    "**Alternative candidates:**\n",
    "\n",
    "1. Hyperledger Besu and the EBSI network. Decided against as several key features (e.g., ZKP based revocation) were lacking. Not as well documented as the BC project.\n",
    "2. Public Ethereum based. Decided against as the existing guides were not as purposeful as the BC project one was.\n",
    "\n",
    "**Implications of design choice:**\n",
    "\n",
    "1. The goal is to launch a solution on EBSI. Currently, EBSI does not support Indy ledgers.\n",
    "    * Potential solution 1: Implement support for Indy ledger on the Swedish EBSI dev node\n",
    "    * Potential solution 2: Focus on verifiable credential formats that do not require a DLT for the credential itself\n",
    "2. The BC gov project support multiple different credential formats and allows us to experiment and learn about verifiable credentials without being bound to a specific VDR. The VDR is kind of a plugin anyway so it does not matter at this early stage."
   ]
  },
  {
   "cell_type": "markdown",
   "id": "82573766-1650-4777-939f-4c105e03e9da",
   "metadata": {
    "tags": []
   },
   "source": [
    "### 1.3. Layer 2: DIDComm and agent to agent data exchange\n",
    "\n",
    "*Layer 2 contains all the protocols and enablers for agent to agent data exchanges. We rely on the Aries protocol suite.*"
   ]
  },
  {
   "cell_type": "markdown",
   "id": "7ed081a2-4fe7-435e-a1f5-21d1f7999ff3",
   "metadata": {
    "tags": []
   },
   "source": [
    "Today, there is really only one viable basis for an easy POC environment: [Hyperledger Aries](https://www.hyperledger.org/use/aries#:~:text=Hyperledger%20Aries%20provides%20a%20shared,peer%2Dto%2Dpeer%20interactions.). Aries provides a toolkit designed for agent interactions centered around verifiable digital credentials. Aries provides a full suite of protocols required for every possible interaction and contains a full set of protocols to support multiple different Verifiable Credential formats (including those with advanced privacy and user control features as compared [here](https://github.com/PeterAltmann/SSIdemo/blob/main/VC_formats/Verifiable-Credentials-Flavors-Explained-Infographic.pdf)).\n",
    "\n",
    "Aries also loads Hyperledger Ursa, a complete cryptography library for functions and algorithms."
   ]
  },
  {
   "cell_type": "markdown",
   "id": "541f136f-731c-48e3-b9ec-2a192d360631",
   "metadata": {},
   "source": [
    "### 1.4. Layer 2: Design input"
   ]
  },
  {
   "cell_type": "markdown",
   "id": "1ef780e6-bf62-42c9-8f21-87d2d2eef3ea",
   "metadata": {},
   "source": [
    "There is really no viable alternative to Hyperledger Aries and Hyperledger Ursa."
   ]
  },
  {
   "cell_type": "markdown",
   "id": "3d212952-052a-4341-a4ca-170c4e526a60",
   "metadata": {
    "tags": []
   },
   "source": [
    "### 1.5. Layer 3: Credential exchanges\n",
    "\n",
    "*There exist four different formats for verifiable credentials. We will work with the more privacy oriented ones. This [infographic](Verifiable-Credentials-Flavors-Explained-Infographic.pdf) is the arguably the best VC format comparison that exists.*"
   ]
  },
  {
   "cell_type": "markdown",
   "id": "27c8fc08-3540-47c5-bab2-f36fb0ee2a33",
   "metadata": {},
   "source": [
    "While many parts of the credential exchange is specified in Aries, we must agree on the specific credential format to use. There are [three options listed](https://www.w3.org/TR/vc-imp-guide/#proof-formats) by W3C, and there is the additional option of AnonCreds. Each option has benefits and drawbacks.\n",
    "\n",
    "**JSON-JWT**\n",
    "\n",
    "* Simplest solution\n",
    "    * Attributes are stored as key value pairs\n",
    "* Lacks privacy features\n",
    "* Lacks semantic interoperability\n",
    "\n",
    "**JSON-LD with LD signature**\n",
    "\n",
    "* Relatively simple\n",
    "    * Attributes are stored as key value pairs\n",
    "    * Schema is stored anywhere\n",
    "* Lacks privacy features\n",
    "* Provides semantic interoperability using a `@context` and pointers for each key. Time consuming to construct.\n",
    "\n",
    "**ZKP-CL**\n",
    "\n",
    "* Very complicated with several components\n",
    "    * Attributes are stored as key value pairs\n",
    "    * Definitions are stored on VDR\n",
    "    * Schema is stored on VDR\n",
    "* Privacy features\n",
    "    * Selective disclosure\n",
    "    * Derivation\n",
    "    * Anti correlation\n",
    "* Lacks semantic interoperability\n",
    "\n",
    "**JSON-LD ZKP with BBS+**\n",
    "\n",
    "* Complicated\n",
    "    * Attributes are stored as key value pairs\n",
    "    * Schema is stored anywhere\n",
    "* Privacy features\n",
    "    * Selective disclosure\n",
    "    * Derivation theoretically possible but no wide spread implementation yet\n",
    "    * Anti correlation\n",
    "* Provides semantic interoperability using a `@context` and pointers for each key. Time consuming to construct.\n",
    "\n",
    "Note that the W3C specifications do not include **ZKP-CL**. However, **ZKP-CL** is the most commonly adopted VC format due to its early support (it was the first credential format)."
   ]
  },
  {
   "cell_type": "markdown",
   "id": "102e7d98-aa9e-4d26-ab24-ceeb311b2d88",
   "metadata": {
    "tags": []
   },
   "source": [
    "### 1.6. Layer 3: Design input\n",
    "\n",
    "*In this demo, we will mainly use the AnonCreds format, which is based on ZKP-CL (a multi messaging signature scheme with ZKP support). We also demonstrate JSON-LD ZKP with BBS+*"
   ]
  },
  {
   "cell_type": "markdown",
   "id": "4e784a3b-f71e-4041-bed4-462dec647a32",
   "metadata": {},
   "source": [
    "**Selection:** \n",
    "\n",
    "* We start with ZKP-CL simply because it is what the AnonCreds format uses. The AnonCreds format is the oldest and most well documented of the VC formats that supporWhilet enhanced privacy features. While complicated, most of the complicated features are handled by Indy and Aries.\n",
    "* We will also look at the JSON-LD ZKP with BBS+ format. It is supported by the W3C standard and it has several important privacy features. It is also likely to be the format that the DIF / W3C community will lend most support to. It is a bit harder to implement than AnonCreds because we have to rely on linked data principles, which take a lot of time.\n",
    "\n",
    "**Alternative candidates**\n",
    "\n",
    "None exist. Yet. Solid ones are on the way.\n",
    "\n",
    "**Implications of design choices**\n",
    "\n",
    "1. AnonCreds will help us understand Layer 1 well. It will also help us understand the possible uses of a VDR in credential exchanges. Since Indy, Aries, and Ursa handle a lot of the complicated aspects of ZKP-CL, we can start experimenting and demoing early since we only need to define simple key value pairs for our attributes. AnonCreds can also help us understand a lot about the more advanced privacy features.\n",
    "2. However, AnonCreds are not listed on W3C as a supported credential format. JSON-LD ZKP with BBS+ is.\n",
    "3. JSON-LD with BBS+ has several yet unresolved issues and several key features are not yet implemented (but are theoretically possible), e.g., revocation."
   ]
  },
  {
   "cell_type": "markdown",
   "id": "fb421503-d636-4310-8fea-0b82a2f645ac",
   "metadata": {},
   "source": [
    "## 2. Important to know before the AnonCreds demo"
   ]
  },
  {
   "cell_type": "markdown",
   "id": "e004498b-4963-4ad2-ab0e-6715d094187a",
   "metadata": {},
   "source": [
    "### 2.1. The ZKP-CL credential format"
   ]
  },
  {
   "cell_type": "markdown",
   "id": "b171ddb3-5d4d-488d-af3f-839df4bce1c7",
   "metadata": {},
   "source": [
    "Key features: \n",
    "\n",
    "* **Multi message** signing\n",
    "    * I explain the math behind the Strong RSA based CL scheme [here](https://github.com/PeterAltmann/SSIdemo/blob/main/VC_formats/math_CL.ipynb)\n",
    "* **EC pairings** based\n",
    "    * Decisional Diffie-Hellman is easy.\n",
    "        * In a cyclic group of order $q$, with generator $g$, given $(g^{a}, g^{b})$ distinguish between  $g^{ab}$ and $g^{r}$ with $(a,b) \\in \\mathbb{Z}_q$\n",
    "    * Computational Diffie-Hellman remains hard\n",
    "        * Given $(g^{a}, g^{b})$, compute $g^{ab}$\n",
    "    * The actual math of how the pairing is done and why it works is presently way beyond me\n",
    "* Uses VDR to post **schema**\n",
    "* Uses VDR to post **credential definition**, ie., a list of public keys used to sign each key value pair in the corresponding schema\n",
    "* Allows for **selective disclosure** (I did not test yet but know how the math works)\n",
    "* Allows for **derivation** (I did not test yet but I know the math behind some ZKP work that supports derivation)\n",
    "\n",
    "We begin with a high level overview of the credential format\n",
    "\n",
    "<img src='fig/zkp-cl.png'>\n",
    "\n"
   ]
  },
  {
   "cell_type": "markdown",
   "id": "e60b1bf8-ecc2-43f0-ba54-63e217fcf8cc",
   "metadata": {
    "tags": []
   },
   "source": [
    "### 2.2. Choice of Aries framework\n",
    "\n",
    "*We will use `aca-py` as our agent framework. It has support for all the VC formats we want, is well documented, is server oriented, and is written in Python (easier for me to understand what it does).*"
   ]
  },
  {
   "cell_type": "markdown",
   "id": "5afb9770-b056-40ce-a036-632e73826f70",
   "metadata": {
    "tags": []
   },
   "source": [
    "The protocol specifications in Aries are quite extensive ([index on github](https://github.com/hyperledger/aries-rfcs/blob/main/index.md)). To work with the protocols, we will use an Aries framework, which implements several of the protocols and makes it easier to develop a wallet.\n",
    "\n",
    "There exist multiple different frameworks (a complete list can be found [here](http://aries-interop.info/)). Our choice is informed by:\n",
    "\n",
    "* We would prefer a solution that supports both AIP 1 and AIP 2 (Aries Interoperability Profiles). \n",
    "    * The AnonCreds format is in AIP 1. \n",
    "    * The W3C format is in AIP 2. \n",
    "* We need something focused on enterprise wallets\n",
    "* We want something that is well documented\n",
    "* I am most comfortable with Python\n",
    "\n",
    "The ACA-Py (Aries Cloud Agent Python) framework supports both AIP 1 and AIP 2 and is specifically designed for cloud environments. It has a very extensive documentation since it is featured both in the BC project (they contributed the initial implementation) and it is part of the Hyperledger course [LFS173x](https://training.linuxfoundation.org/training/becoming-a-hyperledger-aries-developer-lfs173/).\n",
    "\n",
    "With ACA-Py we will have an agent framework that handles the various Aries protocols (content focused) we need, as well as the various DIDCom protocols (delivery focused) we need."
   ]
  },
  {
   "cell_type": "markdown",
   "id": "b66c54c4-04a1-4149-8b07-05865c38b698",
   "metadata": {
    "tags": []
   },
   "source": [
    "### 2.3. The controller - Framework interactions"
   ]
  },
  {
   "cell_type": "markdown",
   "id": "df8f4738-1163-4dca-8c24-04e51701ffaa",
   "metadata": {
    "tags": []
   },
   "source": [
    "<img src = 'fig/agent-controller.png'>\n",
    "\n",
    "The ACA-Py agent instance implements parts of the Aries framework, specifically it:\n",
    "\n",
    "1. Determines the connection type\n",
    "2. Creates protocol state objects\n",
    "3. Stores protocol state objects\n",
    "4. Sends webhooks about states and state changes\n",
    "\n",
    "The controller receives events and posts requests to the ACA-Py agent instance using REST API. It:\n",
    "\n",
    "1. Encodes the business logic that defines how different state objects should be handled (eg., what to do when a credential offer is received).\n",
    "2. Retrieves information from the protocol\n",
    "3. Constructs and sends HTTP requests to the ACA-Py administrative endpoint."
   ]
  },
  {
   "cell_type": "markdown",
   "id": "a4dbdcb9-4f5b-49f1-94e8-e9d387b1a846",
   "metadata": {
    "tags": []
   },
   "source": [
    "### 2.4. A platform built on Aries, Ursa, and Indy"
   ]
  },
  {
   "cell_type": "markdown",
   "id": "11c2ce1a-840b-426d-b29b-35f204d5ebd2",
   "metadata": {},
   "source": [
    "Below is a high level schematic of the various solution components and how Aries, Ursa and Indy together enable verifiable data exchanges.\n",
    "\n",
    "<img src = 'fig/hl-platform.png'>"
   ]
  },
  {
   "cell_type": "markdown",
   "id": "7f113a9c-7cd4-4699-9fe5-bf88fdf0bf23",
   "metadata": {
    "tags": []
   },
   "source": [
    "### 2.5. Standards"
   ]
  },
  {
   "cell_type": "markdown",
   "id": "e9dc8f8c-1415-4887-b636-3cb8d53b1b8f",
   "metadata": {},
   "source": [
    "* **DID** are being standardized under the Decentralized Identity Foundation.\n",
    "* **Decentralized Key Management Systems** are being standardized under OASIS\n",
    "* The **DID Auth** method for proving control of a DID is being standardized under DIF and the IETF\n",
    "* **Verifiable Credentials** is a standard under W3C\n",
    "* The cryptography is being standardized (unclear when in Europe)\n",
    "* The Aries RFC"
   ]
  },
  {
   "cell_type": "markdown",
   "id": "ad2ded9c-628d-400e-b172-d7061275ee6b",
   "metadata": {},
   "source": [
    "# Demonstration of a verifiable Authentic Company Data exchange platform"
   ]
  },
  {
   "cell_type": "markdown",
   "id": "693c3d83-0b71-4de3-8b30-5b70e9d3e899",
   "metadata": {},
   "source": [
    "## 1. Demo A - The AnonCreds VC flow\n",
    "\n",
    "<img src='fig/toip-standards.png'>"
   ]
  },
  {
   "cell_type": "markdown",
   "id": "d00b853c-dcfc-431d-8aa3-b0425ceec0b1",
   "metadata": {},
   "source": [
    "## 2. Overview of steps for CL-ZKP VC format"
   ]
  },
  {
   "cell_type": "markdown",
   "id": "4dc47e30-ec4f-4c4e-acb8-7d3e6ad8c5b7",
   "metadata": {},
   "source": [
    "Before we can get our agents to exchange data, we need to do the following steps:\n",
    "\n",
    "1. Start a VDR and register\n",
    "    * DIDs\n",
    "2. Setup a tails server for the issuer so that revocation is supported (see https://github.com/PeterAltmann/SSIdemo/blob/main/math_accumulators.ipynb for an illustration of the principles behind cryptographic accumulators)\n",
    "3. Start a webhook server to receive events from our agent instances\n",
    "4. Configure our agents\n",
    "\n",
    "Once the agents are configured we can continue and\n",
    "\n",
    "5. Let Bolagsverket issue a Credential schema\n",
    "6. Let Bolagsverket issue a corresponding Credential definition\n",
    "7. Connect Bolagsverket with Aktiebolaget\n",
    "8. Have Bolagsverket issue a VC with company registration data to Aktiebolaget\n",
    "9. Check the revocation status of the VC"
   ]
  },
  {
   "cell_type": "code",
   "execution_count": 1,
   "id": "10784424-77dc-4767-87a9-e54374f9d073",
   "metadata": {},
   "outputs": [],
   "source": [
    "# Import required prerequisites\n",
    "import os\n",
    "import requests\n",
    "import subprocess\n",
    "import json\n",
    "import time"
   ]
  },
  {
   "cell_type": "code",
   "execution_count": 2,
   "id": "094d2fcf-ae89-460b-bdc0-34facaf041c9",
   "metadata": {},
   "outputs": [],
   "source": [
    "# The server startup commands\n",
    "cmd_indy = 'echo 123456 | sudo -S ~/von-network/manage start --wait' # The DID registry\n",
    "cmd_webhook = 'cd ~/webhook.site && echo 123456 | sudo -S docker-compose up &' # The webhook server for our events\n",
    "cmd_tails = 'echo 123456 | sudo -S ~/indy-tails-server/docker/manage start' # The revocation server"
   ]
  },
  {
   "cell_type": "code",
   "execution_count": 3,
   "id": "edbc0700-6f11-4935-82f2-b1f20ab5d7a8",
   "metadata": {},
   "outputs": [],
   "source": [
    "# CODE TO CLEAR OUR OLD WALLETS\n",
    "fresh_start = !ls -A ~/.indy_client/wallet/\n",
    "if len(fresh_start) != 0:\n",
    "    !rm -rf ~/.indy_client/wallet/*"
   ]
  },
  {
   "cell_type": "code",
   "execution_count": 4,
   "id": "f9a3f0c9-1f5f-4892-a52f-546640fc7b44",
   "metadata": {},
   "outputs": [],
   "source": [
    "# CODE TO CLEAR THE SERVERS\n",
    "cmd_server_down = 'echo 123456 | sudo -S -v && sudo ~/von-network/manage down && sudo ~/indy-tails-server/docker/manage down && cd ~/webhook.site && sudo docker-compose down'\n",
    "cmd_indy_vdr_down = 'echo 123456 | sudo -S -v && sudo ~/von-network/manage down'\n",
    "cmd_server_stop = 'echo 123456 | sudo -S -v && sudo ~/indy-tails-server/docker/manage stop && cd ~/webhook.site && sudo docker-compose stop'\n",
    "# !{cmd_indy_vdr_down}"
   ]
  },
  {
   "cell_type": "markdown",
   "id": "bbc8b750-6e55-454f-a0d4-541fb480be52",
   "metadata": {},
   "source": [
    "### 2.1. Start VDR and Register DID"
   ]
  },
  {
   "cell_type": "code",
   "execution_count": 5,
   "id": "478e95d7-ed1d-442a-8e5c-6d8a29db5d08",
   "metadata": {},
   "outputs": [
    {
     "name": "stderr",
     "output_type": "stream",
     "text": [
      "[sudo] password for parallels: "
     ]
    },
    {
     "name": "stdout",
     "output_type": "stream",
     "text": [
      "\n",
      "Using: docker-compose --log-level ERROR\n",
      "\n"
     ]
    },
    {
     "name": "stderr",
     "output_type": "stream",
     "text": [
      "Creating von_node4_1 ... \n",
      "Creating von_node2_1 ... \n",
      "Creating von_webserver_1 ... \n",
      "Creating von_node1_1     ... \n",
      "Creating von_node3_1     ... \n",
      "Creating von_webserver_1 ... done\n",
      "Creating von_node1_1     ... done\n",
      "Creating von_node4_1     ... done\n",
      "Creating von_node2_1     ... done\n",
      "Creating von_node3_1     ... done\n"
     ]
    },
    {
     "name": "stdout",
     "output_type": "stream",
     "text": [
      "waiting for ledger to start.............Want to see the scrolling container logs? Run \"./manage logs\"\n",
      "{\n",
      "  \"did\": \"h2aCQwapPeZtdoHH1VAh6\",\n",
      "  \"seed\": \"Bolagsverket00000000000000000001\",\n",
      "  \"verkey\": \"NpLUnDKyMhSXPfYyUEPMVwCyPys81LaoEMQjXbsfXkn\"\n",
      "}\n"
     ]
    }
   ],
   "source": [
    "os.system(cmd_indy) # Takes ~15 seconds for the nodes to sync\n",
    "\n",
    "time.sleep(1)\n",
    "\n",
    "VDR = \"http://localhost:9000/register\"\n",
    "did_reg = '{\"seed\": \"Bolagsverket00000000000000000001\", \"role\": \"TRUST_ANCHOR\", \"alias\": \"Bolagsverket\"}'\n",
    "r_did_reg = requests.post(url=VDR, data=did_reg)\n",
    "print(r_did_reg.text)\n",
    "issuer_did = r_did_reg.json()['did'] # We store the issuer DID for future use"
   ]
  },
  {
   "cell_type": "code",
   "execution_count": 6,
   "id": "c013bc73-5fad-4ee4-8433-770962c3719a",
   "metadata": {},
   "outputs": [],
   "source": [
    "issuer_did = 'h2aCQwapPeZtdoHH1VAh6'"
   ]
  },
  {
   "cell_type": "markdown",
   "id": "a50adbd1-d2da-40c1-a5ea-78376b5b4286",
   "metadata": {},
   "source": [
    "**Layer 1 events**:\n",
    "\n",
    "1. Started an Indy network to act as a VDR\n",
    "2. Created a DID for Bolagsverket using a seed\n",
    "3. Registered that DID in the VDR\n",
    "\n",
    "http://localhost:9000/browse/domain?page=1&query=h2aCQwapPeZtdoHH1VAh6"
   ]
  },
  {
   "cell_type": "markdown",
   "id": "b5056c67-49e3-4b4f-9de2-bf751abd8de1",
   "metadata": {},
   "source": [
    "### 2.2. Start tails server for revocation purposes"
   ]
  },
  {
   "cell_type": "code",
   "execution_count": 7,
   "id": "8e1d20ee-86af-463c-874a-f8e6cefc4e42",
   "metadata": {},
   "outputs": [
    {
     "name": "stderr",
     "output_type": "stream",
     "text": [
      "[sudo] password for parallels: Creating network \"docker_tails-server\" with the default driver\n",
      "Creating network \"docker_default\" with the default driver\n",
      "Creating docker_ngrok-tails-server_1 ... \n",
      "Creating docker_tails-server_1       ... \n"
     ]
    },
    {
     "name": "stdout",
     "output_type": "stream",
     "text": [
      "Run './manage logs' for logs\n"
     ]
    },
    {
     "name": "stderr",
     "output_type": "stream",
     "text": [
      "Creating docker_tails-server_1       ... done\n",
      "Creating docker_ngrok-tails-server_1 ... done\n"
     ]
    },
    {
     "data": {
      "text/plain": [
       "0"
      ]
     },
     "execution_count": 7,
     "metadata": {},
     "output_type": "execute_result"
    }
   ],
   "source": [
    "# The tails server will run on http://localhost:6543\n",
    "os.system(cmd_tails)"
   ]
  },
  {
   "cell_type": "markdown",
   "id": "97f076d3-daa8-4345-9d63-233d646997e3",
   "metadata": {},
   "source": [
    "**Supporting events**\n",
    "\n",
    "1. Started a server for the tails file that Bolagsverket can use for revocation."
   ]
  },
  {
   "cell_type": "markdown",
   "id": "d535ef0f-39ed-4bb9-ab7a-b01fa368b553",
   "metadata": {
    "tags": []
   },
   "source": [
    "### 2.3. Start the webhook server"
   ]
  },
  {
   "cell_type": "markdown",
   "id": "5b829910-82da-4659-a99f-b479254fe579",
   "metadata": {},
   "source": [
    "A dispatched webhook appends the path component to the URL. I.e., `https://webhook.host.example` becomes `https://webhook.host.example/topic/connections` when a connection record is updated. The list of available paths are: {`/connections`, `/basicmessages`, `/forward`, `/issue_credential`, `/present_proof`}. Each webhook payload has a set of properties (see list [here](https://github.com/hyperledger/aries-cloudagent-python/blob/main/AdminAPI.md))."
   ]
  },
  {
   "cell_type": "code",
   "execution_count": 8,
   "id": "f9a5b9c2-19b1-4ca8-826e-ef9d0f94146e",
   "metadata": {},
   "outputs": [
    {
     "data": {
      "text/plain": [
       "0"
      ]
     },
     "execution_count": 8,
     "metadata": {},
     "output_type": "execute_result"
    },
    {
     "name": "stderr",
     "output_type": "stream",
     "text": [
      "[sudo] password for parallels: Creating network \"webhooksite_default\" with the default driver\n",
      "Creating webhooksite_laravel-echo-server_1 ... \n",
      "Creating webhooksite_redis_1               ... \n",
      "Creating webhooksite_webhook_1             ... \n",
      "Creating webhooksite_laravel-echo-server_1 ... done\n",
      "Creating webhooksite_webhook_1             ... done\n",
      "Creating webhooksite_redis_1               ... done\n"
     ]
    },
    {
     "name": "stdout",
     "output_type": "stream",
     "text": [
      "Attaching to webhooksite_laravel-echo-server_1, webhooksite_webhook_1, webhooksite_redis_1\n",
      "\u001b[33mredis_1                |\u001b[0m 1:C 19 May 2022 07:29:53.004 # oO0OoO0OoO0Oo Redis is starting oO0OoO0OoO0Oo\n",
      "\u001b[33mredis_1                |\u001b[0m 1:C 19 May 2022 07:29:53.004 # Redis version=6.2.6, bits=64, commit=00000000, modified=0, pid=1, just started\n",
      "\u001b[33mredis_1                |\u001b[0m 1:C 19 May 2022 07:29:53.004 # Warning: no config file specified, using the default config. In order to specify a config file use redis-server /path/to/redis.conf\n",
      "\u001b[33mredis_1                |\u001b[0m 1:M 19 May 2022 07:29:53.005 * monotonic clock: POSIX clock_gettime\n",
      "\u001b[33mredis_1                |\u001b[0m 1:M 19 May 2022 07:29:53.007 * Running mode=standalone, port=6379.\n",
      "\u001b[33mredis_1                |\u001b[0m 1:M 19 May 2022 07:29:53.007 # Server initialized\n",
      "\u001b[33mredis_1                |\u001b[0m 1:M 19 May 2022 07:29:53.007 # WARNING overcommit_memory is set to 0! Background save may fail under low memory condition. To fix this issue add 'vm.overcommit_memory = 1' to /etc/sysctl.conf and then reboot or run the command 'sysctl vm.overcommit_memory=1' for this to take effect.\n",
      "\u001b[33mredis_1                |\u001b[0m 1:M 19 May 2022 07:29:53.007 * Ready to accept connections\n",
      "\u001b[32mwebhook_1              |\u001b[0m [s6-init] making user provided files available at /var/run/s6/etc...exited 0.\n",
      "\u001b[32mwebhook_1              |\u001b[0m [s6-init] ensuring user provided files have correct perms...exited 0.\n",
      "\u001b[32mwebhook_1              |\u001b[0m [fix-attrs.d] applying ownership & permissions fixes...\n",
      "\u001b[32mwebhook_1              |\u001b[0m [fix-attrs.d] done.\n",
      "\u001b[32mwebhook_1              |\u001b[0m [cont-init.d] executing container initialization scripts...\n",
      "\u001b[32mwebhook_1              |\u001b[0m [cont-init.d] done.\n",
      "\u001b[32mwebhook_1              |\u001b[0m [services.d] starting services\n",
      "\u001b[32mwebhook_1              |\u001b[0m [services.d] done.\n",
      "\u001b[32mwebhook_1              |\u001b[0m PHP-FPM's opcache is NOT enabled\n",
      "\u001b[32mwebhook_1              |\u001b[0m [19-May-2022 07:29:53] NOTICE: fpm is running, pid 178\n",
      "\u001b[32mwebhook_1              |\u001b[0m [19-May-2022 07:29:53] NOTICE: ready to handle connections\n",
      "\u001b[36mlaravel-echo-server_1  |\u001b[0m \n",
      "\u001b[36mlaravel-echo-server_1  |\u001b[0m L A R A V E L  E C H O  S E R V E R\n",
      "\u001b[36mlaravel-echo-server_1  |\u001b[0m \n",
      "\u001b[36mlaravel-echo-server_1  |\u001b[0m version 1.3.7\n",
      "\u001b[36mlaravel-echo-server_1  |\u001b[0m \n",
      "\u001b[36mlaravel-echo-server_1  |\u001b[0m ⚠ Starting server in DEV mode...\n",
      "\u001b[36mlaravel-echo-server_1  |\u001b[0m \n",
      "\u001b[36mlaravel-echo-server_1  |\u001b[0m ✔  Running at 0.0.0.0 on port 6001\n",
      "\u001b[36mlaravel-echo-server_1  |\u001b[0m ✔  Channels are ready.\n",
      "\u001b[36mlaravel-echo-server_1  |\u001b[0m ✔  Listening for http events...\n",
      "\u001b[36mlaravel-echo-server_1  |\u001b[0m ✔  Listening for redis events...\n",
      "\u001b[36mlaravel-echo-server_1  |\u001b[0m \n",
      "\u001b[36mlaravel-echo-server_1  |\u001b[0m Server ready!\n",
      "\u001b[36mlaravel-echo-server_1  |\u001b[0m \n",
      "\u001b[32mwebhook_1              |\u001b[0m 127.0.0.1 -  19/May/2022:07:29:57 +0000 \"GET /index.php\" 200\n",
      "\u001b[32mwebhook_1              |\u001b[0m 127.0.0.1 -  19/May/2022:07:29:58 +0000 \"GET /index.php\" 410\n",
      "\u001b[32mwebhook_1              |\u001b[0m 127.0.0.1 -  19/May/2022:07:29:58 +0000 \"POST /index.php\" 201\n",
      "\u001b[32mwebhook_1              |\u001b[0m 127.0.0.1 -  19/May/2022:07:29:58 +0000 \"POST /index.php\" 201\n",
      "\u001b[32mwebhook_1              |\u001b[0m 127.0.0.1 -  19/May/2022:07:29:58 +0000 \"GET /index.php\" 200\n",
      "\u001b[32mwebhook_1              |\u001b[0m 127.0.0.1 -  19/May/2022:07:29:58 +0000 \"GET /index.php\" 200\n",
      "\u001b[36mlaravel-echo-server_1  |\u001b[0m [7:29:58 AM] - g5qmZdtnm5mwkY0LAAAA joined channel: 0b6bd4f8-f422-475b-b187-64272650fc1a\n",
      "\u001b[32mwebhook_1              |\u001b[0m 127.0.0.1 -  19/May/2022:07:29:58 +0000 \"GET /index.php\" 200\n",
      "\u001b[36mlaravel-echo-server_1  |\u001b[0m [7:29:58 AM] - g5qmZdtnm5mwkY0LAAAA joined channel: fa1a489e-1d94-4eb2-b405-5aae09ca9938\n",
      "\u001b[32mwebhook_1              |\u001b[0m 127.0.0.1 -  19/May/2022:07:29:58 +0000 \"GET /index.php\" 200\n"
     ]
    }
   ],
   "source": [
    "# Start the webhook server on http://127.0.0.1:8084\n",
    "os.system(cmd_webhook)"
   ]
  },
  {
   "cell_type": "markdown",
   "id": "22bdb306-93ea-46e4-9ba1-7846be29ad3c",
   "metadata": {},
   "source": [
    "**Supporting event**:\n",
    "\n",
    "1. Started a server for receiving webhooks.\n",
    "2. Visit the webhook site on http://127.0.0.1:8084 and get a unique url for each agent."
   ]
  },
  {
   "cell_type": "code",
   "execution_count": 9,
   "id": "fd5df34c-4de5-42ec-b7bc-9692284d65b9",
   "metadata": {},
   "outputs": [],
   "source": [
    "web_hook = 'http://127.0.0.1:8084/fa1a489e-1d94-4eb2-b405-5aae09ca9938'"
   ]
  },
  {
   "cell_type": "markdown",
   "id": "84364311-3dfe-4303-9c91-90afdf60a943",
   "metadata": {},
   "source": [
    "### 2.4. Agent configuration"
   ]
  },
  {
   "cell_type": "markdown",
   "id": "dbf7205a-043a-4c8c-b85b-66ea739ff8d1",
   "metadata": {},
   "source": [
    "Each agent instance takes as input a series of options and argument"
   ]
  },
  {
   "cell_type": "code",
   "execution_count": null,
   "id": "8076dcdd-f346-40db-aa97-7af6b662657c",
   "metadata": {},
   "outputs": [],
   "source": [
    "# Bolagsverket's configuration file is\n",
    "!cat ~/Bolagsverket/config_bv.yaml"
   ]
  },
  {
   "cell_type": "code",
   "execution_count": null,
   "id": "264eb764-426e-4aa0-82b8-0636a341941f",
   "metadata": {},
   "outputs": [],
   "source": [
    "# Aktiebolagets's configuration file is\n",
    "!cat ~/Bolagsverket/config_ab.yaml"
   ]
  },
  {
   "cell_type": "code",
   "execution_count": 10,
   "id": "0bd89778-c716-4094-bfba-ceafcfd644fc",
   "metadata": {},
   "outputs": [
    {
     "name": "stdout",
     "output_type": "stream",
     "text": [
      "ACA-Py instance for Bolagsverket running on PID 9000\n",
      "ACA-Py instance for Aktiebolaget running on PID 9003\n"
     ]
    }
   ],
   "source": [
    "# We start the Bolagsverket agent first\n",
    "agent_bv = subprocess.Popen(['aca-py', 'start', '--arg-file', '~/Bolagsverket/config_bv.yaml', '--webhook-url', web_hook])\n",
    "print(f'ACA-Py instance for Bolagsverket running on PID {agent_bv.pid}')\n",
    "\n",
    "# We start the Aktiebolaget agent first\n",
    "agent_ab = subprocess.Popen(['aca-py', 'start', '--arg-file', '~/Bolagsverket/config_ab.yaml'])\n",
    "print(f'ACA-Py instance for Aktiebolaget running on PID {agent_ab.pid}')"
   ]
  },
  {
   "cell_type": "markdown",
   "id": "f4441e4c-730f-47fb-b568-c7fa1841bf3a",
   "metadata": {},
   "source": [
    "**Layer 2 support events:**\n",
    "\n",
    "1. We have started two agent instances\n",
    "    * Bolagsverket agent instance\n",
    "    * Aktiebolag agent instance\n",
    "2. We have setup an administrative interface for both agents\n",
    "    * http://localhost:11000/api/doc for Bolagsverket\n",
    "    * http://localhost:11001/api/doc for Aktiebolaget\n",
    "3. The agents are running in auto mode to the greatest extent possible\n",
    "4. The Bolagsverket agent has registered additional information on the VDR ([link](http://localhost:9000/browse/domain?page=1&query=h2aCQwapPeZtdoHH1VAh6))"
   ]
  },
  {
   "cell_type": "code",
   "execution_count": null,
   "id": "cdbea907-5e2c-4fee-bd7f-6f950ec1c144",
   "metadata": {},
   "outputs": [],
   "source": [
    "# ## CODE FOR KILLING AGENTS\n",
    "# # If you have to kill agent, it is not enough to kill the aca-py process with agent_*.kill(), you have to kill the admin processes too\n",
    "\n",
    "# pid_bv_acapy = !echo 123456 | sudo -S ss -lptn 'sport = :8000'\n",
    "# pid_ab_acapy = !echo 123456 | sudo -S ss -lptn 'sport = :8001'\n",
    "# pid_bv_acapy = (pid_bv_acapy.spstr).split('pid=')[1].split(',',1)[0]\n",
    "# pid_ab_acapy = (pid_ab_acapy.spstr).split('pid=')[1].split(',',1)[0]\n",
    "\n",
    "# !kill {pid_bv_acapy}\n",
    "# !kill {pid_ab_acapy}\n",
    "# agent_bv.kill()\n",
    "# agent_ab.kill()"
   ]
  },
  {
   "cell_type": "markdown",
   "id": "f122c386-9cbc-416f-bf38-fb31c3315b3f",
   "metadata": {},
   "source": [
    "Everything we require is now up and running. Now we can start preparing for the actual agent interactions. As a reminder, we will now publish a schema, definitions, connect the agents, and start credential exchanges."
   ]
  },
  {
   "cell_type": "markdown",
   "id": "830b1c45-e347-419d-ac2c-7dac64cb9869",
   "metadata": {},
   "source": [
    "### 2.5. Publish a credential schema"
   ]
  },
  {
   "cell_type": "code",
   "execution_count": 11,
   "id": "6fc9a5d3-cf6d-4cf8-9884-3ebfe6b2ff78",
   "metadata": {},
   "outputs": [],
   "source": [
    "## The schema data\n",
    "schem_reg = '''{\n",
    "  \"attributes\": [\n",
    "  \"registration_number\",\n",
    "  \"business_name\",\n",
    "  \"address\",\n",
    "  \"registered_office\",\n",
    "  \"signatory_power\",\n",
    "  \"board_members\",\n",
    "  \"board_chair\",\n",
    "  \"share_capital\"\n",
    "  ],\n",
    "  \"schema_name\": \"e-VC-reg\",\n",
    "  \"schema_version\": \"1.0\"\n",
    "}'''\n",
    "header_json = {\"Content-Type\": \"application/json\"}\n",
    "issuer_schema = \"http://localhost:11000/schemas\"\n",
    "\n",
    "## Publish schema\n",
    "r_schema_reg = requests.post(url=issuer_schema, headers=header_json, data=schem_reg)\n",
    "schema_id = r_schema_reg.json()['schema_id'] # We store the schema_id for future use"
   ]
  },
  {
   "cell_type": "markdown",
   "id": "e1156e41-1602-4649-8fca-e23ca5529a8f",
   "metadata": {},
   "source": [
    "The schema is now available at http://localhost:9000/browse/domain?page=1&query=h2aCQwapPeZtdoHH1VAh6"
   ]
  },
  {
   "cell_type": "markdown",
   "id": "0692eae2-5ccf-4137-b158-93086eaebfc4",
   "metadata": {},
   "source": [
    "### 2.6. Publish a credential definition that supports revocation"
   ]
  },
  {
   "cell_type": "code",
   "execution_count": 12,
   "id": "9edda4ee-c438-4671-b033-e307db391fbf",
   "metadata": {},
   "outputs": [
    {
     "data": {
      "text/plain": [
       "'h2aCQwapPeZtdoHH1VAh6:2:e-VC-reg:1.0'"
      ]
     },
     "execution_count": 12,
     "metadata": {},
     "output_type": "execute_result"
    }
   ],
   "source": [
    "schema_id"
   ]
  },
  {
   "cell_type": "code",
   "execution_count": 13,
   "id": "4b0695d8-c067-4d4e-a387-99b153a2e7df",
   "metadata": {},
   "outputs": [
    {
     "name": "stdout",
     "output_type": "stream",
     "text": [
      "\u001b[32mwebhook_1              |\u001b[0m 127.0.0.1 -  19/May/2022:07:31:29 +0000 \"POST /index.php\" 200\n",
      "\u001b[32mwebhook_1              |\u001b[0m 127.0.0.1 -  19/May/2022:07:31:29 +0000 \"POST /index.php\" 200\n",
      "\u001b[32mwebhook_1              |\u001b[0m [2022-05-19 07:31:29] Processing: App\\Events\\RequestCreated\n",
      "\u001b[36mlaravel-echo-server_1  |\u001b[0m Channel: fa1a489e-1d94-4eb2-b405-5aae09ca9938\n",
      "\u001b[36mlaravel-echo-server_1  |\u001b[0m Event: request.created\n",
      "\u001b[32mwebhook_1              |\u001b[0m [2022-05-19 07:31:29] Processed:  App\\Events\\RequestCreated\n",
      "\u001b[32mwebhook_1              |\u001b[0m [2022-05-19 07:31:29] Processing: App\\Events\\RequestCreated\n",
      "\u001b[32mwebhook_1              |\u001b[0m [2022-05-19 07:31:29] Processed:  App\\Events\\RequestCreated\n",
      "\u001b[36mlaravel-echo-server_1  |\u001b[0m CHANNEL fa1a489e-1d94-4eb2-b405-5aae09ca9938\n",
      "\u001b[36mlaravel-echo-server_1  |\u001b[0m Channel: fa1a489e-1d94-4eb2-b405-5aae09ca9938\n",
      "\u001b[36mlaravel-echo-server_1  |\u001b[0m Event: request.created\n",
      "\u001b[36mlaravel-echo-server_1  |\u001b[0m CHANNEL fa1a489e-1d94-4eb2-b405-5aae09ca9938\n",
      "\u001b[32mwebhook_1              |\u001b[0m 127.0.0.1 -  19/May/2022:07:31:32 +0000 \"POST /index.php\" 200\n",
      "\u001b[32mwebhook_1              |\u001b[0m [2022-05-19 07:31:32] Processing: App\\Events\\RequestCreated\n",
      "\u001b[36mlaravel-echo-server_1  |\u001b[0m Channel: fa1a489e-1d94-4eb2-b405-5aae09ca9938\n",
      "\u001b[36mlaravel-echo-server_1  |\u001b[0m Event: request.created\n",
      "\u001b[36mlaravel-echo-server_1  |\u001b[0m CHANNEL fa1a489e-1d94-4eb2-b405-5aae09ca9938\n",
      "\u001b[32mwebhook_1              |\u001b[0m [2022-05-19 07:31:32] Processed:  App\\Events\\RequestCreated\n",
      "\u001b[32mwebhook_1              |\u001b[0m 127.0.0.1 -  19/May/2022:07:31:35 +0000 \"POST /index.php\" 200\n",
      "\u001b[32mwebhook_1              |\u001b[0m 127.0.0.1 -  19/May/2022:07:31:35 +0000 \"POST /index.php\" 200\n",
      "\u001b[32mwebhook_1              |\u001b[0m 127.0.0.1 -  19/May/2022:07:31:35 +0000 \"POST /index.php\" 200\n",
      "\u001b[32mwebhook_1              |\u001b[0m [2022-05-19 07:31:35] Processing: App\\Events\\RequestCreated\n",
      "\u001b[36mlaravel-echo-server_1  |\u001b[0m Channel: fa1a489e-1d94-4eb2-b405-5aae09ca9938\n",
      "\u001b[36mlaravel-echo-server_1  |\u001b[0m Event: request.created\n",
      "\u001b[36mlaravel-echo-server_1  |\u001b[0m CHANNEL fa1a489e-1d94-4eb2-b405-5aae09ca9938\n",
      "\u001b[32mwebhook_1              |\u001b[0m [2022-05-19 07:31:35] Processed:  App\\Events\\RequestCreated\n",
      "\u001b[32mwebhook_1              |\u001b[0m [2022-05-19 07:31:35] Processing: App\\Events\\RequestCreated\n",
      "\u001b[32mwebhook_1              |\u001b[0m [2022-05-19 07:31:35] Processed:  App\\Events\\RequestCreated\n",
      "\u001b[36mlaravel-echo-server_1  |\u001b[0m Channel: fa1a489e-1d94-4eb2-b405-5aae09ca9938\n",
      "\u001b[36mlaravel-echo-server_1  |\u001b[0m Event: request.created\n",
      "\u001b[36mlaravel-echo-server_1  |\u001b[0m CHANNEL fa1a489e-1d94-4eb2-b405-5aae09ca9938\n",
      "\u001b[32mwebhook_1              |\u001b[0m [2022-05-19 07:31:35] Processing: App\\Events\\RequestCreated\n",
      "\u001b[32mwebhook_1              |\u001b[0m [2022-05-19 07:31:35] Processed:  App\\Events\\RequestCreated\n",
      "\u001b[36mlaravel-echo-server_1  |\u001b[0m Channel: fa1a489e-1d94-4eb2-b405-5aae09ca9938\n",
      "\u001b[36mlaravel-echo-server_1  |\u001b[0m Event: request.created\n",
      "\u001b[36mlaravel-echo-server_1  |\u001b[0m CHANNEL fa1a489e-1d94-4eb2-b405-5aae09ca9938\n",
      "\u001b[32mwebhook_1              |\u001b[0m 127.0.0.1 -  19/May/2022:07:31:38 +0000 \"POST /index.php\" 200\n",
      "\u001b[32mwebhook_1              |\u001b[0m [2022-05-19 07:31:38] Processing: App\\Events\\RequestCreated\n",
      "\u001b[32mwebhook_1              |\u001b[0m [2022-05-19 07:31:38] Processed:  App\\Events\\RequestCreated\n",
      "\u001b[36mlaravel-echo-server_1  |\u001b[0m Channel: fa1a489e-1d94-4eb2-b405-5aae09ca9938\n",
      "\u001b[36mlaravel-echo-server_1  |\u001b[0m Event: request.created\n",
      "\u001b[36mlaravel-echo-server_1  |\u001b[0m CHANNEL fa1a489e-1d94-4eb2-b405-5aae09ca9938\n",
      "\u001b[32mwebhook_1              |\u001b[0m 127.0.0.1 -  19/May/2022:07:31:41 +0000 \"POST /index.php\" 200\n"
     ]
    },
    {
     "data": {
      "text/plain": [
       "{'credential_definition_id': 'h2aCQwapPeZtdoHH1VAh6:3:CL:8:default'}"
      ]
     },
     "execution_count": 13,
     "metadata": {},
     "output_type": "execute_result"
    },
    {
     "name": "stdout",
     "output_type": "stream",
     "text": [
      "\u001b[32mwebhook_1              |\u001b[0m [2022-05-19 07:31:41] Processing: App\\Events\\RequestCreated\n",
      "\u001b[36mlaravel-echo-server_1  |\u001b[0m Channel: fa1a489e-1d94-4eb2-b405-5aae09ca9938\n",
      "\u001b[36mlaravel-echo-server_1  |\u001b[0m Event: request.created\n",
      "\u001b[36mlaravel-echo-server_1  |\u001b[0m CHANNEL fa1a489e-1d94-4eb2-b405-5aae09ca9938\n",
      "\u001b[32mwebhook_1              |\u001b[0m [2022-05-19 07:31:41] Processed:  App\\Events\\RequestCreated\n"
     ]
    }
   ],
   "source": [
    "## The cred def data. Takes about 15 seconds.\n",
    "cred_def_reg = '''{\n",
    "  \"schema_id\": \"h2aCQwapPeZtdoHH1VAh6:2:e-VC-reg:1.0\",\n",
    "  \"tag\": \"default\",\n",
    "  \"revocation_registry_size\": 15,\n",
    "  \"support_revocation\": true\n",
    "  }'''\n",
    "\n",
    "header_json_cred_def = {\n",
    "    \"accept\": \"application/json\",\n",
    "    \"Content-Type\": \"application/json\"\n",
    "}\n",
    "\n",
    "issuer_cred_def = \"http://localhost:11000/credential-definitions\"\n",
    "\n",
    "## Publish cred_def\n",
    "r_cred_def_reg = requests.post(url=issuer_cred_def, headers=header_json_cred_def, data=cred_def_reg)\n",
    "r_cred_def_reg.json()"
   ]
  },
  {
   "cell_type": "code",
   "execution_count": 14,
   "id": "41a20051-3849-4d41-ba76-c29491173ced",
   "metadata": {},
   "outputs": [],
   "source": [
    "cred_def_id = r_cred_def_reg.json()['credential_definition_id'] # We store the cred_def_id for future use"
   ]
  },
  {
   "cell_type": "markdown",
   "id": "8cb3ca87-57f2-469c-8615-0cb9aff3a1c2",
   "metadata": {},
   "source": [
    "The `cred_def_id` is now available at http://localhost:9000/browse/domain?page=1&query=h2aCQwapPeZtdoHH1VAh6"
   ]
  },
  {
   "cell_type": "markdown",
   "id": "a01cfce4-ee61-4920-98ab-d9a02d71ec70",
   "metadata": {},
   "source": [
    "### 2.7. A connection between agents"
   ]
  },
  {
   "cell_type": "code",
   "execution_count": 15,
   "id": "971c96b6-27b5-484a-be75-1f084dc64ea2",
   "metadata": {},
   "outputs": [
    {
     "data": {
      "text/plain": [
       "<Response [200]>"
      ]
     },
     "execution_count": 15,
     "metadata": {},
     "output_type": "execute_result"
    },
    {
     "name": "stdout",
     "output_type": "stream",
     "text": [
      "\u001b[32mwebhook_1              |\u001b[0m 127.0.0.1 -  19/May/2022:07:33:09 +0000 \"POST /index.php\" 200\n",
      "\u001b[32mwebhook_1              |\u001b[0m 127.0.0.1 -  19/May/2022:07:33:09 +0000 \"POST /index.php\" 200\n",
      "\u001b[32mwebhook_1              |\u001b[0m 127.0.0.1 -  19/May/2022:07:33:09 +0000 \"POST /index.php\" 200\n",
      "\u001b[32mwebhook_1              |\u001b[0m 127.0.0.1 -  19/May/2022:07:33:09 +0000 \"POST /index.php\" 200\n"
     ]
    }
   ],
   "source": [
    "url_connection_req = 'http://localhost:11001/didexchange/create-request?their_public_did=h2aCQwapPeZtdoHH1VAh6'\n",
    "data_connection_req = ''\n",
    "\n",
    "requests.post(url=url_connection_req, headers={\"Content-Type\": \"application/json\"}, data=data_connection_req)"
   ]
  },
  {
   "cell_type": "code",
   "execution_count": 16,
   "id": "a57d8e74-f94f-4f8c-9854-6e827e0976e6",
   "metadata": {},
   "outputs": [
    {
     "name": "stdout",
     "output_type": "stream",
     "text": [
      "\u001b[32mwebhook_1              |\u001b[0m [2022-05-19 07:33:12] Processing: App\\Events\\RequestCreated\n",
      "\u001b[36mlaravel-echo-server_1  |\u001b[0m Channel: fa1a489e-1d94-4eb2-b405-5aae09ca9938\n",
      "\u001b[36mlaravel-echo-server_1  |\u001b[0m Event: request.created\n",
      "\u001b[36mlaravel-echo-server_1  |\u001b[0m CHANNEL fa1a489e-1d94-4eb2-b405-5aae09ca9938\n",
      "\u001b[32mwebhook_1              |\u001b[0m [2022-05-19 07:33:12] Processed:  App\\Events\\RequestCreated\n",
      "\u001b[32mwebhook_1              |\u001b[0m [2022-05-19 07:33:12] Processing: App\\Events\\RequestCreated\n",
      "\u001b[36mlaravel-echo-server_1  |\u001b[0m Channel: fa1a489e-1d94-4eb2-b405-5aae09ca9938\n",
      "\u001b[36mlaravel-echo-server_1  |\u001b[0m Event: request.created\n",
      "\u001b[36mlaravel-echo-server_1  |\u001b[0m CHANNEL fa1a489e-1d94-4eb2-b405-5aae09ca9938\n",
      "\u001b[32mwebhook_1              |\u001b[0m [2022-05-19 07:33:12] Processed:  App\\Events\\RequestCreated\n",
      "\u001b[32mwebhook_1              |\u001b[0m [2022-05-19 07:33:12] Processing: App\\Events\\RequestCreated\n",
      "Bolagsverket has the following connection ID(s) to Aktiebolaget:\n",
      "['6b0dc55a-f301-4a3e-9e96-8a37bee42a6c']\n",
      "\n",
      "Aktiebolaget has the following connection ID(s) to Bolagsverket:\n",
      "['bb69fbca-16a0-47dc-823c-68d7395da88c']\n",
      "\u001b[36mlaravel-echo-server_1  |\u001b[0m Channel: fa1a489e-1d94-4eb2-b405-5aae09ca9938\n",
      "\u001b[36mlaravel-echo-server_1  |\u001b[0m Event: request.created\n",
      "\u001b[36mlaravel-echo-server_1  |\u001b[0m CHANNEL fa1a489e-1d94-4eb2-b405-5aae09ca9938\n",
      "\u001b[32mwebhook_1              |\u001b[0m [2022-05-19 07:33:12] Processed:  App\\Events\\RequestCreated\n",
      "\u001b[36mlaravel-echo-server_1  |\u001b[0m Channel: fa1a489e-1d94-4eb2-b405-5aae09ca9938\n",
      "\u001b[36mlaravel-echo-server_1  |\u001b[0m Event: request.created\n",
      "\u001b[32mwebhook_1              |\u001b[0m [2022-05-19 07:33:12] Processing: App\\Events\\RequestCreated\n",
      "\u001b[36mlaravel-echo-server_1  |\u001b[0m CHANNEL fa1a489e-1d94-4eb2-b405-5aae09ca9938\n",
      "\u001b[32mwebhook_1              |\u001b[0m [2022-05-19 07:33:12] Processed:  App\\Events\\RequestCreated\n"
     ]
    }
   ],
   "source": [
    "connections_active_bv = requests.get(url='http://localhost:11000/connections', headers={'accept': 'application/json'})\n",
    "connections_identifiers_bv = [connections_active_bv.json()['results'][i]['connection_id'] for i in range(len(connections_active_bv.json()['results']))]\n",
    "\n",
    "connections_active_ab = requests.get(url='http://localhost:11001/connections', headers={'accept': 'application/json'})\n",
    "connections_identifiers_ab = [connections_active_ab.json()['results'][i]['connection_id'] for i in range(len(connections_active_ab.json()['results']))]\n",
    "\n",
    "print(f'Bolagsverket has the following connection ID(s) to Aktiebolaget:\\n{connections_identifiers_bv}')\n",
    "print(f'\\nAktiebolaget has the following connection ID(s) to Bolagsverket:\\n{connections_identifiers_ab}')"
   ]
  },
  {
   "cell_type": "code",
   "execution_count": null,
   "id": "46357ab8-0ac8-4ed1-8632-288a7fa00c84",
   "metadata": {
    "tags": []
   },
   "outputs": [],
   "source": [
    "# connection_id_ab = !curl -X GET \"http://localhost:11001/connections\" -H  \"accept: application/json\" | jq | grep '\"connection_id\":'\n",
    "# connection_id_ab = (connection_id_ab.spstr).split('connection_id\":',1)[1].split(\" \",1)[1].split('\"',1)[1].split('\"',-1)[0]\n",
    "\n",
    "# connection_id_bv = !curl -X GET \"http://localhost:11000/connections\" -H  \"accept: application/json\" | jq | grep '\"connection_id\":'\n",
    "# connection_id_bv = (connection_id_bv.spstr).split('connection_id\":',1)[1].split(\" \",1)[1].split('\"',1)[1].split('\"',-1)[0]\n",
    "\n",
    "# assert connection_id_ab != connection_id_bv"
   ]
  },
  {
   "cell_type": "markdown",
   "id": "6fee9af2-b16d-468b-9770-ee9aaca5c34a",
   "metadata": {},
   "source": [
    "**Layer 2 event**\n",
    "\n",
    "1. The two agents are now connected and ready to exchange data"
   ]
  },
  {
   "cell_type": "markdown",
   "id": "7666f22d-0c37-4ad2-bbaf-6b8f6f0eafb2",
   "metadata": {},
   "source": [
    "### 2.8. The Verifiable Credential exchange"
   ]
  },
  {
   "cell_type": "code",
   "execution_count": 18,
   "id": "bfb049d6-e2cd-4db6-9fb6-953b758abf53",
   "metadata": {},
   "outputs": [
    {
     "name": "stdout",
     "output_type": "stream",
     "text": [
      "{\n",
      "  \"auto_issue\": false,\n",
      "  \"auto_offer\": false,\n",
      "  \"auto_remove\": false,\n",
      "  \"by_format\": {\n",
      "    \"cred_proposal\": {\n",
      "      \"indy\": {}\n",
      "    }\n",
      "  },\n",
      "  \"connection_id\": \"bb69fbca-16a0-47dc-823c-68d7395da88c\",\n",
      "  \"created_at\": \"2022-05-19T07:34:11.695513Z\",\n",
      "  \"cred_ex_id\": \"af7281d8-a2f5-4fd8-a365-46d332d22cea\",\n",
      "  \"cred_preview\": {\n",
      "    \"@type\": \"did:sov:BzCbsNYhMrjHiqZDTUASHg;spec/issue-credential/2.0/credential-preview\",\n",
      "    \"attributes\": [\n",
      "      {\n",
      "        \"mime-type\": \"text/plain\",\n",
      "        \"name\": \"share_capital\",\n",
      "        \"value\": \"KSEK 50\"\n",
      "      },\n",
      "      {\n",
      "        \"mime-type\": \"text/plain\",\n",
      "        \"name\": \"registration_number\",\n",
      "        \"value\": \"556907-XXXX\"\n",
      "      },\n",
      "      {\n",
      "        \"mime-type\": \"text/plain\",\n",
      "        \"name\": \"board_chair\",\n",
      "        \"value\": \"820726-2398 Al Samed, Mohamed, Stj\\u00e4rnall\\u00e9n 40, 851 81 SUNDSVALL\"\n",
      "      },\n",
      "      {\n",
      "        \"mime-type\": \"text/plain\",\n",
      "        \"name\": \"board_members\",\n",
      "        \"value\": \"8207728-2397 Andersson, Filip, Atmosf\\u00e4rstigen 20, 851 81 SUNDSVALL\"\n",
      "      },\n",
      "      {\n",
      "        \"mime-type\": \"text/plain\",\n",
      "        \"name\": \"signatory_power\",\n",
      "        \"value\": \"The board of directors is entitled to sign on behalf of the company. Signatory power individually by the board members.\"\n",
      "      },\n",
      "      {\n",
      "        \"mime-type\": \"text/plain\",\n",
      "        \"name\": \"business_name\",\n",
      "        \"value\": \"F\\u00f6retaget i Sundsvall Aktiebolag\"\n",
      "      },\n",
      "      {\n",
      "        \"mime-type\": \"text/plain\",\n",
      "        \"name\": \"address\",\n",
      "        \"value\": \"Norrskensv\\u00e4gen 12, 851 81 SUNDSVALL\"\n",
      "      },\n",
      "      {\n",
      "        \"mime-type\": \"text/plain\",\n",
      "        \"name\": \"registered_office\",\n",
      "        \"value\": \"Sundsvall\"\n",
      "      }\n",
      "    ]\n",
      "  },\n",
      "  \"cred_proposal\": {\n",
      "    \"@id\": \"2f20730c-2dae-44ed-8d8b-96242277d6fa\",\n",
      "    \"@type\": \"did:sov:BzCbsNYhMrjHiqZDTUASHg;spec/issue-credential/2.0/propose-credential\",\n",
      "    \"comment\": \"I want a company registration VC\",\n",
      "    \"credential_preview\": {\n",
      "      \"@type\": \"did:sov:BzCbsNYhMrjHiqZDTUASHg;spec/issue-credential/2.0/credential-preview\",\n",
      "      \"attributes\": [\n",
      "        {\n",
      "          \"mime-type\": \"text/plain\",\n",
      "          \"name\": \"share_capital\",\n",
      "          \"value\": \"KSEK 50\"\n",
      "        },\n",
      "        {\n",
      "          \"mime-type\": \"text/plain\",\n",
      "          \"name\": \"registration_number\",\n",
      "          \"value\": \"556907-XXXX\"\n",
      "        },\n",
      "        {\n",
      "          \"mime-type\": \"text/plain\",\n",
      "          \"name\": \"board_chair\",\n",
      "          \"value\": \"820726-2398 Al Samed, Mohamed, Stj\\u00e4rnall\\u00e9n 40, 851 81 SUNDSVALL\"\n",
      "        },\n",
      "        {\n",
      "          \"mime-type\": \"text/plain\",\n",
      "          \"name\": \"board_members\",\n",
      "          \"value\": \"8207728-2397 Andersson, Filip, Atmosf\\u00e4rstigen 20, 851 81 SUNDSVALL\"\n",
      "        },\n",
      "        {\n",
      "          \"mime-type\": \"text/plain\",\n",
      "          \"name\": \"signatory_power\",\n",
      "          \"value\": \"The board of directors is entitled to sign on behalf of the company. Signatory power individually by the board members.\"\n",
      "        },\n",
      "        {\n",
      "          \"mime-type\": \"text/plain\",\n",
      "          \"name\": \"business_name\",\n",
      "          \"value\": \"F\\u00f6retaget i Sundsvall Aktiebolag\"\n",
      "        },\n",
      "        {\n",
      "          \"mime-type\": \"text/plain\",\n",
      "          \"name\": \"address\",\n",
      "          \"value\": \"Norrskensv\\u00e4gen 12, 851 81 SUNDSVALL\"\n",
      "        },\n",
      "        {\n",
      "          \"mime-type\": \"text/plain\",\n",
      "          \"name\": \"registered_office\",\n",
      "          \"value\": \"Sundsvall\"\n",
      "        }\n",
      "      ]\n",
      "    },\n",
      "    \"filters~attach\": [\n",
      "      {\n",
      "        \"@id\": \"indy\",\n",
      "        \"data\": {\n",
      "          \"base64\": \"e30=\"\n",
      "        },\n",
      "        \"mime-type\": \"application/json\"\n",
      "      }\n",
      "    ],\n",
      "    \"formats\": [\n",
      "      {\n",
      "        \"attach_id\": \"indy\",\n",
      "        \"format\": \"hlindy/cred-filter@v2.0\"\n",
      "      }\n",
      "    ]\n",
      "  },\n",
      "  \"initiator\": \"self\",\n",
      "  \"role\": \"holder\",\n",
      "  \"state\": \"proposal-sent\",\n",
      "  \"thread_id\": \"2f20730c-2dae-44ed-8d8b-96242277d6fa\",\n",
      "  \"updated_at\": \"2022-05-19T07:34:11.695513Z\"\n",
      "}\n",
      "\u001b[32mwebhook_1              |\u001b[0m 127.0.0.1 -  19/May/2022:07:34:11 +0000 \"POST /index.php\" 200\n",
      "\u001b[32mwebhook_1              |\u001b[0m 127.0.0.1 -  19/May/2022:07:34:11 +0000 \"POST /index.php\" 200\n",
      "\u001b[32mwebhook_1              |\u001b[0m 127.0.0.1 -  19/May/2022:07:34:11 +0000 \"POST /index.php\" 200\n",
      "\u001b[32mwebhook_1              |\u001b[0m 127.0.0.1 -  19/May/2022:07:34:12 +0000 \"POST /index.php\" 200\n",
      "\u001b[32mwebhook_1              |\u001b[0m 127.0.0.1 -  19/May/2022:07:34:12 +0000 \"POST /index.php\" 200\n",
      "\u001b[32mwebhook_1              |\u001b[0m 127.0.0.1 -  19/May/2022:07:34:12 +0000 \"POST /index.php\" 200\n",
      "\u001b[32mwebhook_1              |\u001b[0m 127.0.0.1 -  19/May/2022:07:34:12 +0000 \"POST /index.php\" 200\n",
      "\u001b[32mwebhook_1              |\u001b[0m [2022-05-19 07:34:12] Processing: App\\Events\\RequestCreated\n",
      "\u001b[36mlaravel-echo-server_1  |\u001b[0m Channel: fa1a489e-1d94-4eb2-b405-5aae09ca9938\n",
      "\u001b[36mlaravel-echo-server_1  |\u001b[0m Event: request.created\n",
      "\u001b[36mlaravel-echo-server_1  |\u001b[0m CHANNEL fa1a489e-1d94-4eb2-b405-5aae09ca9938\n",
      "\u001b[32mwebhook_1              |\u001b[0m [2022-05-19 07:34:12] Processed:  App\\Events\\RequestCreated\n",
      "\u001b[32mwebhook_1              |\u001b[0m [2022-05-19 07:34:12] Processing: App\\Events\\RequestCreated\n",
      "\u001b[36mlaravel-echo-server_1  |\u001b[0m Channel: fa1a489e-1d94-4eb2-b405-5aae09ca9938\n",
      "\u001b[36mlaravel-echo-server_1  |\u001b[0m Event: request.created\n",
      "\u001b[32mwebhook_1              |\u001b[0m [2022-05-19 07:34:12] Processed:  App\\Events\\RequestCreated\n",
      "\u001b[36mlaravel-echo-server_1  |\u001b[0m CHANNEL fa1a489e-1d94-4eb2-b405-5aae09ca9938\n",
      "\u001b[32mwebhook_1              |\u001b[0m [2022-05-19 07:34:12] Processing: App\\Events\\RequestCreated\n",
      "\u001b[36mlaravel-echo-server_1  |\u001b[0m Channel: fa1a489e-1d94-4eb2-b405-5aae09ca9938\n",
      "\u001b[36mlaravel-echo-server_1  |\u001b[0m Event: request.created\n",
      "\u001b[32mwebhook_1              |\u001b[0m [2022-05-19 07:34:12] Processed:  App\\Events\\RequestCreated\n",
      "\u001b[36mlaravel-echo-server_1  |\u001b[0m CHANNEL fa1a489e-1d94-4eb2-b405-5aae09ca9938\n",
      "\u001b[32mwebhook_1              |\u001b[0m [2022-05-19 07:34:12] Processing: App\\Events\\RequestCreated\n",
      "\u001b[32mwebhook_1              |\u001b[0m [2022-05-19 07:34:12] Processed:  App\\Events\\RequestCreated\n",
      "\u001b[36mlaravel-echo-server_1  |\u001b[0m Channel: fa1a489e-1d94-4eb2-b405-5aae09ca9938\n",
      "\u001b[36mlaravel-echo-server_1  |\u001b[0m Event: request.created\n",
      "\u001b[32mwebhook_1              |\u001b[0m [2022-05-19 07:34:12] Processing: App\\Events\\RequestCreated\n",
      "\u001b[32mwebhook_1              |\u001b[0m [2022-05-19 07:34:12] Processed:  App\\Events\\RequestCreated\n",
      "\u001b[36mlaravel-echo-server_1  |\u001b[0m CHANNEL fa1a489e-1d94-4eb2-b405-5aae09ca9938\n",
      "\u001b[36mlaravel-echo-server_1  |\u001b[0m Channel: fa1a489e-1d94-4eb2-b405-5aae09ca9938\n",
      "\u001b[36mlaravel-echo-server_1  |\u001b[0m Event: request.created\n",
      "\u001b[36mlaravel-echo-server_1  |\u001b[0m CHANNEL fa1a489e-1d94-4eb2-b405-5aae09ca9938\n",
      "\u001b[32mwebhook_1              |\u001b[0m [2022-05-19 07:34:12] Processing: App\\Events\\RequestCreated\n",
      "\u001b[36mlaravel-echo-server_1  |\u001b[0m Channel: fa1a489e-1d94-4eb2-b405-5aae09ca9938\n",
      "\u001b[32mwebhook_1              |\u001b[0m [2022-05-19 07:34:12] Processed:  App\\Events\\RequestCreated\n",
      "\u001b[36mlaravel-echo-server_1  |\u001b[0m Event: request.created\n",
      "\u001b[36mlaravel-echo-server_1  |\u001b[0m CHANNEL fa1a489e-1d94-4eb2-b405-5aae09ca9938\n",
      "\u001b[32mwebhook_1              |\u001b[0m [2022-05-19 07:34:12] Processing: App\\Events\\RequestCreated\n",
      "\u001b[32mwebhook_1              |\u001b[0m [2022-05-19 07:34:12] Processed:  App\\Events\\RequestCreated\n",
      "\u001b[36mlaravel-echo-server_1  |\u001b[0m Channel: fa1a489e-1d94-4eb2-b405-5aae09ca9938\n",
      "\u001b[36mlaravel-echo-server_1  |\u001b[0m Event: request.created\n",
      "\u001b[36mlaravel-echo-server_1  |\u001b[0m CHANNEL fa1a489e-1d94-4eb2-b405-5aae09ca9938\n"
     ]
    }
   ],
   "source": [
    "#Aktiebolaget does this \n",
    "# Copy the Aktiebolaget's connection ID to connection_id\n",
    "\n",
    "holder_vc_req = \"http://localhost:11001/issue-credential-2.0/send-proposal\"\n",
    "vc_req_data = '''{\n",
    "  \"comment\": \"I want a company registration VC\",\n",
    "  \"connection_id\": \"bb69fbca-16a0-47dc-823c-68d7395da88c\",\n",
    "  \"credential_preview\": {\n",
    "    \"@type\": \"issue-credential/2.0/credential-preview\",\n",
    "    \"attributes\": [\n",
    "       {\n",
    "        \"mime-type\": \"text/plain\",\n",
    "        \"name\": \"share_capital\", \n",
    "        \"value\": \"KSEK 50\"\n",
    "      },\n",
    "       {\n",
    "        \"mime-type\": \"text/plain\",\n",
    "        \"name\": \"registration_number\", \n",
    "        \"value\": \"556907-XXXX\"\n",
    "      },\n",
    "      {\n",
    "        \"mime-type\": \"text/plain\",\n",
    "        \"name\": \"board_chair\", \n",
    "        \"value\": \"820726-2398 Al Samed, Mohamed, Stjärnallén 40, 851 81 SUNDSVALL\"\n",
    "      },\n",
    "      {\n",
    "        \"mime-type\": \"text/plain\",\n",
    "        \"name\": \"board_members\", \n",
    "        \"value\": \"8207728-2397 Andersson, Filip, Atmosfärstigen 20, 851 81 SUNDSVALL\"\n",
    "      },\n",
    "      {\n",
    "        \"mime-type\": \"text/plain\",\n",
    "        \"name\": \"signatory_power\", \n",
    "        \"value\": \"The board of directors is entitled to sign on behalf of the company. Signatory power individually by the board members.\"\n",
    "      },\n",
    "      {\n",
    "        \"mime-type\": \"text/plain\",\n",
    "        \"name\": \"business_name\", \n",
    "        \"value\": \"Företaget i Sundsvall Aktiebolag\"\n",
    "      },\n",
    "      {\n",
    "        \"mime-type\": \"text/plain\",\n",
    "        \"name\": \"address\", \n",
    "        \"value\": \"Norrskensvägen 12, 851 81 SUNDSVALL\"\n",
    "      },\n",
    "      {\n",
    "        \"mime-type\": \"text/plain\",\n",
    "        \"name\": \"registered_office\", \n",
    "        \"value\": \"Sundsvall\"\n",
    "      }\n",
    "    ]\n",
    "  },                              \n",
    "  \"filter\": {                          \n",
    "    \"indy\": {}\n",
    "  }    \n",
    "}'''\n",
    "\n",
    "## Publish cred_def\n",
    "r_vc = requests.post(url=holder_vc_req, headers=header_json_cred_def, json=json.loads(vc_req_data))\n",
    "print(json.dumps(r_vc.json(),indent=2, sort_keys=True))"
   ]
  },
  {
   "cell_type": "code",
   "execution_count": 19,
   "id": "1f8dca7a-eb23-4291-83e4-221f2d939137",
   "metadata": {},
   "outputs": [
    {
     "name": "stdout",
     "output_type": "stream",
     "text": [
      "  % Total    % Received % Xferd  Average Speed   Time    Time     Time  Current\n",
      "                                 Dload  Upload   Total   Spent    Left  Speed\n",
      "100   869  100   869    0     0   141k      0 --:--:-- --:--:-- --:--:--  141k\n",
      "\u001b[1;39m{\n",
      "  \u001b[0m\u001b[34;1m\"results\"\u001b[0m\u001b[1;39m: \u001b[0m\u001b[1;39m[\n",
      "    \u001b[1;39m{\n",
      "      \u001b[0m\u001b[34;1m\"referent\"\u001b[0m\u001b[1;39m: \u001b[0m\u001b[0;32m\"5e7dafe0-3938-4ad8-bc5d-3679872ab012\"\u001b[0m\u001b[1;39m,\n",
      "      \u001b[0m\u001b[34;1m\"attrs\"\u001b[0m\u001b[1;39m: \u001b[0m\u001b[1;39m{\n",
      "        \u001b[0m\u001b[34;1m\"address\"\u001b[0m\u001b[1;39m: \u001b[0m\u001b[0;32m\"Norrskensvägen 12, 851 81 SUNDSVALL\"\u001b[0m\u001b[1;39m,\n",
      "        \u001b[0m\u001b[34;1m\"board_chair\"\u001b[0m\u001b[1;39m: \u001b[0m\u001b[0;32m\"820726-2398 Al Samed, Mohamed, Stjärnallén 40, 851 81 SUNDSVALL\"\u001b[0m\u001b[1;39m,\n",
      "        \u001b[0m\u001b[34;1m\"signatory_power\"\u001b[0m\u001b[1;39m: \u001b[0m\u001b[0;32m\"The board of directors is entitled to sign on behalf of the company. Signatory power individually by the board members.\"\u001b[0m\u001b[1;39m,\n",
      "        \u001b[0m\u001b[34;1m\"business_name\"\u001b[0m\u001b[1;39m: \u001b[0m\u001b[0;32m\"Företaget i Sundsvall Aktiebolag\"\u001b[0m\u001b[1;39m,\n",
      "        \u001b[0m\u001b[34;1m\"board_members\"\u001b[0m\u001b[1;39m: \u001b[0m\u001b[0;32m\"8207728-2397 Andersson, Filip, Atmosfärstigen 20, 851 81 SUNDSVALL\"\u001b[0m\u001b[1;39m,\n",
      "        \u001b[0m\u001b[34;1m\"registration_number\"\u001b[0m\u001b[1;39m: \u001b[0m\u001b[0;32m\"556907-XXXX\"\u001b[0m\u001b[1;39m,\n",
      "        \u001b[0m\u001b[34;1m\"registered_office\"\u001b[0m\u001b[1;39m: \u001b[0m\u001b[0;32m\"Sundsvall\"\u001b[0m\u001b[1;39m,\n",
      "        \u001b[0m\u001b[34;1m\"share_capital\"\u001b[0m\u001b[1;39m: \u001b[0m\u001b[0;32m\"KSEK 50\"\u001b[0m\u001b[1;39m\n",
      "      \u001b[1;39m}\u001b[0m\u001b[1;39m,\n",
      "      \u001b[0m\u001b[34;1m\"schema_id\"\u001b[0m\u001b[1;39m: \u001b[0m\u001b[0;32m\"h2aCQwapPeZtdoHH1VAh6:2:e-VC-reg:1.0\"\u001b[0m\u001b[1;39m,\n",
      "      \u001b[0m\u001b[34;1m\"cred_def_id\"\u001b[0m\u001b[1;39m: \u001b[0m\u001b[0;32m\"h2aCQwapPeZtdoHH1VAh6:3:CL:8:default\"\u001b[0m\u001b[1;39m,\n",
      "      \u001b[0m\u001b[34;1m\"rev_reg_id\"\u001b[0m\u001b[1;39m: \u001b[0m\u001b[0;32m\"h2aCQwapPeZtdoHH1VAh6:4:h2aCQwapPeZtdoHH1VAh6:3:CL:8:default:CL_ACCUM:3f1574a6-7f48-4b45-a4d7-5833c5597bd3\"\u001b[0m\u001b[1;39m,\n",
      "      \u001b[0m\u001b[34;1m\"cred_rev_id\"\u001b[0m\u001b[1;39m: \u001b[0m\u001b[0;32m\"1\"\u001b[0m\u001b[1;39m\n",
      "    \u001b[1;39m}\u001b[0m\u001b[1;39m\n",
      "  \u001b[1;39m]\u001b[0m\u001b[1;39m\n",
      "\u001b[1;39m}\u001b[0m\n"
     ]
    }
   ],
   "source": [
    "!curl -X 'GET' \\\n",
    "  'http://localhost:11001/credentials' \\\n",
    "  -H 'accept: application/json' | jq"
   ]
  },
  {
   "cell_type": "code",
   "execution_count": 20,
   "id": "cdcef37a-bc9c-4981-a243-77e99e407a47",
   "metadata": {},
   "outputs": [
    {
     "data": {
      "text/plain": [
       "['5e7dafe0-3938-4ad8-bc5d-3679872ab012']"
      ]
     },
     "execution_count": 20,
     "metadata": {},
     "output_type": "execute_result"
    }
   ],
   "source": [
    "holder_credentials = requests.get(url='http://localhost:11001/credentials', headers={\"Content-Type\": \"application/json\"})\n",
    "holder_credential_ids = [holder_credentials.json()['results'][i]['referent'] for i in range(len(holder_credentials.json()['results']))]\n",
    "holder_credential_ids"
   ]
  },
  {
   "cell_type": "markdown",
   "id": "55681695-561c-471b-8909-c4c650b4032f",
   "metadata": {},
   "source": [
    "**Layer 3 event**\n",
    "\n",
    "1. The Aktiebolaget agent instance proposed a verifiable credential issuance\n",
    "2. The Bolagsverket agent instance received input from the controller to simply issue everything according to the input. This is of course non standard.\n",
    "3. The Bolagsverket agent checked every key and compared it to a list of possible attribute attestations it can make\n",
    "4. Since the Bolagsverket agent found a match, it created the VC\n",
    "5. The Bolagsverket agent assigned the VC a tails index for revocation\n",
    "6. The Bolagsverket agent signs the VC and sends it to Aktiebolaget\n",
    "7. Aktiebolaget stores the received VC in its wallet."
   ]
  },
  {
   "cell_type": "markdown",
   "id": "9913b229-d003-420b-a551-5596272e1ec9",
   "metadata": {},
   "source": [
    "### 2.9. Check the revocation status"
   ]
  },
  {
   "cell_type": "code",
   "execution_count": 21,
   "id": "ae53b0a8-0eee-418c-984c-863fb247aaf9",
   "metadata": {},
   "outputs": [
    {
     "name": "stdout",
     "output_type": "stream",
     "text": [
      "Credential 5e7dafe0-3938-4ad8-bc5d-3679872ab012 has revoked status: False\n"
     ]
    }
   ],
   "source": [
    "for cred_id in holder_credential_ids:\n",
    "    tmp = requests.get(url='http://localhost:11001/credential/revoked/' + cred_id, headers=header_json)\n",
    "    print(f'Credential {cred_id} has revoked status: {tmp.json()[\"revoked\"]}')\n",
    "    tmp = None"
   ]
  },
  {
   "cell_type": "markdown",
   "id": "20fc07db-650d-44f0-8239-18f5458b0429",
   "metadata": {},
   "source": [
    "## 3. JSON-LD ZKP with BBS+"
   ]
  },
  {
   "cell_type": "markdown",
   "id": "2f80a64d-622b-40cf-92b5-a13d241912fb",
   "metadata": {},
   "source": [
    "### 3.1. A short intro to the JSON-LD ZKP format"
   ]
  },
  {
   "cell_type": "markdown",
   "id": "0c16a842-c862-471b-85c2-c29607cb4257",
   "metadata": {},
   "source": [
    "Compared to the CL-ZKP VCs, the process for BBS+ VCs is quite different.\n",
    "\n",
    "1. Register the issuer on some trusted issuer list (we reuse the VDR from our above example)\n",
    "2. Define a vocab and map it to each key in the VC.\n",
    "3. Connect the agents (we reuse the existing connection from above)\n",
    "4. Issue the VC\n",
    "\n",
    "Note that \n",
    "\n",
    "* There is no registration of the schema or credential definition on the VDR! \n",
    "* We do not setup revocation options. This is because BBS+ does not yet support revocation (theoretically possible but no implementation exists).\n",
    "* There is no credential preview\n",
    "* Anti-correlation is a lot harder due to mandatory keys\n",
    "\n",
    "<img src = 'fig/bbs.png' width = 450>"
   ]
  },
  {
   "cell_type": "markdown",
   "id": "3d372fb1-6232-4740-a31c-d32eb495ec01",
   "metadata": {
    "tags": []
   },
   "source": [
    "According to [Aries RFC0047](https://github.com/hyperledger/aries-rfcs/blob/main/concepts/0047-json-ld-compatibility/README.md), the JSON-LD support in Aries is handled by communicating the `@context` out of band as detailed in the [W3C standard section 6](https://w3c.github.io/json-ld-syntax/#interpreting-json-as-json-ld). Put differently, DIDComm messages communicate the context in the protocol definition (e.g., RFC) for the associated message type; the `@type` value gives the relevant `@context`. This lets developers focus on using regular JSON.\n",
    "\n",
    "https://github.com/hyperledger/aries-cloudagent-python/blob/main/JsonLdCredentials.md\n",
    "\n",
    "https://github.com/hyperledger/aries-rfcs/blob/master/features/0646-bbs-credentials/README.md"
   ]
  },
  {
   "cell_type": "markdown",
   "id": "6f8da97c-38a7-41e8-9f8b-699d9b927f17",
   "metadata": {},
   "source": [
    "### 3.2. JSON-LD Credentials in ACA-Py"
   ]
  },
  {
   "cell_type": "markdown",
   "id": "735cde92-3202-49be-a878-2912fb3ca5b1",
   "metadata": {},
   "source": [
    "* ACA-Py supports any credential format defined in an RFC. \n",
    "* The JSON-LD VC format is one such credential format. \n",
    "* When signed with BBS+, it is possible to issue ZKP VCs."
   ]
  },
  {
   "cell_type": "markdown",
   "id": "82b31f68-4eb2-45e8-bc40-6770313fd5f4",
   "metadata": {},
   "source": [
    "### 3.3. Preparing JSON-LD credentials\n",
    "\n",
    "*This is where things become tedious. JSON-LD is not as straight foward as JSON. Each key requires a mapping, and for that we need vocabs. Few exist.*"
   ]
  },
  {
   "cell_type": "markdown",
   "id": "3e31d5bb-f9b3-4a63-9564-c9ac7888f0fa",
   "metadata": {
    "tags": []
   },
   "source": [
    "* Every property key must be mapped to an IRI (either by being an IRI or through the `@context` part). If a mapping is missing, ACA-Py's Issue Credential API will throw the following error:\n",
    "\n",
    "> `\"<x> attributes dropped. Provide definitions in context to correct. [<missing-properties>]\"`\n",
    "* www.schema.org has a default vocab so it will not throw an error\n",
    "* The first `@context` value must always be `https://www.w3.org/2018/credentials/v1`\n",
    "* BBS+ VCs require `https://w3id.org/security/bbs/v1` to be part of `@context`\n",
    "* Try to make use of existing resources / vocabularies.\n",
    "    * https://w3c-ccg.github.io/vaccination-vocab/\n",
    "    * https://w3c-ccg.github.io/citizenship-vocab/\n",
    "    * https://w3c-ccg.github.io/traceability-vocab/\n",
    "    * www.schema.org\n",
    "    * https://tietomallit.suomi.fi/model/ccid/\n",
    "    * https://docs.dataportal.se/dcat/sv/\n",
    "* The Aries RFC resources: \n",
    "    * communicates the context out of band as described [here](https://www.w3.org/TR/json-ld11/#interpreting-json-as-json-ld)\n",
    "    * https://github.com/hyperledger/aries-rfcs/blob/main/concepts/0047-json-ld-compatibility/README.md\n",
    "    * https://github.com/hyperledger/aries-rfcs/blob/main/features/0593-json-ld-cred-attach/README.md details the format that all agent frameworks are supposed to use\n",
    "    * https://github.com/hyperledger/aries-rfcs/blob/main/features/0453-issue-credential-v2/README.md how to exchange bbs vcs\n",
    "    * https://github.com/hyperledger/aries-rfcs/blob/main/features/0646-bbs-credentials/README.md NO SUPPORT FOR REVOCATION.\n",
    "    * [RFC 0510: Presentation-Exchange Attachment format for requesting and presenting proofs](https://github.com/hyperledger/aries-rfcs/blob/main/features/0510-dif-pres-exch-attach/README.md) defines an attachment format based on the DIF Presentation Exchange specification.\n",
    "* Signature support\n",
    "    * [`Ed25519Signature2018`](https://w3c-ccg.github.io/lds-ed25519-2018/). Very well supported. No zero knowledge proofs or selective disclosure.\n",
    "    * [`BbsBlsSignature2020`](https://w3c-ccg.github.io/ldp-bbs2020/). Newer. Supports zero knowledge proofs and selective disclosure. [Informational at IETF](https://datatracker.ietf.org/doc/html/draft-irtf-cfrg-pairing-friendly-curves-10). I know standards work is beginning.\n",
    "* The DID Method support in ACA-Py is:\n",
    "    * `did:sov` that can only be used for [`Ed25519Signature2018`](https://w3c-ccg.github.io/lds-ed25519-2018/) signatures.\n",
    "    * `did:key` that can be used for both [`Ed25519Signature2018`](https://w3c-ccg.github.io/lds-ed25519-2018/) and [`BbsBlsSignature2020`](https://w3c-ccg.github.io/ldp-bbs2020/)\n",
    "* JSON-LD BBS+ requires presenting certain data that may correlate the holder:\n",
    "> E.g. a credential with issuanceDate of 2017-12-05T14:27:42Z could create a correlating factor. However it is against the VC Data Model to not include the property. Take this into account when issuing credentials. From [RFC 0646.](https://github.com/hyperledger/aries-rfcs/blob/main/features/0646-bbs-credentials/README.md)\n",
    "    * There is ongoing work to resolve this issue: https://github.com/w3c-ccg/ldp-bbs2020/issues/37 but there is currently no good way to ensure binding (for the latest attempt cf. https://github.com/mikelodder7/commit_twin)"
   ]
  },
  {
   "cell_type": "markdown",
   "id": "cac9e046-c02a-4c16-baa2-c568fab3f424",
   "metadata": {},
   "source": [
    "### 3.4 Demo time!"
   ]
  },
  {
   "cell_type": "markdown",
   "id": "1fa7a6a7-767c-4354-a218-b1a0606bb249",
   "metadata": {},
   "source": [
    "#### Step 1: Create a `did:key` identifier"
   ]
  },
  {
   "cell_type": "code",
   "execution_count": 28,
   "id": "89349351-57dd-485d-a0c6-1f7db14da825",
   "metadata": {},
   "outputs": [
    {
     "data": {
      "text/plain": [
       "{'result': {'did': 'did:key:zUC7JfCirtQYsKSspyPGkzYnaGj5uEo4siap3EMtBzWiGpD8X4qyLFK2cHRGo3JkRqnPZpqkwdiGWifv9PNaBSGz9zZJ5f2LFtjkZgnpJnbiaE9N6JaPsuQUJZ7KPotDnFQyi8G',\n",
       "  'verkey': '24peqoCkKWhafR2iRb3raGyNAexUrqk2tAqn4i93uXvrL7TtLdausoqTbe3xVuYEkRcRsuDrT8q7xCWeT2AwGL32aHK8EJFcGJ36RQZxr6H1VjQEnnyEN8khLvd9LChG7DWx',\n",
       "  'posture': 'wallet_only',\n",
       "  'key_type': 'bls12381g2',\n",
       "  'method': 'key'}}"
      ]
     },
     "execution_count": 28,
     "metadata": {},
     "output_type": "execute_result"
    }
   ],
   "source": [
    "# Requires https://pypi.org/project/ursa-bbs-signatures/\n",
    "bbs_key = requests.post(\n",
    "    url='http://localhost:11000/wallet/did/create',\n",
    "    headers={'accept': 'application/json', 'Content-Type': 'application/json'},\n",
    "    json=json.loads('{\"method\": \"key\", \"options\": {\"key_type\": \"bls12381g2\"}}'))\n",
    "\n",
    "bbs_key.json()"
   ]
  },
  {
   "cell_type": "code",
   "execution_count": 29,
   "id": "00727c1e-3a89-426d-944f-4d17452a27c2",
   "metadata": {},
   "outputs": [
    {
     "data": {
      "text/plain": [
       "[{'did': 'h2aCQwapPeZtdoHH1VAh6',\n",
       "  'verkey': 'NpLUnDKyMhSXPfYyUEPMVwCyPys81LaoEMQjXbsfXkn',\n",
       "  'posture': 'posted',\n",
       "  'key_type': 'ed25519',\n",
       "  'method': 'sov'},\n",
       " {'did': '8JV46un73FLt5VYcYZQojW',\n",
       "  'verkey': '4yp9w3hNm9J5FznJP3o9tSF7HMGMEgmCFoUpyUDynZHd',\n",
       "  'posture': 'wallet_only',\n",
       "  'key_type': 'ed25519',\n",
       "  'method': 'sov'},\n",
       " {'did': 'did:key:zUC7JfCirtQYsKSspyPGkzYnaGj5uEo4siap3EMtBzWiGpD8X4qyLFK2cHRGo3JkRqnPZpqkwdiGWifv9PNaBSGz9zZJ5f2LFtjkZgnpJnbiaE9N6JaPsuQUJZ7KPotDnFQyi8G',\n",
       "  'verkey': '24peqoCkKWhafR2iRb3raGyNAexUrqk2tAqn4i93uXvrL7TtLdausoqTbe3xVuYEkRcRsuDrT8q7xCWeT2AwGL32aHK8EJFcGJ36RQZxr6H1VjQEnnyEN8khLvd9LChG7DWx',\n",
       "  'posture': 'wallet_only',\n",
       "  'key_type': 'bls12381g2',\n",
       "  'method': 'key'},\n",
       " {'did': 'did:key:zUC7JgnCh2VkkHbJYQzbva8oSeo5GDNqJyzWWtN36tkd8MU7WRNj8hRQoDG1y31JUvvZp9ZgeY5cqJnmotKSFpSRFZQ3NBy8ogXuh77dvxGgKYs4fq37W2G8qMW7suB8c6MHrFR',\n",
       "  'verkey': '24rEKdLqXPfj68UKkkdSb9MSA1w4dH1SaeVnDd3HpPU7K6pR6S32FzmJLp3f3xdNvfw9oc8DoTREos1bK6Z6hRbsKZr52r3QRRTRF2jdoqbjCJvhWR662fZ69QiSF2YCRMe7',\n",
       "  'posture': 'wallet_only',\n",
       "  'key_type': 'bls12381g2',\n",
       "  'method': 'key'}]"
      ]
     },
     "execution_count": 29,
     "metadata": {},
     "output_type": "execute_result"
    }
   ],
   "source": [
    "## We check existing keys\n",
    "keys = requests.get(\n",
    "    url='http://localhost:11000/wallet/did',\n",
    "    headers={'accept': 'application/json'})\n",
    "\n",
    "keys.json()['results']"
   ]
  },
  {
   "cell_type": "markdown",
   "id": "92de959c-b4c3-40c1-972b-e320dafc41d1",
   "metadata": {},
   "source": [
    "#### Issue the VC\n",
    "BBS+ VCs are only possible with `/issue-credential-2.0`\n",
    "\n",
    "We will issue a vaccination proof to Aktiebolaget. Which is a bit weird but ..."
   ]
  },
  {
   "cell_type": "code",
   "execution_count": 30,
   "id": "a3882ded-cc3c-4a72-a842-0fc0616375d5",
   "metadata": {},
   "outputs": [
    {
     "name": "stdout",
     "output_type": "stream",
     "text": [
      "Connection id to use:\n",
      "6b0dc55a-f301-4a3e-9e96-8a37bee42a6c\n",
      "\n",
      "Key to use:\n",
      "did:key:zUC7JfCirtQYsKSspyPGkzYnaGj5uEo4siap3EMtBzWiGpD8X4qyLFK2cHRGo3JkRqnPZpqkwdiGWifv9PNaBSGz9zZJ5f2LFtjkZgnpJnbiaE9N6JaPsuQUJZ7KPotDnFQyi8G\n"
     ]
    }
   ],
   "source": [
    "print(f\"Connection id to use:\\n{connections_identifiers_bv[0]}\\n\\nKey to use:\\n{keys.json()['results'][2]['did']}\")"
   ]
  },
  {
   "cell_type": "code",
   "execution_count": 31,
   "id": "f7749810-6f1f-46c3-bfcd-7726c11bced4",
   "metadata": {},
   "outputs": [
    {
     "name": "stdout",
     "output_type": "stream",
     "text": [
      "\u001b[32mwebhook_1              |\u001b[0m 127.0.0.1 -  19/May/2022:07:37:56 +0000 \"POST /index.php\" 200\n",
      "\u001b[32mwebhook_1              |\u001b[0m 127.0.0.1 -  19/May/2022:07:37:56 +0000 \"POST /index.php\" 200\n",
      "\u001b[32mwebhook_1              |\u001b[0m 127.0.0.1 -  19/May/2022:07:37:57 +0000 \"POST /index.php\" 200\n",
      "\u001b[36mlaravel-echo-server_1  |\u001b[0m Channel: fa1a489e-1d94-4eb2-b405-5aae09ca9938\n",
      "\u001b[36mlaravel-echo-server_1  |\u001b[0m Event: request.created\n",
      "\u001b[36mlaravel-echo-server_1  |\u001b[0m CHANNEL fa1a489e-1d94-4eb2-b405-5aae09ca9938\n",
      "\u001b[36mlaravel-echo-server_1  |\u001b[0m Channel: fa1a489e-1d94-4eb2-b405-5aae09ca9938\n",
      "\u001b[36mlaravel-echo-server_1  |\u001b[0m Event: request.created\n",
      "\u001b[36mlaravel-echo-server_1  |\u001b[0m CHANNEL fa1a489e-1d94-4eb2-b405-5aae09ca9938\n",
      "\u001b[32mwebhook_1              |\u001b[0m [2022-05-19 07:37:57] Processing: App\\Events\\RequestCreated\n",
      "\u001b[32mwebhook_1              |\u001b[0m [2022-05-19 07:37:57] Processed:  App\\Events\\RequestCreated\n",
      "\u001b[32mwebhook_1              |\u001b[0m [2022-05-19 07:37:57] Processing: App\\Events\\RequestCreated\n",
      "\u001b[32mwebhook_1              |\u001b[0m [2022-05-19 07:37:57] Processed:  App\\Events\\RequestCreated\n",
      "\u001b[32mwebhook_1              |\u001b[0m [2022-05-19 07:37:57] Processing: App\\Events\\RequestCreated\n",
      "\u001b[32mwebhook_1              |\u001b[0m [2022-05-19 07:37:57] Processed:  App\\Events\\RequestCreated\n",
      "\u001b[36mlaravel-echo-server_1  |\u001b[0m Channel: fa1a489e-1d94-4eb2-b405-5aae09ca9938\n",
      "\u001b[36mlaravel-echo-server_1  |\u001b[0m Event: request.created\n",
      "\u001b[36mlaravel-echo-server_1  |\u001b[0m CHANNEL fa1a489e-1d94-4eb2-b405-5aae09ca9938\n",
      "\u001b[32mwebhook_1              |\u001b[0m 127.0.0.1 -  19/May/2022:07:38:02 +0000 \"POST /index.php\" 200\n",
      "\u001b[32mwebhook_1              |\u001b[0m [2022-05-19 07:38:03] Processing: App\\Events\\RequestCreated\n",
      "\u001b[32mwebhook_1              |\u001b[0m [2022-05-19 07:38:03] Processed:  App\\Events\\RequestCreated\n",
      "\u001b[36mlaravel-echo-server_1  |\u001b[0m Channel: fa1a489e-1d94-4eb2-b405-5aae09ca9938\n",
      "\u001b[36mlaravel-echo-server_1  |\u001b[0m Event: request.created\n",
      "\u001b[36mlaravel-echo-server_1  |\u001b[0m CHANNEL fa1a489e-1d94-4eb2-b405-5aae09ca9938\n"
     ]
    }
   ],
   "source": [
    "#Follows https://ec.europa.eu/health/system/files/2021-06/covid-certificate_json_specification_en_0.pdf\n",
    "# REMEMBER TO UPDATE CONNECTION ID AND THE ISSUER!\n",
    "bbs_bc_vaccination_data = '''{\n",
    "  \"connection_id\": \"6b0dc55a-f301-4a3e-9e96-8a37bee42a6c\",\n",
    "  \"filter\": {\n",
    "    \"ld_proof\": {\n",
    "      \"credential\": {\n",
    "        \"@context\": [\n",
    "          \"https://www.w3.org/2018/credentials/v1\",\n",
    "          \"https://w3id.org/vaccination/v1\",\n",
    "          \"https://w3id.org/security/bbs/v1\"\n",
    "        ],\n",
    "        \"type\": [\"VerifiableCredential\", \"VaccinationCertificate\"],\n",
    "        \"id\": \"urn:uvci:01:NL:187/37512422923\",\n",
    "        \"name\": \"COVID-19 Vaccination Certificate\",\n",
    "        \"description\": \"COVID-19 Vaccination Certificate\",\n",
    "        \"issuanceDate\": \"2019-12-03T12:19:52Z\",\n",
    "        \"expirationDate\": \"2029-12-03T12:19:52Z\",\n",
    "        \"issuer\": \"did:key:zUC7JfCirtQYsKSspyPGkzYnaGj5uEo4siap3EMtBzWiGpD8X4qyLFK2cHRGo3JkRqnPZpqkwdiGWifv9PNaBSGz9zZJ5f2LFtjkZgnpJnbiaE9N6JaPsuQUJZ7KPotDnFQyi8G\",\n",
    "        \"credentialSubject\": {\n",
    "        \"type\": \"VaccinationEvent\",\n",
    "        \"batchNumber\": \"1183738569\",\n",
    "        \"administeringCentre\": \"MoH\",\n",
    "        \"healthProfessional\": \"MoH\",\n",
    "        \"countryOfVaccination\": \"NZ\",\n",
    "        \"recipient\": {\n",
    "          \"type\": \"VaccineRecipient\",\n",
    "          \"givenName\": \"JOHN\",\n",
    "          \"familyName\": \"SMITH\",\n",
    "          \"gender\": \"Male\",\n",
    "          \"birthDate\": \"1958-07-17\"\n",
    "        }, \n",
    "        \"vaccine\": {\n",
    "            \"type\": \"Vaccine\",\n",
    "            \"disease\": \"COVID-19\",\n",
    "            \"atcCode\": \"J07BX03\",\n",
    "            \"medicinalProductName\": \"COVID-19 Vaccine Moderna\",\n",
    "            \"marketingAuthorizationHolder\": \"Moderna Biotech\"\n",
    "            }\n",
    "        }\n",
    "      },\n",
    "      \"options\": {\n",
    "        \"proofType\": \"BbsBlsSignature2020\"\n",
    "      }\n",
    "    }\n",
    "  }\n",
    "}'''\n",
    "\n",
    "bbs_vc_vaccination_req = requests.post(url='http://localhost:11000/issue-credential-2.0/send',\n",
    "             headers={'accept': 'application/json', 'Content-Type': 'application/json'},\n",
    "             json=json.loads(bbs_bc_vaccination_data))"
   ]
  },
  {
   "cell_type": "markdown",
   "id": "4626c5eb-7992-45b4-8774-2ee1cb283621",
   "metadata": {},
   "source": [
    "And we will issue a diploma Aktiebolaget. Also a bit weird."
   ]
  },
  {
   "cell_type": "code",
   "execution_count": 32,
   "id": "11b5a346-a9be-49e3-a6c0-dcd1317babaf",
   "metadata": {},
   "outputs": [
    {
     "name": "stdout",
     "output_type": "stream",
     "text": [
      "Connection id to use:\n",
      "6b0dc55a-f301-4a3e-9e96-8a37bee42a6c\n",
      "\n",
      "Key to use:\n",
      "did:key:zUC7JfCirtQYsKSspyPGkzYnaGj5uEo4siap3EMtBzWiGpD8X4qyLFK2cHRGo3JkRqnPZpqkwdiGWifv9PNaBSGz9zZJ5f2LFtjkZgnpJnbiaE9N6JaPsuQUJZ7KPotDnFQyi8G\n"
     ]
    }
   ],
   "source": [
    "print(f\"Connection id to use:\\n{connections_identifiers_bv[0]}\\n\\nKey to use:\\n{keys.json()['results'][2]['did']}\")"
   ]
  },
  {
   "cell_type": "code",
   "execution_count": 33,
   "id": "3ebf31a8-db84-4079-810a-e1582537728f",
   "metadata": {
    "tags": []
   },
   "outputs": [
    {
     "name": "stdout",
     "output_type": "stream",
     "text": [
      "\u001b[32mwebhook_1              |\u001b[0m 127.0.0.1 -  19/May/2022:07:38:31 +0000 \"POST /index.php\" 200\n",
      "\u001b[32mwebhook_1              |\u001b[0m 127.0.0.1 -  19/May/2022:07:38:31 +0000 \"POST /index.php\" 200\n",
      "\u001b[32mwebhook_1              |\u001b[0m 127.0.0.1 -  19/May/2022:07:38:31 +0000 \"POST /index.php\" 200\n",
      "\u001b[32mwebhook_1              |\u001b[0m [2022-05-19 07:38:33] Processing: App\\Events\\RequestCreated\n",
      "\u001b[36mlaravel-echo-server_1  |\u001b[0m Channel: fa1a489e-1d94-4eb2-b405-5aae09ca9938\n",
      "\u001b[36mlaravel-echo-server_1  |\u001b[0m Event: request.created\n",
      "\u001b[32mwebhook_1              |\u001b[0m [2022-05-19 07:38:33] Processed:  App\\Events\\RequestCreated\n",
      "\u001b[36mlaravel-echo-server_1  |\u001b[0m CHANNEL fa1a489e-1d94-4eb2-b405-5aae09ca9938\n",
      "\u001b[32mwebhook_1              |\u001b[0m [2022-05-19 07:38:33] Processing: App\\Events\\RequestCreated\n",
      "\u001b[36mlaravel-echo-server_1  |\u001b[0m Channel: fa1a489e-1d94-4eb2-b405-5aae09ca9938\n",
      "\u001b[32mwebhook_1              |\u001b[0m [2022-05-19 07:38:33] Processed:  App\\Events\\RequestCreated\n",
      "\u001b[36mlaravel-echo-server_1  |\u001b[0m Event: request.created\n",
      "\u001b[36mlaravel-echo-server_1  |\u001b[0m CHANNEL fa1a489e-1d94-4eb2-b405-5aae09ca9938\n",
      "\u001b[32mwebhook_1              |\u001b[0m [2022-05-19 07:38:33] Processing: App\\Events\\RequestCreated\n",
      "\u001b[36mlaravel-echo-server_1  |\u001b[0m Channel: fa1a489e-1d94-4eb2-b405-5aae09ca9938\n",
      "\u001b[36mlaravel-echo-server_1  |\u001b[0m Event: request.created\n",
      "\u001b[36mlaravel-echo-server_1  |\u001b[0m CHANNEL fa1a489e-1d94-4eb2-b405-5aae09ca9938\n",
      "\u001b[32mwebhook_1              |\u001b[0m [2022-05-19 07:38:33] Processed:  App\\Events\\RequestCreated\n",
      "\u001b[32mwebhook_1              |\u001b[0m 127.0.0.1 -  19/May/2022:07:38:35 +0000 \"POST /index.php\" 200\n",
      "\u001b[32mwebhook_1              |\u001b[0m [2022-05-19 07:38:36] Processing: App\\Events\\RequestCreated\n",
      "\u001b[36mlaravel-echo-server_1  |\u001b[0m Channel: fa1a489e-1d94-4eb2-b405-5aae09ca9938\n",
      "\u001b[36mlaravel-echo-server_1  |\u001b[0m Event: request.created\n",
      "\u001b[36mlaravel-echo-server_1  |\u001b[0m CHANNEL fa1a489e-1d94-4eb2-b405-5aae09ca9938\n",
      "\u001b[32mwebhook_1              |\u001b[0m [2022-05-19 07:38:36] Processed:  App\\Events\\RequestCreated\n"
     ]
    }
   ],
   "source": [
    "#Below is a simple example diploma.\n",
    "# REMEMBER TO UPDATE CONNECTION ID AND THE ISSUER!\n",
    "bbs_vc_degree_data = '''{\n",
    "  \"connection_id\": \"6b0dc55a-f301-4a3e-9e96-8a37bee42a6c\",\n",
    "  \"filter\": {\n",
    "    \"ld_proof\": {\n",
    "      \"credential\": {\n",
    "        \"@context\": [\n",
    "          \"https://www.w3.org/2018/credentials/v1\",\n",
    "          \"https://www.w3.org/2018/credentials/examples/v1\"\n",
    "        ],\n",
    "        \"type\": [\"VerifiableCredential\", \"UniversityDegreeCredential\"],\n",
    "        \"issuer\": \"did:key:zUC7JfCirtQYsKSspyPGkzYnaGj5uEo4siap3EMtBzWiGpD8X4qyLFK2cHRGo3JkRqnPZpqkwdiGWifv9PNaBSGz9zZJ5f2LFtjkZgnpJnbiaE9N6JaPsuQUJZ7KPotDnFQyi8G\",\n",
    "        \"issuanceDate\": \"2022-02-08T12:00:00Z\",\n",
    "        \"credentialSubject\": {\n",
    "          \"degree\": {\n",
    "            \"type\": \"BachelorDegree\",\n",
    "            \"name\": \"Bachelor of Science and Arts\"\n",
    "          },\n",
    "          \"college\": \"Faber College\"\n",
    "        }\n",
    "      },\n",
    "      \"options\": {\n",
    "        \"proofType\": \"BbsBlsSignature2020\"\n",
    "      }\n",
    "    }\n",
    "  }\n",
    "}'''\n",
    "\n",
    "bbs_vc_degree_req = requests.post(url='http://localhost:11000/issue-credential-2.0/send',\n",
    "             headers={'accept': 'application/json', 'Content-Type': 'application/json'},\n",
    "             json=json.loads(bbs_vc_degree_data))"
   ]
  },
  {
   "cell_type": "markdown",
   "id": "875a6c08-3ad9-481a-bf5c-516ef76a8875",
   "metadata": {},
   "source": [
    "The JSON-LD ZKP VCs have been issued. Let's check what Aktiebolaget has in its wallet."
   ]
  },
  {
   "cell_type": "code",
   "execution_count": 34,
   "id": "af0aa061-6f5c-4bb9-a65b-ceae56073ea8",
   "metadata": {},
   "outputs": [],
   "source": [
    "bbs_w3c_vc = requests.post(url='http://localhost:11001/credentials/w3c',\n",
    "                                   headers={'accept': 'application/json', 'Content-Type': 'application/json'},\n",
    "                                   data='{}')"
   ]
  },
  {
   "cell_type": "code",
   "execution_count": 35,
   "id": "d8fee819-1ce3-438f-a723-ad97a102daa6",
   "metadata": {},
   "outputs": [
    {
     "name": "stdout",
     "output_type": "stream",
     "text": [
      "{\n",
      "  \"@context\": [\n",
      "    \"https://www.w3.org/2018/credentials/v1\",\n",
      "    \"https://www.w3.org/2018/credentials/examples/v1\",\n",
      "    \"https://w3id.org/security/bbs/v1\"\n",
      "  ],\n",
      "  \"credentialSubject\": {\n",
      "    \"college\": \"Faber College\",\n",
      "    \"degree\": {\n",
      "      \"name\": \"Bachelor of Science and Arts\",\n",
      "      \"type\": \"BachelorDegree\"\n",
      "    }\n",
      "  },\n",
      "  \"issuanceDate\": \"2022-02-08T12:00:00Z\",\n",
      "  \"issuer\": \"did:key:zUC7JfCirtQYsKSspyPGkzYnaGj5uEo4siap3EMtBzWiGpD8X4qyLFK2cHRGo3JkRqnPZpqkwdiGWifv9PNaBSGz9zZJ5f2LFtjkZgnpJnbiaE9N6JaPsuQUJZ7KPotDnFQyi8G\",\n",
      "  \"proof\": {\n",
      "    \"created\": \"2022-05-19T07:38:31.934473+00:00\",\n",
      "    \"proofPurpose\": \"assertionMethod\",\n",
      "    \"proofValue\": \"p+pvsHEc1He9vemNhYx4u82giQM0WhOpYMjD2xIHszScTQ1tvhp0DrhEUsTkuHrmXWW5gyksUiA5KhpqLQG9JCcuZYb4b5MqfclkgxwDm6tA1o7n2HvNmCm0HsElcNKPa2l35lxJkdRn7PjH1fnl7g==\",\n",
      "    \"type\": \"BbsBlsSignature2020\",\n",
      "    \"verificationMethod\": \"did:key:zUC7JfCirtQYsKSspyPGkzYnaGj5uEo4siap3EMtBzWiGpD8X4qyLFK2cHRGo3JkRqnPZpqkwdiGWifv9PNaBSGz9zZJ5f2LFtjkZgnpJnbiaE9N6JaPsuQUJZ7KPotDnFQyi8G#zUC7JfCirtQYsKSspyPGkzYnaGj5uEo4siap3EMtBzWiGpD8X4qyLFK2cHRGo3JkRqnPZpqkwdiGWifv9PNaBSGz9zZJ5f2LFtjkZgnpJnbiaE9N6JaPsuQUJZ7KPotDnFQyi8G\"\n",
      "  },\n",
      "  \"type\": [\n",
      "    \"VerifiableCredential\",\n",
      "    \"UniversityDegreeCredential\"\n",
      "  ]\n",
      "}\n"
     ]
    }
   ],
   "source": [
    "print(json.dumps(json.loads(bbs_w3c_vc.text)['results'][0]['cred_value'], indent=2, sort_keys=True))"
   ]
  },
  {
   "cell_type": "code",
   "execution_count": 36,
   "id": "f98b4c58-919e-4ab8-a585-c65e21ad44b6",
   "metadata": {},
   "outputs": [
    {
     "name": "stdout",
     "output_type": "stream",
     "text": [
      "{\n",
      "  \"@context\": [\n",
      "    \"https://www.w3.org/2018/credentials/v1\",\n",
      "    \"https://w3id.org/vaccination/v1\",\n",
      "    \"https://w3id.org/security/bbs/v1\"\n",
      "  ],\n",
      "  \"credentialSubject\": {\n",
      "    \"administeringCentre\": \"MoH\",\n",
      "    \"batchNumber\": \"1183738569\",\n",
      "    \"countryOfVaccination\": \"NZ\",\n",
      "    \"healthProfessional\": \"MoH\",\n",
      "    \"recipient\": {\n",
      "      \"birthDate\": \"1958-07-17\",\n",
      "      \"familyName\": \"SMITH\",\n",
      "      \"gender\": \"Male\",\n",
      "      \"givenName\": \"JOHN\",\n",
      "      \"type\": \"VaccineRecipient\"\n",
      "    },\n",
      "    \"type\": \"VaccinationEvent\",\n",
      "    \"vaccine\": {\n",
      "      \"atcCode\": \"J07BX03\",\n",
      "      \"disease\": \"COVID-19\",\n",
      "      \"marketingAuthorizationHolder\": \"Moderna Biotech\",\n",
      "      \"medicinalProductName\": \"COVID-19 Vaccine Moderna\",\n",
      "      \"type\": \"Vaccine\"\n",
      "    }\n",
      "  },\n",
      "  \"description\": \"COVID-19 Vaccination Certificate\",\n",
      "  \"expirationDate\": \"2029-12-03T12:19:52Z\",\n",
      "  \"id\": \"urn:uvci:01:NL:187/37512422923\",\n",
      "  \"issuanceDate\": \"2019-12-03T12:19:52Z\",\n",
      "  \"issuer\": \"did:key:zUC7JfCirtQYsKSspyPGkzYnaGj5uEo4siap3EMtBzWiGpD8X4qyLFK2cHRGo3JkRqnPZpqkwdiGWifv9PNaBSGz9zZJ5f2LFtjkZgnpJnbiaE9N6JaPsuQUJZ7KPotDnFQyi8G\",\n",
      "  \"name\": \"COVID-19 Vaccination Certificate\",\n",
      "  \"proof\": {\n",
      "    \"created\": \"2022-05-19T07:37:56.953196+00:00\",\n",
      "    \"proofPurpose\": \"assertionMethod\",\n",
      "    \"proofValue\": \"svYAYhzKNnMyWgZZNdDuGT14mBiwGV22NSMXDY6JWi3fNaS7LTkU4TLa/e/igabfERnzSBCnWMCbmMPAMyRsdL1dav26QJdkwKkwSydj9B4UrMkqDPQjFMqYtNt/qW/aZXr6s1KAPlufmrZUIp/z4A==\",\n",
      "    \"type\": \"BbsBlsSignature2020\",\n",
      "    \"verificationMethod\": \"did:key:zUC7JfCirtQYsKSspyPGkzYnaGj5uEo4siap3EMtBzWiGpD8X4qyLFK2cHRGo3JkRqnPZpqkwdiGWifv9PNaBSGz9zZJ5f2LFtjkZgnpJnbiaE9N6JaPsuQUJZ7KPotDnFQyi8G#zUC7JfCirtQYsKSspyPGkzYnaGj5uEo4siap3EMtBzWiGpD8X4qyLFK2cHRGo3JkRqnPZpqkwdiGWifv9PNaBSGz9zZJ5f2LFtjkZgnpJnbiaE9N6JaPsuQUJZ7KPotDnFQyi8G\"\n",
      "  },\n",
      "  \"type\": [\n",
      "    \"VerifiableCredential\",\n",
      "    \"VaccinationCertificate\"\n",
      "  ]\n",
      "}\n"
     ]
    }
   ],
   "source": [
    "print(json.dumps(json.loads(bbs_w3c_vc.text)['results'][1]['cred_value'], indent=2, sort_keys=True))"
   ]
  },
  {
   "cell_type": "markdown",
   "id": "9a075556-975b-4c8d-b865-31e4628efc28",
   "metadata": {},
   "source": [
    "Play around: https://try.connect.me/"
   ]
  }
 ],
 "metadata": {
  "kernelspec": {
   "display_name": "Python 3 (ipykernel)",
   "language": "python",
   "name": "python3"
  },
  "language_info": {
   "codemirror_mode": {
    "name": "ipython",
    "version": 3
   },
   "file_extension": ".py",
   "mimetype": "text/x-python",
   "name": "python",
   "nbconvert_exporter": "python",
   "pygments_lexer": "ipython3",
   "version": "3.8.10"
  }
 },
 "nbformat": 4,
 "nbformat_minor": 5
}
