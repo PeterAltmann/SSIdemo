{
 "cells": [
  {
   "cell_type": "markdown",
   "id": "cf071a23-adc2-4c27-8bde-57314b581ebb",
   "metadata": {},
   "source": [
    "Getting ready to work with the European Blockchain Services Infrastructure (EBSI)\n",
    "=============="
   ]
  },
  {
   "cell_type": "markdown",
   "id": "822a0561-65d0-4281-b7e5-7df48d87c80f",
   "metadata": {},
   "source": [
    "This text is focused on facilitating a dialogue between IT staff / developers and decision makers in organizations. To help the former, the text provides a step by step guide on the use of various tools, libraries and reusable components in order to learn about user controlled authentic data (UCAD) exchanges. The text also introduces and explains the European Blockchain Services Infrastructure (EBSI), which aims to provide a Verifiable Data Registry (VDR) that is jointly maintained and support by the member states to support UCAD. Relatedly, to help decision makers, the text provides an overview of core concepts and helps explain how the various parts of the solution contribute to enabling UCAD. The text will also include tips and suggestions from the past two years of experience working with EBSI, the Toolbox project, and with the Proof of Business project at Bolagsverket."
   ]
  },
  {
   "cell_type": "markdown",
   "id": "a663e57d-1693-4b95-9d85-7c48dd2fe2cb",
   "metadata": {
    "tags": []
   },
   "source": [
    "# About this learning material"
   ]
  },
  {
   "cell_type": "markdown",
   "id": "33808f53-b179-478d-b3de-b0a6b2c547dd",
   "metadata": {},
   "source": [
    "Our increasingly digital world is fueled by data. In this emerging data driven world, trust is a key challenge. Trust means 1) ensuring data security and data privacy, 2) having data that is easy to verify, 3) making difficult attempts to forge and tamper with data data and data records, and 4) ensuring that the data subject is in sole and total control over their own data. To distinguish between data exchanges that satisfy these four points and those that do not, this text will refer to the former using the term 'user controlled authentic data' (UCAD). New technologies like those introduced by the European Blockchain Services Infrastructure (EBSI), i.e., distributed ledgers (DLT), and work on Verifiable Credential (VC) formats and proof mechanisms, are all enabling UCAD."
   ]
  },
  {
   "cell_type": "markdown",
   "id": "f8470c78-653e-4ec9-87b6-a5c4d6d6e71d",
   "metadata": {},
   "source": [
    "## The focus, aim, and an outline of assumptions"
   ]
  },
  {
   "cell_type": "markdown",
   "id": "2d37b5ae-7120-44b8-a60c-87e1ad12cf60",
   "metadata": {},
   "source": [
    "To understand this text on VC and the EBSI, it is helpful to clarify a few points:\n",
    "\n",
    "1. This text is focused on facilitating a dialogue between IT staff (specialists and developers) and decision makers (who may or may not have a technical background). Consequently, the text will focus on both technical topics and the implications of certain technical choices for decision makers.\n",
    "2. The assumed context is the public sector. While most parts in the text are context agnostic, the focus on EBSI merits a specific focus on the public sector context.\n",
    "3. The text was developed following experiences working with VC and EBSI in the Swedish public sector, more specifically with The Swedish Company Registration Offices.\n",
    "4. The aim is to let developers get hands on experience with key concepts so that they can get familiar with VC and supporting infrastructure.\n",
    "\n",
    "The motivation for the focus on facilitating a dialogue between IT staff and decision makers was that there already exists educational material on EBSI and on VC targeting either a general audience (cf. the three chapter EBSI Explained series found [here](https://ec.europa.eu/digital-building-blocks/wikis/display/EBSI/What+is+ebsi)) or a technical audience (cf. the [W3C specifications for Verifiable Credentials data model](https://www.w3.org/TR/vc-data-model/), the Linux Foundation [LFS173x course](https://training.linuxfoundation.org/training/becoming-a-hyperledger-aries-developer-lfs173/) on becoming an Aries developer, and/or the [EBSI demonstrator](https://ec.europa.eu/digital-building-blocks/wikis/display/EBSIDOC/Demonstrator)). However, the VC concept and the infrastructure it relies on (e.g., EBSI) represent (at least in parts) fundamental shifts in how data is managed. And to fully understand these shifts and to realize many of the potential benefits with VC and EBSI, it is important that both technical staff understand the technical requirements and that non technical decision makers are equipped with the required knowledge to allow them to assess the merits of proposed uses of the technology (with a focus on helping decision makers avoid improper uses).\n",
    "\n",
    "The reason for the public sector focus is due to EBSI. Specifically, the EBSI is a joint initiative from the European Commission and the European Blockchain Partnership with the aim to leverage blockchain to accelerate the creation of cross-border services for public administrations and their ecosystems to verify information and to make services more trustworthy (cf. the [EBP page](https://digital-strategy.ec.europa.eu/en/policies/blockchain-partnership)). It is the focus of EBSI on public administration and public services that motives the focus on the public sector context in this text. Arguably, this context focus does not impact the VC parts of this text. Perhaps the biggest impact is on the adversarial assumptions and how these impact the underlying infrastructure choices of EBSI, which in turn, impacts how trust is established in VC based data exchanges.\n",
    "\n",
    "The reason for the focus on the experiences of the Swedish Company Registration Offices is due to interest. This text was developed as the end result of a CEF project on EBSI training. Early efforts in the project aimed to map the interest for EBSI and VCs in the Swedish public sector. This mapping exercise revealed that the interest in the Swedish public sector was on a rather general level. The notable exception was the Swedish Company Registration Offices (hereafter referred to by their Swedish name Bolagsverket). Bolagsverket had a strategy to decentralize information flows related to organizations and a vision to let the organizations be in control of their respective flows. Bolagsverket also wanted to explore EBSI and to learn how to leverage the infrastructure's capabilities to deliver public services. Finally, Bolagsverket had other blockchain initiatives and a project focused on VC and EBSI would reach a broad audience in the Swedish public sector since many actors follow closely the work Bolagsverket does. \n",
    "\n",
    "Finally, the aim to improve knowledge though hands on experience means that large portions of this text will be developed around mature projects that developers can use as a foundation for testing and trailing UCAD. This means that most of the exercises and the work done here will leverage the following three Hyperledger open source projects: [Aries](https://www.hyperledger.org/use/aries), [Ursa](https://www.hyperledger.org/use/ursa), and [Indy](https://www.hyperledger.org/use/hyperledger-indy). Together, these projects provide libraries, tools, and reusable components for creating decentralized applications for UCAD. Most major enterprise focused UCAD projects today leverage the three Hyperledger projects (e.g., the [Hyperledger Labs project Business Partner Agent](https://github.com/hyperledger-labs/business-partner-agent) and the [OrgBook BC project](https://www.orgbook.gov.bc.ca/search) that has issued over 4 million VCs to date) and there is extensive documentation and developer support and training. In particular, Aries helps developers work with different VC formats and the protocols required to establish secure connections and to exchange UCAD. In turn, Ursa is a cryptographic library that supports certain cryptographic primitives and algorithms that are specifically designed with user privacy in mind. Finally, Indy provides the required infrastructure to anchor trust in a decentralized and verifiable data registry. This fourth point is particularly relevant to discuss as it represents a compromise between developer friendly material and relevance for decision makers."
   ]
  },
  {
   "cell_type": "markdown",
   "id": "cacf8712-b89f-4933-a3f6-086a72d15f33",
   "metadata": {
    "tags": []
   },
   "source": [
    "## Learning with the Hyperledger projects Aries, Ursa, and Indy: Benefits and words of caution"
   ]
  },
  {
   "cell_type": "markdown",
   "id": "b2a80016-ce74-43bf-9cc5-4e111b09e3f3",
   "metadata": {
    "jp-MarkdownHeadingCollapsed": true,
    "tags": []
   },
   "source": [
    "The needs of IT staff and developers trying to learn about VC and DLT differ from that of decision makers. The examples in this text are mainly based on the three aforementioned Hyperledger projects Aries, Ursa, and Indy. The reason for this choice is twofold. The three Hyperledger projects are comparatively far more mature than EBSI and its VC ecosystem. Together, the projects have over 44 000 commits from 650 code contributors (for up to date information use https://insights.lfx.linuxfoundation.org/projects/health). Furthermore, the three Hyperledger projects have been used as a foundation for several large scale pilots and many organizations have relied on them for their trial and proof of concept needs. And the choice of DLT specifically, or verifiable data registry (VDR) in general, is not necessarily an important consideration for developers or policy makers attempting to understand UCAD. What matters is that there exists a VDR that can act as a trust anchor. This text is focused on helping IT staff and developers communicate with decision makers, and the communication regarding the choice of VDR is rather trivial for IT staff and developers (often as simple as changing a few lines in a configuration file or picking a certain API and using the right access tokens, neither is important for understanding VC and EBSI).\n",
    "\n",
    "In essence, focusing on Aries, Ursa, and Indy allows developers to quickly develop and test VC solutions for UCAD. This includes:\n",
    "\n",
    "* Establishing and managing secure connections between entities without having to rely on central servers or passwords\n",
    "* Send and receive messages with high security and privacy\n",
    "* Request and obtain, store, select, combine and share, the attribute attestations necessary for consuming a services\n",
    "* Create an agent that represents the identity subject in the cloud or on edge devices\n",
    "* Manage authorizations and cryptographic key material\n",
    "\n",
    "There are, however, certain contextual factors that make the a focus on the three Hyperledger projects questionable. Perhaps most important is that [Verifiable Credentials come in many flavors](https://www.lfph.io/wp-content/uploads/2021/04/Verifiable-Credentials-Flavors-Explained-Infographic.pdf). The ones initially developed for Aries were developed with a strong emphasis on privacy. And this strong privacy focus was realized using relatively complex cryptography. For the private sector, the adversarial assumptions may warrant such a high focus on privacy for UCAD exchanges. But for the public sector, using complex cryptography has several limitations and it is arguable that the costs are worthwhile considering how the public sector context is a very different adversarial environment than is the private sector. It is questionable to assume a malicious public actor since these actors are often the authorized sources of UCAD and the principle providers of services and infrastructure. \n",
    "\n",
    "For the public sector, it makes a lot more sense to optimize for ease of implementation and to use cryptography that public sector actors are very familiar with. Especially considering how both EBSI and the ongoing work in the common union Toolbox for a coordinated effort toward a European digital identity framework (cf. [C/2021/3968](https://eur-lex.europa.eu/legal-content/EN/TXT/?uri=CELEX%3A32021H0946)) are likely to focus on UCAD enabled using less complex cryptography (e.g., [EBSI only requires ES256](https://ec.europa.eu/digital-building-blocks/wikis/display/EBSIDOC/E-signing+and+e-sealing+Verifiable+Credentials+and+Verifiable+Presentations), which is [basic ECDSA with P-256 and SHA-256](https://ldapwiki.com/wiki/ES256)). Consequently, the text herein will more elaborately explain how to enable UCAD using ES256 and focus more on the technologies that both the Toolbox group and the EBSI group is emphasizing for use in the public sector.\n",
    "\n",
    "Another important consideration is that EBSI is a DLT agnostic platform. At the writing of this document, EBSI supports two DLTs: [Hyperledger Besu](https://www.hyperledger.org/use/besu) and [Hyperledger Fabric](https://www.hyperledger.org/use/fabric). Besu is an Ethereum client specifically designed for enterprise and consortium environments. Since this text is educational, ease of use is prioritized. Using a general purpose DLT like Ethereum is less attractive than using a DLT purpose built for VC support and UCAD. \n",
    "\n",
    "Hyperledger Indy is a DLT similar to Hyperledger Fabric, but unlike Fabric's general purpose focus, Indy is designed specifically for UCAD. So, while EBSI does not support an Indy based ledger, it is easier to use an Indy based DLT as a VDR for learning purposes. The alternative is to: 1) develop the necessary functionality using a development environment for Ethereum, or 2) wait for EBSI to become production ready with full feature support. And while the work is rapidly progressing, and the list of [EBSI conformant wallets](https://ec.europa.eu/digital-building-blocks/wikis/display/EBSI/Conformant+wallets) keeps growing, there is still a lot of features missing on EBSI. Also, most EBSI conformant wallets are still focused on Desktop and/or mobile and not server environments, the latter being more suitable for our organization focused context. Also, the test suites for EBSI, the wallets, and the conformance tests are far less suitable for development and learning than their Aries equivalents. \n",
    "\n",
    "Aries thus offers both a solution for Enterprise environments called [Hyperledger Aries Cloud Agent Python](https://github.com/hyperledger/aries-cloudagent-python), or ACA-Py for short, and simpler [interoperability testing](https://aries-interop.info/acapy.html). It is also far more mature and most enterprise tests have been developed using ACA-Py. A few words of caution are in order here:\n",
    "\n",
    "* Most Aries based implementations do not support any of the formats and proof mechanisms that EBSI currently supports. Aries initially focused on supporting the AnonCreds VC format and relied on Indy as a VDR. In Q4 2020, focus shifted to also support other ledgers and VC formats, most notably the VC format W3C JSON-LD ZKP with BBS+ signatures. By Q1 2022, Aries offered full support for AnonCreds and W3C VC in JSON-LD ZKP using BBS+.\n",
    "* Multimessage signature schemes, such as CL (used in AnonCreds) and BBS+, is very different from the signatures schemes that the public sector is used to work with. Neither EBSI nor the Toolbox group is currently supporting it.\n",
    "* As of Q1 2022, efforts in Hyperledger Aries are shifting away from the W3C VC data model. The reason for this is practical (cf. the Q1 report [here](https://wiki.hyperledger.org/display/TSC/TSC+Project+Updates)). Many who want to deploy solutions quickly and test out VC and DLT, appreciate the full stack solution that is AnonCreds. To this end, work ins progressing on developing an [open specifications for the AnonCreds VC format](https://anoncreds-wg.github.io/anoncreds-spec/). \n",
    "* The Q2 2022 update reiterates that support for W3C standard VCs are still in progress and that developers wanting quick development should focus on AnonCreds.  \n",
    "\n",
    "Succinctly put: using Aries, Ursa, and Indy is very helpful if the main goal is learning about VC and how decentralized infrastructures like EBSI can support UCAD. Experiences from both Bolagsverket and from other enterprise focused UCAD projects have shown that AnonCreds is highly suitable for deploying solutions quickly. There is still a lot of development efforts ongoing with EBSI, and organizations would do well to keep up to date with recent developments. The assumption that underlies the text herein is that an organization can use Aries, Ursa, and Indy to get familiar with the core concepts, and thus be far more able to onboard EBSI once EBSI becomes mature."
   ]
  },
  {
   "cell_type": "markdown",
   "id": "d9cf1232-08a3-4bb3-927c-d3f11102e98f",
   "metadata": {},
   "source": [
    "## Disposition"
   ]
  },
  {
   "cell_type": "markdown",
   "id": "e3c42d9a-9fc5-4000-9e85-80e947092956",
   "metadata": {},
   "source": [
    "This text will be structured as follows. First, the VC model is introduced both in general and with a specific focus on how the EBSI VC lifecycle looks like. The text aims to explain not only the model, but also the problem the model was introduced to solve. Common concepts and key terms will be described, followed by an introduction of the Trust Over IP (ToIP) stack. By the end of this first VC focused section, decision makers should be able to understand what VC and DLT enables and be ready to have a discussion with their IT colleagues on how to realize UCAD and how to leverage EBSI.\n",
    "\n",
    "Then, the text takes a technical deep dive into many core concepts required for developers to navigate VC and DLT in general, and EBSI VC specifically. In this section, the text describes each layer of the ToIP stack more in-depth. The text details also how Aries and Aries agents work and covers the major solution components of an UCAD ecosystem. Special attention will be given to help developers set up a test network for rapid development and quick deployment. Again, the focus is on enabling learning. This section will include also a description of EBSI conformant wallets and what EBSI services are usable today. This section will also explain major differences between Aries and the likely direction that EBSI is heading (e.g., with respect to revocation etc.).\n",
    "\n",
    "Finally, we focus on the controller component for UCAD. The controller is the organization specific codified business logic that provides an interface between the organization's existing systems and an UCAD ecosystem. This chapter will use ACA-Py and the Bolagsverket case as an exmaple.\n",
    "\n",
    "Throughout the text, there will be a strong emphasis on labs and active development and using code as a pedagogical tool for learning about VC and DLT."
   ]
  },
  {
   "cell_type": "markdown",
   "id": "434e72d6-a548-4b74-99cc-87e8e590e02c",
   "metadata": {
    "tags": []
   },
   "source": [
    "# Verifiable Credentials"
   ]
  },
  {
   "cell_type": "markdown",
   "id": "bb563975-86aa-4149-91b3-3aef48670222",
   "metadata": {},
   "source": [
    "*Note: Unless otherwise specified, the definitions for concepts used in this text are from here: https://www.w3.org/TR/vc-data-model/#terminology*"
   ]
  },
  {
   "cell_type": "markdown",
   "id": "a3640cf3-2d04-4ef0-82ce-cbab46427bab",
   "metadata": {
    "tags": []
   },
   "source": [
    "## Credentials"
   ]
  },
  {
   "cell_type": "markdown",
   "id": "bc259265-84cd-46fa-bea9-922bc71c8782",
   "metadata": {},
   "source": [
    "The term credential has been defined in several ways, and the definition has evolved over time, which has lead to some degree of confusion. In [early work on VC](https://docs.google.com/document/d/1gfIz5TT0cNp2kxGMLFXr19x1uoZsruUe_0glHst2fZ8/edit#heading=h.jgdxyglhz3ik), the term credential was defined as \"a digital assertion containing a set of Claims made by an Entity about itself or another Entity\". These credentials were handled by different actors within a UCAD ecosystem, and the [Sovrin Glossary](https://docs.google.com/document/d/1gfIz5TT0cNp2kxGMLFXr19x1uoZsruUe_0glHst2fZ8/edit#heading=h.lyw4rdm1mutj) and the [W3C VC data model](https://www.w3.org/TR/vc-data-model/#ecosystem-overview)  both identify the following actors:\n",
    "\n",
    "* The entity described by the claims is the **credential subject**.\n",
    "* The entity creating the credential is the **credential issuer**.\n",
    "* The entity who controls and holds the credential is the **credential holder**.\n",
    "* The entity who uses Zero Knowledge Proofs to present a claim contained within a credential is called the **credential prover**.\n",
    "* The entity to whom the credential is presented is called a **Relying Party** or, if the credential is a VC, a **verifier**.\n",
    "\n",
    "In the context of the public sector, the [eIDAS legal framework](http://timspeelman.nl/eidas/#A3(52)) defines credential as \"a proof of a persons abilities, experience, right or permission\". The term in eIDAS that most closely resembles the Sovrin definition of a credential is 'electronic attestation of attributes' (EAA). The term [EAA](http://timspeelman.nl/eidas/#A3(44)) is defined as \"an attestation in electronic form that allows the authentication of attributes\" where an [attribute](http://timspeelman.nl/eidas/#A3(43)) is \"a feature, characteristic or quality of a natural or legal person or of an entity, in electronic form\". In this text we will not use the legal meaning of the word, but instead use credential and EAA interchangeably.\n",
    "\n",
    "There is also a distinction to be made between the credentials and verifiable credentials. Existing physical credentials, like a driver's license, contain information about \n",
    "\n",
    "* The type of the credential, i.e., driver's license.\n",
    "* The government authority that issued the credential.\n",
    "* The rights assigned to the identity subject of the driver's license (the credential subject and often holder).\n",
    "* Other claims about the credential holder\n",
    "* Information related to constraints on the credential, e.g., a validity period.\n",
    "\n",
    "When consuming services, the holder can show the driver's license to make assertions about claims like age, driving rights, or identity. Ideally, a credential contains information about the issuer and claims about the credential subject, and protects this information from being altered in some way. A VC shares many similarities with a physical credential, but also different in several important ways."
   ]
  },
  {
   "cell_type": "markdown",
   "id": "e197aefd-2468-49d3-94c0-f1d746395710",
   "metadata": {
    "tags": []
   },
   "source": [
    "## The VC data model"
   ]
  },
  {
   "cell_type": "markdown",
   "id": "72bc9bbe-cdf3-4924-85f4-2509fa88c249",
   "metadata": {},
   "source": [
    "A VC is similar to its physical counterpart insofar that:\n",
    "\n",
    "* An authorized issuer issues a VC containing claims about a credential subject.\n",
    "* The credential subject can hold the credential in their digital wallet.\n",
    "* A verifier can ask the holder to prove the claims from the credential.\n",
    "* The holder can generate a verifiable presentation, which includes information about the issuer and a proof that the shared claims are not forged.\n",
    "* The issuer can, if the credential supports it, also prove that the credential is still valid.\n",
    "\n",
    "Unlike their physical counterparts, a VC is cryptographically constructed, meaning that the evaluation of a credential is based solely on cryptography and not on the relying party's ability to spot a fake credential. The holder can use cryptography to generate a presentation that proves:\n",
    "\n",
    "* Who issued the credential.\n",
    "* That the credential was issued to the entity presenting it.\n",
    "* That the claims were not tampered with.\n",
    "* That the credential has not been revoked.\n",
    "\n",
    "One major advantage a VC has over a physical credential is that a VC can use cryptography to prevent 'oversharing' of data and thereby protect the privacy of the credential subjects. For instance, using a VC it is possible to derive an \"age over 18\" proof from the birth date, as opposed to disclosing the birth date in full. Using a VC, it is possible also to select specific claims to present, as opposed to having to show all of the claims. A core principle behind UCAD is that the credential subject / holder is in control of what data is shared and with whom.\n",
    "\n",
    "Above, the issuer, holder, and verifier were explained. There is one more important part of the VC ecosystem: The VDR. Most VC contain pointers to a VDR. The verifier can use a VDR to access information on the issuer and ensure they are an authorized source of the claims contained in the VC. The verifier can also use a VDR to access schemas and definitions, cryptographic material necessary to verify claims, and to perform validity status checks.\n",
    "\n",
    "<img src=\"https://www.w3.org/TR/vc-data-model/diagrams/ecosystem.svg\" alt=\"VC data model\" width=\"600\"/>\n",
    "\n",
    "**Fig 1**. *The Verifiable Credentials Data Model.*"
   ]
  },
  {
   "cell_type": "markdown",
   "id": "188d4c5f-fc85-44f3-9919-e0276c35c015",
   "metadata": {},
   "source": [
    "Above, the text has explained the various roles involved in a VC ecosystem and mentioned some of the properties of VC. Experiences show, however, that it is not always easy to know how to use these properties in real use cases and how the various roles interact. These topics are explored next."
   ]
  },
  {
   "cell_type": "markdown",
   "id": "ed82bbbe-1d79-4cb3-9da6-981c4bb94c3b",
   "metadata": {
    "tags": []
   },
   "source": [
    "## When to use VC"
   ]
  },
  {
   "cell_type": "markdown",
   "id": "f6930cdb-fafb-4ba6-a841-2b6b2182fe2f",
   "metadata": {},
   "source": [
    "On an aggregate level, use cases are comprised of needs, roles, tasks, and sequences. User needs define the problem space. The roles are the aforementioned issuer, holder, and verifier. The tasks define the functions that a users can accomplish using VC (e.g., selective disclosure of claims/attributes, generate proof of validity etc.). The sequences explain how a task is realized in interaction between the various actors involved. \n",
    "\n",
    "The W3C Use Case working group has identified a few illustrative needs that a user may have in different domains:\n",
    "\n",
    "<img src=\"https://www.w3.org/TR/vc-use-cases/VerifiableCredentialsProblemDomains.png\" alt=\"VC data model\" width=\"900\"/>\n",
    "\n",
    "**Fig 2**. Example of user needs in various domains.\n",
    "\n",
    "Each user need is further explained on the [W3C Use Case page](https://www.w3.org/TR/vc-use-cases/#user-needs). In this text, we will often illustrate concepts using education and legal identity. Therefore it is helpful to provide a short description of these two domains:\n",
    "\n",
    "* The *education* domain includes all levels of the educational experience; from primary through professional continuing education.\n",
    "* The *legal identity* domain includes cases where an entity must be able to prove some aspect of their identity in a way that can be quickly verified. Governments and other widely recognized entities are well positioned to provide such identification in a verifiable digital form.\n",
    "\n",
    "The use cases that are explored within EBSI will be detailed later in this text. To understand the detailed EBSI use cases, it is helpful to first understand a how to use VC, what a VC can look like, the involved flows, and how VC relates to verifiable presentations. "
   ]
  },
  {
   "cell_type": "markdown",
   "id": "63b8aed9-50ca-4bfa-817d-adad0c1f83b9",
   "metadata": {
    "tags": []
   },
   "source": [
    "## How to use a VC"
   ]
  },
  {
   "cell_type": "markdown",
   "id": "fb9b5a06-49e8-4eb5-bddb-5d1f5b208c52",
   "metadata": {},
   "source": [
    "Above, the user needs and the roles were discussed. Here, the text describes the tasks. These are important in order to understand the core principles behind VC.\n",
    "\n",
    "Core tasks include:\n",
    "\n",
    "1. **Issue a VC containing at least one claim**. Any entity must be able to issue a VC and include any claim. It is up to the verifier to assess the trustworthiness of a claim based on the issuer. For instance, a driver's license issued by the authorized agency has high trustworthiness. The same VC issued by the credential subject has low trustworthiness.\n",
    "2. **Assert a claim**. Most VC contain several claims.  The holder of a VC must be able to share exactly the information it intends with a verifier, and nothing else. The holder must also be able to limit the duration for the sharing of claims. \n",
    "3. **Verify a claim**. The verifier must be able to verify that the VC is an authentic statement of an issuer's claim about the subject. This requires the verifier to be able to:\n",
    "    * bind the holder to the presented claim(s), \n",
    "    * detect any tampering\n",
    "    * connect the VC to the issuer\n",
    "    * verify the authenticity of the VC\n",
    "4. **Store and manage claims**. The holder must be able to store the VC in a credential repository and the holder must be able to move credentials between credential repositories without requiring re-issuance.\n",
    "5. **Share claims**. The holder must be able to select what claims from what VCs to share with a verifier.\n",
    "6. **Revoke claim**. The issuer must be able to revoke a claim included in a VC.\n",
    "\n",
    "Perhaps the best way to illustrate the above tasks is to provide examples of a few scenarios that are difficult to achieve using existing credentials. These examples come from the [focal use case](https://www.w3.org/TR/vc-use-cases/#focal-use-cases) descriptions at the W3C use case working group.\n",
    "\n",
    "**Example 1. Claiming citizenship by parentage**\n",
    "\n",
    "Sam wants to claim US citizenship and his mother is American. Sam has a digital birth certificate from Kenya, where he was born. He also has his mother's digital US passport. His mother’s name changed between his birth and the issuance of the passport, so Sam also has a marriage license with her maiden and married names. Sam is applying for a new passport from the US Secretary of State.\n",
    "\n",
    "Sam can prepare the following VC set:\n",
    "\n",
    "* Birth certificate. Links Sam to his mother's maiden name.\n",
    "* Marriage license. Links the mother's maiden name with the present name.\n",
    "* Mother's passport. Establishes mother's US citizenship.\n",
    "* Sam's existing passport.\n",
    "\n",
    "Using the above VC set, Sam can prepare a verifiable presentation that selects claims from each of the above VCs and establishes that Sam is the credential subject (using e.g., a photo or other biometric data on his passport), that Sam is the child in the birth certificate, that the mother in the birth certificate is the same entity as the credential subject in the mother's passport VC and the marriage certificate.\n",
    "\n",
    "From a privacy perspective, it makes little sense to privacy preserve Sam's identity in this case since the claims he shares uniquely identify him. However, there are still some privacy aspects to consider. For instance, it should not be possible for the issuer of a VC to know that Sam is using the VC.\n",
    "\n",
    "**Example 2. Expert dive instruction**\n",
    "\n",
    "Pat earned multiple diving credentials while living and working in Fiji and Australia. Pat is now applying for a job as a NOAA Dive Instructor, which requires certification as an instructor with additional specialist diver certifications in dry suit, night diving, and search and recovery.\n",
    "\n",
    "Pat can prepare the following VC set:\n",
    "\n",
    "* Dive Instructor certification\n",
    "* Dry suit certification\n",
    "* Night diving certification\n",
    "* Search and recovery certification\n",
    "* Pat's existing legal identity credential\n",
    "\n",
    "Using the above VC set, Pat can prepare a verifiable presentation that establishes all the VC have the same credential subject and that he is that credential subject.\n",
    "\n",
    "**Example 3. International travel with minor and upgrade**\n",
    "\n",
    "Malathi is traveling internationally with her 8-month-old son, Anand. Malathi has enough frequent flyer miles to upgrade the ticket to first class.\n",
    "\n",
    "Malathi can prepare the following VC set:\n",
    "\n",
    "* Malathi's passport. Used in conjunction with the birth certificate.\n",
    "* Anand's passport. Used in conjunction with the birth certificate.\n",
    "* Anand's birth certificate. Used in conjunction with the passports.\n",
    "* Upgrade coupon. Used in conjunction with Malathi's passport.\n",
    "\n",
    "Malathi can now create a verifiable presentation that establishes that she is the mother of Anand and that she desires to use the upgrade coupon."
   ]
  },
  {
   "cell_type": "markdown",
   "id": "5b3896a2-f33b-40ab-a6eb-30bcdf6bc479",
   "metadata": {},
   "source": [
    "## What a VC looks like"
   ]
  },
  {
   "cell_type": "markdown",
   "id": "c287f142-5ef7-463c-9496-b9b62683eb49",
   "metadata": {},
   "source": [
    "As mentioned, there are many types of VC formats. Below is a commented example of a W3C VC in JSON-LD (a more visual example will follow). The content mirrors Example 3. above, i.e., Malathi's passport.\n",
    "\n",
    "```JSON\n",
    "{\n",
    "  // set the context to provide information on the terms used\n",
    "  \"@context\": [\n",
    "    \"https://w3id.org/credentials/v1\",\n",
    "    \"https://example.com/travel-vocab/v1\"\n",
    "  ],\n",
    "  // specify the identifier of the VC\n",
    "  \"id\": \"urn:uuid:9f6878c8-73c7-11e8-ab37-23a1a3504fd0\",\n",
    "  // state the VC type, which declares what data to expect\n",
    "  \"type\": [\"VerifiableCredential\", \"PassportCredential\"],\n",
    "  // the issuer's identifier (DID) available on VDR \"example\"\n",
    "  \"issuer\": \"did:example:CCnF3zFaXkPN4zB94XaomRdvw2zX3XHPVX3aExcgo6PV\",\n",
    "  // some information about issuance, validity, and the subject\n",
    "  \"issuanceDate\": \"2010-01-01T19:23:24Z\",\n",
    "  \"expires\": \"2028-01-01T00:00:00Z\",\n",
    "  \"credentialSubject\": \"did:example:BcRisGnqV4QPb6bRmDCqEjyuubBarS1Y1nhDwxBMTXY4\",\n",
    "  // state the claims\n",
    "  \"claim\": {\n",
    "    // identifier of the credential subject, which is the same as above\n",
    "    \"id\": \"did:example:BcRisGnqV4QPb6bRmDCqEjyuubBarS1Y1nhDwxBMTXY4\",\n",
    "    \"passport\": {\n",
    "      \"id\": \"urn:uuid:79c181dc-73c7-11e8-8c1f-2bb1fd2d268a\",\n",
    "      \"type\": \"Passport\",\n",
    "      \"traveler\": {\n",
    "        // note that traveler is also credential subject\n",
    "        \"id\": \"did:example:BcRisGnqV4QPb6bRmDCqEjyuubBarS1Y1nhDwxBMTXY4\",\n",
    "        \"givenName\": \"Malathi\",\n",
    "        \"familyName\": \"Hamal\",\n",
    "        \"citizenship\": \"US\"\n",
    "      },\n",
    "      /* any other passport fields */\n",
    "    }\n",
    "  },\n",
    "  // validity information expressed below\n",
    "  \"credentialStatus\": {\n",
    "    \"id\": \"https://example.gov/status/24\",\n",
    "    \"type\": \"CredentialStatusList2010\"\n",
    "  },\n",
    "  \"proof\": {/* Signature by authorized issuer and associated metadata */}\n",
    "}\n",
    "```\n",
    "\n",
    "It is helpful to break down the example above into the core concepts used in the VC data model as defined by the W3C. At its core, the VC data model describes how claims can be made and how they are included in a VC. A claim is a statement about a subject expressed in a **subject-property-value** relationship. In the example above, there are several claims. For instance:\n",
    "\n",
    "* Malathi (subject) is a citizen of (property) the US (value).\n",
    "* The VC (subject) is of type (property) Verifiable Credential and Passport Credential (value).\n",
    "\n",
    "Every VC contains at least one claim. In addition, the VC contains also at least one proof and optional metadata. The metadata can describe the issuer, validity information (in the example above expressed as `credentialStatus`), verification related information (e.g., information on where to locate a verification key) etc. The proof is a signature over the claims part (and optionally the metadata part if present). The proof can be either included in the data object as a [Linked Data proof](https://www.w3.org/TR/vc-data-model/#data-integrity-proofs) or as a [JSON Web Token](https://www.w3.org/TR/vc-data-model/#json-web-token). For instance, consider the following illustrative graph of an example VC (note that this example is different from the JSON-LD example of Malathi's passport above).\n",
    "\n",
    "<img src=\"https://www.w3.org/TR/vc-data-model/diagrams/credential-graph.svg\" alt=\"Information graphs showing the basics of a VC\" width=\"700\">\n",
    "\n",
    "**Fig 3.** Information graphs showing the basics of a VC.\n",
    "\n",
    "In the graph, the VC identifier has the value `Credential 123`. This example VC is of type `AlumniCredential`, contains the issuer information `Example University`, and the issuance date, and a single claim; that Pat (subject) is an alumni of (property) Example University (value). Finally, the graph contains the proof part. The signature identifier is `Signature 456`. This example signature is of type `RsaSignature2018`, has the value specified in `signatureValue`, and contains a nonce together with information about how to verify it (using Example University public key 7).\n",
    "\n",
    "Note how a W3C JSON-LD VC is rather self contained. Not only does it contain pointers to information on how to interpret each term (in the `@context` section), it also provides all the required information to process all contained claims and to verify the entire VC. \n",
    "\n",
    "* Statements about specific things can be tagged with the optional `id` property so that interacting actors know they are expressing statements about the same things. \n",
    "* The mandatory `type` property lets software systems know whether or not the provided document is appropriate. \n",
    "* The mandatory `credentialSubject` property identifies the credential subject.\n",
    "* The mandatory `issuer` property identifies the issuer of the VC.\n",
    "\n",
    "As aforementioned, not all VC formats use JSON-LD. Some store context information outside the VC and rely on regular JSON. Others include linked data, but use another logic to structure the data and format it (e.g., the ISO/IEC 18013-5 mdoc format uses CBOR). This text is not focused specifically on JSON-LD. Interested readers should read the section on [basic concepts](https://www.w3.org/TR/vc-data-model/#basic-concepts) in the W3C VC data model page for additional details."
   ]
  },
  {
   "cell_type": "markdown",
   "id": "dbe1f227-5f87-4f35-b0c7-9d262b1c7af8",
   "metadata": {
    "tags": []
   },
   "source": [
    "## The flows involved in issuing and using a VC"
   ]
  },
  {
   "cell_type": "markdown",
   "id": "316f5dac-3fda-4462-890c-5a93bd752402",
   "metadata": {},
   "source": [
    "Below are two sequence diagrams. The first illustrates an example credential issuance."
   ]
  },
  {
   "cell_type": "code",
   "execution_count": 1,
   "id": "77a42d88-0c61-4da2-98c6-4a885fdd2305",
   "metadata": {},
   "outputs": [],
   "source": [
    "#!pip install IPlantUML\n",
    "import iplantuml"
   ]
  },
  {
   "cell_type": "code",
   "execution_count": 11,
   "id": "adaffbb2-ce92-4cfc-8668-6b7a7cdae948",
   "metadata": {},
   "outputs": [
    {
     "name": "stdout",
     "output_type": "stream",
     "text": [
      "Writing output for /home/jovyan/work/5e8db307-1914-4d56-b825-e19a04382add.uml to 5e8db307-1914-4d56-b825-e19a04382add.svg\n"
     ]
    },
    {
     "data": {
      "image/svg+xml": [
       "<svg xmlns=\"http://www.w3.org/2000/svg\" xmlns:xlink=\"http://www.w3.org/1999/xlink\" contentStyleType=\"text/css\" height=\"457px\" preserveAspectRatio=\"none\" style=\"width:747px;height:457px;background:#FFFFFF;\" version=\"1.1\" viewBox=\"0 0 747 457\" width=\"747px\" zoomAndPan=\"magnify\"><defs/><g><line style=\"stroke:#181818;stroke-width:0.5;stroke-dasharray:5.0,5.0;\" x1=\"25\" x2=\"25\" y1=\"81.2969\" y2=\"376.4922\"/><line style=\"stroke:#181818;stroke-width:0.5;stroke-dasharray:5.0,5.0;\" x1=\"273\" x2=\"273\" y1=\"81.2969\" y2=\"376.4922\"/><line style=\"stroke:#181818;stroke-width:0.5;stroke-dasharray:5.0,5.0;\" x1=\"439\" x2=\"439\" y1=\"81.2969\" y2=\"376.4922\"/><line style=\"stroke:#181818;stroke-width:0.5;stroke-dasharray:5.0,5.0;\" x1=\"525\" x2=\"525\" y1=\"81.2969\" y2=\"376.4922\"/><text fill=\"#000000\" font-family=\"sans-serif\" font-size=\"14\" lengthAdjust=\"spacing\" textLength=\"35\" x=\"5\" y=\"77.9951\">Alice</text><ellipse cx=\"25.5\" cy=\"13.5\" fill=\"#E2E2F0\" rx=\"8\" ry=\"8\" style=\"stroke:#181818;stroke-width:0.5;\"/><path d=\"M25.5,21.5 L25.5,48.5 M12.5,29.5 L38.5,29.5 M25.5,48.5 L12.5,63.5 M25.5,48.5 L38.5,63.5 \" fill=\"none\" style=\"stroke:#181818;stroke-width:0.5;\"/><text fill=\"#000000\" font-family=\"sans-serif\" font-size=\"14\" lengthAdjust=\"spacing\" textLength=\"35\" x=\"5\" y=\"388.4873\">Alice</text><ellipse cx=\"25.5\" cy=\"400.2891\" fill=\"#E2E2F0\" rx=\"8\" ry=\"8\" style=\"stroke:#181818;stroke-width:0.5;\"/><path d=\"M25.5,408.2891 L25.5,435.2891 M12.5,416.2891 L38.5,416.2891 M25.5,435.2891 L12.5,450.2891 M25.5,435.2891 L38.5,450.2891 \" fill=\"none\" style=\"stroke:#181818;stroke-width:0.5;\"/><rect fill=\"#E2E2F0\" height=\"30.2969\" style=\"stroke:#181818;stroke-width:0.5;\" width=\"65\" x=\"243\" y=\"46\"/><rect fill=\"#E2E2F0\" height=\"30.2969\" style=\"stroke:#181818;stroke-width:0.5;\" width=\"65\" x=\"239\" y=\"50\"/><text fill=\"#000000\" font-family=\"sans-serif\" font-size=\"14\" lengthAdjust=\"spacing\" textLength=\"51\" x=\"246\" y=\"69.9951\">Agents</text><rect fill=\"#E2E2F0\" height=\"30.2969\" style=\"stroke:#181818;stroke-width:0.5;\" width=\"65\" x=\"243\" y=\"375.4922\"/><rect fill=\"#E2E2F0\" height=\"30.2969\" style=\"stroke:#181818;stroke-width:0.5;\" width=\"65\" x=\"239\" y=\"379.4922\"/><text fill=\"#000000\" font-family=\"sans-serif\" font-size=\"14\" lengthAdjust=\"spacing\" textLength=\"51\" x=\"246\" y=\"399.4873\">Agents</text><text fill=\"#000000\" font-family=\"sans-serif\" font-size=\"14\" lengthAdjust=\"spacing\" textLength=\"99\" x=\"387\" y=\"77.9951\">VC repository</text><path d=\"M421.5,29 C421.5,19 439.5,19 439.5,19 C439.5,19 457.5,19 457.5,29 L457.5,55 C457.5,65 439.5,65 439.5,65 C439.5,65 421.5,65 421.5,55 L421.5,29 \" fill=\"#E2E2F0\" style=\"stroke:#181818;stroke-width:1.5;\"/><path d=\"M421.5,29 C421.5,39 439.5,39 439.5,39 C439.5,39 457.5,39 457.5,29 \" fill=\"none\" style=\"stroke:#181818;stroke-width:1.5;\"/><text fill=\"#000000\" font-family=\"sans-serif\" font-size=\"14\" lengthAdjust=\"spacing\" textLength=\"99\" x=\"387\" y=\"388.4873\">VC repository</text><path d=\"M421.5,401.7891 C421.5,391.7891 439.5,391.7891 439.5,391.7891 C439.5,391.7891 457.5,391.7891 457.5,401.7891 L457.5,427.7891 C457.5,437.7891 439.5,437.7891 439.5,437.7891 C439.5,437.7891 421.5,437.7891 421.5,427.7891 L421.5,401.7891 \" fill=\"#E2E2F0\" style=\"stroke:#181818;stroke-width:1.5;\"/><path d=\"M421.5,401.7891 C421.5,411.7891 439.5,411.7891 439.5,411.7891 C439.5,411.7891 457.5,411.7891 457.5,401.7891 \" fill=\"none\" style=\"stroke:#181818;stroke-width:1.5;\"/><text fill=\"#000000\" font-family=\"sans-serif\" font-size=\"14\" lengthAdjust=\"spacing\" textLength=\"41\" x=\"502\" y=\"77.9951\">Issuer</text><ellipse cx=\"525.5\" cy=\"49\" fill=\"#E2E2F0\" rx=\"12\" ry=\"12\" style=\"stroke:#181818;stroke-width:0.5;\"/><line style=\"stroke:#181818;stroke-width:0.5;\" x1=\"513.5\" x2=\"537.5\" y1=\"63\" y2=\"63\"/><text fill=\"#000000\" font-family=\"sans-serif\" font-size=\"14\" lengthAdjust=\"spacing\" textLength=\"41\" x=\"502\" y=\"388.4873\">Issuer</text><ellipse cx=\"525.5\" cy=\"407.7891\" fill=\"#E2E2F0\" rx=\"12\" ry=\"12\" style=\"stroke:#181818;stroke-width:0.5;\"/><line style=\"stroke:#181818;stroke-width:0.5;\" x1=\"513.5\" x2=\"537.5\" y1=\"421.7891\" y2=\"421.7891\"/><polygon fill=\"#181818\" points=\"261.5,108.4297,271.5,112.4297,261.5,116.4297,265.5,112.4297\" style=\"stroke:#181818;stroke-width:1.0;\"/><line style=\"stroke:#181818;stroke-width:1.0;\" x1=\"25.5\" x2=\"267.5\" y1=\"112.4297\" y2=\"112.4297\"/><text fill=\"#000000\" font-family=\"sans-serif\" font-size=\"13\" lengthAdjust=\"spacing\" textLength=\"224\" x=\"32.5\" y=\"107.3638\">1. Navigate to connection resource</text><polygon fill=\"#181818\" points=\"284.5,137.5625,274.5,141.5625,284.5,145.5625,280.5,141.5625\" style=\"stroke:#181818;stroke-width:1.0;\"/><polygon fill=\"#181818\" points=\"513.5,137.5625,523.5,141.5625,513.5,145.5625,517.5,141.5625\" style=\"stroke:#181818;stroke-width:1.0;\"/><line style=\"stroke:#181818;stroke-width:1.0;\" x1=\"278.5\" x2=\"519.5\" y1=\"141.5625\" y2=\"141.5625\"/><text fill=\"#000000\" font-family=\"sans-serif\" font-size=\"13\" lengthAdjust=\"spacing\" textLength=\"147\" x=\"290.5\" y=\"136.4966\">2. Establish connection</text><polygon fill=\"#181818\" points=\"261.5,166.6953,271.5,170.6953,261.5,174.6953,265.5,170.6953\" style=\"stroke:#181818;stroke-width:1.0;\"/><line style=\"stroke:#181818;stroke-width:1.0;\" x1=\"25.5\" x2=\"267.5\" y1=\"170.6953\" y2=\"170.6953\"/><text fill=\"#000000\" font-family=\"sans-serif\" font-size=\"13\" lengthAdjust=\"spacing\" textLength=\"115\" x=\"32.5\" y=\"165.6294\">3. Input VC choice</text><polygon fill=\"#181818\" points=\"513.5,195.8281,523.5,199.8281,513.5,203.8281,517.5,199.8281\" style=\"stroke:#181818;stroke-width:1.0;\"/><line style=\"stroke:#181818;stroke-width:1.0;\" x1=\"273.5\" x2=\"519.5\" y1=\"199.8281\" y2=\"199.8281\"/><text fill=\"#000000\" font-family=\"sans-serif\" font-size=\"13\" lengthAdjust=\"spacing\" textLength=\"136\" x=\"280.5\" y=\"194.7622\">4. Request credential</text><line style=\"stroke:#181818;stroke-width:1.0;\" x1=\"525.5\" x2=\"567.5\" y1=\"228.9609\" y2=\"228.9609\"/><line style=\"stroke:#181818;stroke-width:1.0;\" x1=\"567.5\" x2=\"567.5\" y1=\"228.9609\" y2=\"241.9609\"/><line style=\"stroke:#181818;stroke-width:1.0;\" x1=\"526.5\" x2=\"567.5\" y1=\"241.9609\" y2=\"241.9609\"/><polygon fill=\"#181818\" points=\"536.5,237.9609,526.5,241.9609,536.5,245.9609,532.5,241.9609\" style=\"stroke:#181818;stroke-width:1.0;\"/><text fill=\"#000000\" font-family=\"sans-serif\" font-size=\"13\" lengthAdjust=\"spacing\" textLength=\"208\" x=\"532.5\" y=\"223.895\">5. Verify eligibility and create VC</text><polygon fill=\"#181818\" points=\"284.5,267.0938,274.5,271.0938,284.5,275.0938,280.5,271.0938\" style=\"stroke:#181818;stroke-width:1.0;\"/><line style=\"stroke:#181818;stroke-width:1.0;\" x1=\"278.5\" x2=\"524.5\" y1=\"271.0938\" y2=\"271.0938\"/><text fill=\"#000000\" font-family=\"sans-serif\" font-size=\"13\" lengthAdjust=\"spacing\" textLength=\"133\" x=\"290.5\" y=\"266.0278\">6. Send VC response</text><polygon fill=\"#181818\" points=\"36.5,296.2266,26.5,300.2266,36.5,304.2266,32.5,300.2266\" style=\"stroke:#181818;stroke-width:1.0;\"/><line style=\"stroke:#181818;stroke-width:1.0;\" x1=\"30.5\" x2=\"272.5\" y1=\"300.2266\" y2=\"300.2266\"/><text fill=\"#000000\" font-family=\"sans-serif\" font-size=\"13\" lengthAdjust=\"spacing\" textLength=\"85\" x=\"42.5\" y=\"295.1606\">7. Display VC</text><polygon fill=\"#181818\" points=\"261.5,325.3594,271.5,329.3594,261.5,333.3594,265.5,329.3594\" style=\"stroke:#181818;stroke-width:1.0;\"/><line style=\"stroke:#181818;stroke-width:1.0;\" x1=\"25.5\" x2=\"267.5\" y1=\"329.3594\" y2=\"329.3594\"/><text fill=\"#000000\" font-family=\"sans-serif\" font-size=\"13\" lengthAdjust=\"spacing\" textLength=\"70\" x=\"32.5\" y=\"324.2935\">8. Save VC</text><polygon fill=\"#181818\" points=\"427.5,354.4922,437.5,358.4922,427.5,362.4922,431.5,358.4922\" style=\"stroke:#181818;stroke-width:1.0;\"/><line style=\"stroke:#181818;stroke-width:1.0;\" x1=\"273.5\" x2=\"433.5\" y1=\"358.4922\" y2=\"358.4922\"/><text fill=\"#000000\" font-family=\"sans-serif\" font-size=\"13\" lengthAdjust=\"spacing\" textLength=\"142\" x=\"280.5\" y=\"353.4263\">9. Move VC to storage</text><!--MD5=[e0c04b513c1584afeec8c40026b4d772]\n",
       "@startuml\n",
       "actor Alice as Al\n",
       "collections Agents as Ag\n",
       "database \"VC repository\" as S\n",
       "entity Issuer as I\n",
       "Al -> Ag: 1. Navigate to connection resource\n",
       "Ag <-> I: 2. Establish connection\n",
       "Al -> Ag: 3. Input VC choice\n",
       "Ag -> I: 4. Request credential\n",
       "I -> I: 5. Verify eligibility and create VC\n",
       "I -> Ag: 6. Send VC response\n",
       "Ag -> Al: 7. Display VC\n",
       "Al -> Ag: 8. Save VC\n",
       "Ag -> S: 9. Move VC to storage\n",
       "@enduml\n",
       "\n",
       "PlantUML version 1.2022.7beta2(Unknown compile time)\n",
       "(GPL source distribution)\n",
       "Java Runtime: Java(TM) SE Runtime Environment\n",
       "JVM: Java HotSpot(TM) 64-Bit Server VM\n",
       "Default Encoding: UTF-8\n",
       "Language: en\n",
       "Country: US\n",
       "--></g></svg>"
      ],
      "text/plain": [
       "<IPython.core.display.SVG object>"
      ]
     },
     "execution_count": 11,
     "metadata": {},
     "output_type": "execute_result"
    }
   ],
   "source": [
    "%%plantuml\n",
    "\n",
    "@startuml\n",
    "actor Alice as Al\n",
    "collections Agents as Ag\n",
    "database \"VC repository\" as S\n",
    "entity Issuer as I\n",
    "Al -> Ag: 1. Navigate to connection resource\n",
    "Ag <-> I: 2. Establish connection\n",
    "Al -> Ag: 3. Input VC choice\n",
    "Ag -> I: 4. Request credential\n",
    "I -> I: 5. Verify eligibility and create VC\n",
    "I -> Ag: 6. Send VC response\n",
    "Ag -> Al: 7. Display VC\n",
    "Al -> Ag: 8. Save VC\n",
    "Ag -> S: 9. Move VC to storage\n",
    "@enduml "
   ]
  },
  {
   "cell_type": "markdown",
   "id": "f0b6ccb2-3ad7-45b3-8792-10806f8b1b0c",
   "metadata": {},
   "source": [
    "Expanding on the above steps:\n",
    "\n",
    "1. Alice navigates to a resource where the issuer has provided connection information.\n",
    "2. Alice's edge agent (assuming she uses her smart phone) uses the connection information to establish a secure connection between itself and the issuer.\n",
    "3. Alice selects the VC she wants to receive.\n",
    "4. Alice's agents (oftentimes an edge agent works together with a cloud agent) creates a VC request and sends this secure to the issuer\n",
    "5. The issuer verifies Alice's eligibility for the VC and (assuming Alice is eligable) creates the VC\n",
    "6. The issuer sends the VC to Alice's cloud agent\n",
    "7. Alice's agents show the VC to Alice\n",
    "8. Alice selects save VC\n",
    "9. Alice's agents move the VC to the VC repository\n",
    "\n",
    "Next, we look at VC usage."
   ]
  },
  {
   "cell_type": "code",
   "execution_count": 19,
   "id": "cb1147dc-597f-424e-952e-46f9af3b881d",
   "metadata": {},
   "outputs": [
    {
     "name": "stdout",
     "output_type": "stream",
     "text": [
      "Writing output for /home/jovyan/work/3114acdf-9a66-4518-8973-6c0442881cee.uml to 3114acdf-9a66-4518-8973-6c0442881cee.svg\n"
     ]
    },
    {
     "data": {
      "image/svg+xml": [
       "<svg xmlns=\"http://www.w3.org/2000/svg\" xmlns:xlink=\"http://www.w3.org/1999/xlink\" contentStyleType=\"text/css\" height=\"550px\" preserveAspectRatio=\"none\" style=\"width:694px;height:550px;background:#FFFFFF;\" version=\"1.1\" viewBox=\"0 0 694 550\" width=\"694px\" zoomAndPan=\"magnify\"><defs/><g><line style=\"stroke:#181818;stroke-width:0.5;stroke-dasharray:5.0,5.0;\" x1=\"25\" x2=\"25\" y1=\"81.2969\" y2=\"470.0234\"/><line style=\"stroke:#181818;stroke-width:0.5;stroke-dasharray:5.0,5.0;\" x1=\"306\" x2=\"306\" y1=\"81.2969\" y2=\"470.0234\"/><line style=\"stroke:#181818;stroke-width:0.5;stroke-dasharray:5.0,5.0;\" x1=\"533\" x2=\"533\" y1=\"81.2969\" y2=\"470.0234\"/><line style=\"stroke:#181818;stroke-width:0.5;stroke-dasharray:5.0,5.0;\" x1=\"626\" x2=\"626\" y1=\"81.2969\" y2=\"470.0234\"/><text fill=\"#000000\" font-family=\"sans-serif\" font-size=\"14\" lengthAdjust=\"spacing\" textLength=\"35\" x=\"5\" y=\"77.9951\">Alice</text><ellipse cx=\"25.5\" cy=\"13.5\" fill=\"#E2E2F0\" rx=\"8\" ry=\"8\" style=\"stroke:#181818;stroke-width:0.5;\"/><path d=\"M25.5,21.5 L25.5,48.5 M12.5,29.5 L38.5,29.5 M25.5,48.5 L12.5,63.5 M25.5,48.5 L38.5,63.5 \" fill=\"none\" style=\"stroke:#181818;stroke-width:0.5;\"/><text fill=\"#000000\" font-family=\"sans-serif\" font-size=\"14\" lengthAdjust=\"spacing\" textLength=\"35\" x=\"5\" y=\"482.0186\">Alice</text><ellipse cx=\"25.5\" cy=\"493.8203\" fill=\"#E2E2F0\" rx=\"8\" ry=\"8\" style=\"stroke:#181818;stroke-width:0.5;\"/><path d=\"M25.5,501.8203 L25.5,528.8203 M12.5,509.8203 L38.5,509.8203 M25.5,528.8203 L12.5,543.8203 M25.5,528.8203 L38.5,543.8203 \" fill=\"none\" style=\"stroke:#181818;stroke-width:0.5;\"/><rect fill=\"#E2E2F0\" height=\"30.2969\" style=\"stroke:#181818;stroke-width:0.5;\" width=\"65\" x=\"276\" y=\"46\"/><rect fill=\"#E2E2F0\" height=\"30.2969\" style=\"stroke:#181818;stroke-width:0.5;\" width=\"65\" x=\"272\" y=\"50\"/><text fill=\"#000000\" font-family=\"sans-serif\" font-size=\"14\" lengthAdjust=\"spacing\" textLength=\"51\" x=\"279\" y=\"69.9951\">Agents</text><rect fill=\"#E2E2F0\" height=\"30.2969\" style=\"stroke:#181818;stroke-width:0.5;\" width=\"65\" x=\"276\" y=\"469.0234\"/><rect fill=\"#E2E2F0\" height=\"30.2969\" style=\"stroke:#181818;stroke-width:0.5;\" width=\"65\" x=\"272\" y=\"473.0234\"/><text fill=\"#000000\" font-family=\"sans-serif\" font-size=\"14\" lengthAdjust=\"spacing\" textLength=\"51\" x=\"279\" y=\"493.0186\">Agents</text><text fill=\"#000000\" font-family=\"sans-serif\" font-size=\"14\" lengthAdjust=\"spacing\" textLength=\"99\" x=\"481\" y=\"77.9951\">VC repository</text><path d=\"M515.5,29 C515.5,19 533.5,19 533.5,19 C533.5,19 551.5,19 551.5,29 L551.5,55 C551.5,65 533.5,65 533.5,65 C533.5,65 515.5,65 515.5,55 L515.5,29 \" fill=\"#E2E2F0\" style=\"stroke:#181818;stroke-width:1.5;\"/><path d=\"M515.5,29 C515.5,39 533.5,39 533.5,39 C533.5,39 551.5,39 551.5,29 \" fill=\"none\" style=\"stroke:#181818;stroke-width:1.5;\"/><text fill=\"#000000\" font-family=\"sans-serif\" font-size=\"14\" lengthAdjust=\"spacing\" textLength=\"99\" x=\"481\" y=\"482.0186\">VC repository</text><path d=\"M515.5,495.3203 C515.5,485.3203 533.5,485.3203 533.5,485.3203 C533.5,485.3203 551.5,485.3203 551.5,495.3203 L551.5,521.3203 C551.5,531.3203 533.5,531.3203 533.5,531.3203 C533.5,531.3203 515.5,531.3203 515.5,521.3203 L515.5,495.3203 \" fill=\"#E2E2F0\" style=\"stroke:#181818;stroke-width:1.5;\"/><path d=\"M515.5,495.3203 C515.5,505.3203 533.5,505.3203 533.5,505.3203 C533.5,505.3203 551.5,505.3203 551.5,495.3203 \" fill=\"none\" style=\"stroke:#181818;stroke-width:1.5;\"/><text fill=\"#000000\" font-family=\"sans-serif\" font-size=\"14\" lengthAdjust=\"spacing\" textLength=\"54\" x=\"596\" y=\"77.9951\">Verifier</text><ellipse cx=\"626\" cy=\"49\" fill=\"#E2E2F0\" rx=\"12\" ry=\"12\" style=\"stroke:#181818;stroke-width:0.5;\"/><line style=\"stroke:#181818;stroke-width:0.5;\" x1=\"614\" x2=\"638\" y1=\"63\" y2=\"63\"/><text fill=\"#000000\" font-family=\"sans-serif\" font-size=\"14\" lengthAdjust=\"spacing\" textLength=\"54\" x=\"596\" y=\"482.0186\">Verifier</text><ellipse cx=\"626\" cy=\"501.3203\" fill=\"#E2E2F0\" rx=\"12\" ry=\"12\" style=\"stroke:#181818;stroke-width:0.5;\"/><line style=\"stroke:#181818;stroke-width:0.5;\" x1=\"614\" x2=\"638\" y1=\"515.3203\" y2=\"515.3203\"/><polygon fill=\"#181818\" points=\"294.5,108.4297,304.5,112.4297,294.5,116.4297,298.5,112.4297\" style=\"stroke:#181818;stroke-width:1.0;\"/><line style=\"stroke:#181818;stroke-width:1.0;\" x1=\"25.5\" x2=\"300.5\" y1=\"112.4297\" y2=\"112.4297\"/><text fill=\"#000000\" font-family=\"sans-serif\" font-size=\"13\" lengthAdjust=\"spacing\" textLength=\"224\" x=\"32.5\" y=\"107.3638\">1. Navigate to connection resource</text><polygon fill=\"#181818\" points=\"317.5,137.5625,307.5,141.5625,317.5,145.5625,313.5,141.5625\" style=\"stroke:#181818;stroke-width:1.0;\"/><polygon fill=\"#181818\" points=\"614,137.5625,624,141.5625,614,145.5625,618,141.5625\" style=\"stroke:#181818;stroke-width:1.0;\"/><line style=\"stroke:#181818;stroke-width:1.0;\" x1=\"311.5\" x2=\"620\" y1=\"141.5625\" y2=\"141.5625\"/><text fill=\"#000000\" font-family=\"sans-serif\" font-size=\"13\" lengthAdjust=\"spacing\" textLength=\"147\" x=\"323.5\" y=\"136.4966\">2. Establish connection</text><polygon fill=\"#181818\" points=\"317.5,184.8281,307.5,188.8281,317.5,192.8281,313.5,188.8281\" style=\"stroke:#181818;stroke-width:1.0;\"/><line style=\"stroke:#181818;stroke-width:1.0;\" x1=\"311.5\" x2=\"625\" y1=\"188.8281\" y2=\"188.8281\"/><text fill=\"#000000\" font-family=\"sans-serif\" font-size=\"13\" lengthAdjust=\"spacing\" textLength=\"152\" x=\"323.5\" y=\"183.7622\">3. Request proof of age</text><path d=\"M131,154.5625 L131,209.5625 L301,209.5625 L301,164.5625 L291,154.5625 L131,154.5625 \" fill=\"#FEFFDD\" style=\"stroke:#181818;stroke-width:0.5;\"/><path d=\"M291,154.5625 L291,164.5625 L301,164.5625 L291,154.5625 \" fill=\"#FEFFDD\" style=\"stroke:#181818;stroke-width:0.5;\"/><text fill=\"#000000\" font-family=\"sans-serif\" font-size=\"13\" lengthAdjust=\"spacing\" textLength=\"132\" x=\"137\" y=\"171.6294\">The verifier provides</text><text fill=\"#000000\" font-family=\"sans-serif\" font-size=\"13\" lengthAdjust=\"spacing\" textLength=\"142\" x=\"137\" y=\"186.7622\">services to customers</text><text fill=\"#000000\" font-family=\"sans-serif\" font-size=\"13\" lengthAdjust=\"spacing\" textLength=\"149\" x=\"137\" y=\"201.895\">above 18 years of age.</text><polygon fill=\"#181818\" points=\"317.5,232.0938,307.5,236.0938,317.5,240.0938,313.5,236.0938\" style=\"stroke:#181818;stroke-width:1.0;\"/><polygon fill=\"#181818\" points=\"521.5,232.0938,531.5,236.0938,521.5,240.0938,525.5,236.0938\" style=\"stroke:#181818;stroke-width:1.0;\"/><line style=\"stroke:#181818;stroke-width:1.0;\" x1=\"311.5\" x2=\"527.5\" y1=\"236.0938\" y2=\"236.0938\"/><text fill=\"#000000\" font-family=\"sans-serif\" font-size=\"13\" lengthAdjust=\"spacing\" textLength=\"181\" x=\"323.5\" y=\"231.0278\">4. Collect list of available VC</text><polygon fill=\"#181818\" points=\"36.5,261.2266,26.5,265.2266,36.5,269.2266,32.5,265.2266\" style=\"stroke:#181818;stroke-width:1.0;\"/><line style=\"stroke:#181818;stroke-width:1.0;\" x1=\"30.5\" x2=\"305.5\" y1=\"265.2266\" y2=\"265.2266\"/><text fill=\"#000000\" font-family=\"sans-serif\" font-size=\"13\" lengthAdjust=\"spacing\" textLength=\"181\" x=\"42.5\" y=\"260.1606\">5. Display list of relevant VC</text><polygon fill=\"#181818\" points=\"294.5,290.3594,304.5,294.3594,294.5,298.3594,298.5,294.3594\" style=\"stroke:#181818;stroke-width:1.0;\"/><line style=\"stroke:#181818;stroke-width:1.0;\" x1=\"25.5\" x2=\"300.5\" y1=\"294.3594\" y2=\"294.3594\"/><text fill=\"#000000\" font-family=\"sans-serif\" font-size=\"13\" lengthAdjust=\"spacing\" textLength=\"257\" x=\"32.5\" y=\"289.2935\">6. Confirm intent to share and select VC</text><line style=\"stroke:#181818;stroke-width:1.0;\" x1=\"306.5\" x2=\"348.5\" y1=\"338.625\" y2=\"338.625\"/><line style=\"stroke:#181818;stroke-width:1.0;\" x1=\"348.5\" x2=\"348.5\" y1=\"338.625\" y2=\"351.625\"/><line style=\"stroke:#181818;stroke-width:1.0;\" x1=\"307.5\" x2=\"348.5\" y1=\"351.625\" y2=\"351.625\"/><polygon fill=\"#181818\" points=\"317.5,347.625,307.5,351.625,317.5,355.625,313.5,351.625\" style=\"stroke:#181818;stroke-width:1.0;\"/><text fill=\"#000000\" font-family=\"sans-serif\" font-size=\"13\" lengthAdjust=\"spacing\" textLength=\"187\" x=\"313.5\" y=\"318.4263\">7. Use VC to create verifiable</text><text fill=\"#000000\" font-family=\"sans-serif\" font-size=\"13\" lengthAdjust=\"spacing\" textLength=\"213\" x=\"313.5\" y=\"333.5591\">presentation with age ≥ 18 proof</text><polygon fill=\"#181818\" points=\"614,376.7578,624,380.7578,614,384.7578,618,380.7578\" style=\"stroke:#181818;stroke-width:1.0;\"/><line style=\"stroke:#181818;stroke-width:1.0;\" x1=\"306.5\" x2=\"620\" y1=\"380.7578\" y2=\"380.7578\"/><text fill=\"#000000\" font-family=\"sans-serif\" font-size=\"13\" lengthAdjust=\"spacing\" textLength=\"196\" x=\"313.5\" y=\"375.6919\">8. Send verifiable presentation</text><line style=\"stroke:#181818;stroke-width:1.0;\" x1=\"626\" x2=\"668\" y1=\"409.8906\" y2=\"409.8906\"/><line style=\"stroke:#181818;stroke-width:1.0;\" x1=\"668\" x2=\"668\" y1=\"409.8906\" y2=\"422.8906\"/><line style=\"stroke:#181818;stroke-width:1.0;\" x1=\"627\" x2=\"668\" y1=\"422.8906\" y2=\"422.8906\"/><polygon fill=\"#181818\" points=\"637,418.8906,627,422.8906,637,426.8906,633,422.8906\" style=\"stroke:#181818;stroke-width:1.0;\"/><text fill=\"#000000\" font-family=\"sans-serif\" font-size=\"13\" lengthAdjust=\"spacing\" textLength=\"54\" x=\"633\" y=\"404.8247\">9. Verify</text><polygon fill=\"#181818\" points=\"317.5,448.0234,307.5,452.0234,317.5,456.0234,313.5,452.0234\" style=\"stroke:#181818;stroke-width:1.0;\"/><line style=\"stroke:#181818;stroke-width:1.0;\" x1=\"311.5\" x2=\"625\" y1=\"452.0234\" y2=\"452.0234\"/><text fill=\"#000000\" font-family=\"sans-serif\" font-size=\"13\" lengthAdjust=\"spacing\" textLength=\"53\" x=\"323.5\" y=\"446.9575\">Redirect</text><!--MD5=[fee81cec8f118d5f30d83e622715bfba]\n",
       "@startuml\n",
       "actor Alice as Al\n",
       "collections Agents as Ag\n",
       "database \"VC repository\" as S\n",
       "entity Verifier as V\n",
       "Al -> Ag: 1. Navigate to connection resource\n",
       "Ag <-> V: 2. Establish connection\n",
       "V -> Ag: 3. Request proof of age\n",
       "note left\n",
       "    The verifier provides \n",
       "    services to customers \n",
       "    above 18 years of age.\n",
       "end note\n",
       "Ag <-> S: 4. Collect list of available VC\n",
       "Ag -> Al: 5. Display list of relevant VC\n",
       "Al -> Ag: 6. Confirm intent to share and select VC\n",
       "Ag -> Ag: 7. Use VC to create verifiable\\npresentation with age ≥ 18 proof\n",
       "Ag -> V: 8. Send verifiable presentation\n",
       "V -> V: 9. Verify\n",
       "V -> Ag: Redirect\n",
       "@enduml\n",
       "\n",
       "PlantUML version 1.2022.7beta2(Unknown compile time)\n",
       "(GPL source distribution)\n",
       "Java Runtime: Java(TM) SE Runtime Environment\n",
       "JVM: Java HotSpot(TM) 64-Bit Server VM\n",
       "Default Encoding: UTF-8\n",
       "Language: en\n",
       "Country: US\n",
       "--></g></svg>"
      ],
      "text/plain": [
       "<IPython.core.display.SVG object>"
      ]
     },
     "execution_count": 19,
     "metadata": {},
     "output_type": "execute_result"
    }
   ],
   "source": [
    "%%plantuml\n",
    "\n",
    "@startuml\n",
    "actor Alice as Al\n",
    "collections Agents as Ag\n",
    "database \"VC repository\" as S\n",
    "entity Verifier as V\n",
    "Al -> Ag: 1. Navigate to connection resource\n",
    "Ag <-> V: 2. Establish connection\n",
    "V -> Ag: 3. Request proof of age\n",
    "note left\n",
    "    The verifier provides \n",
    "    services to customers \n",
    "    above 18 years of age.\n",
    "end note\n",
    "Ag <-> S: 4. Collect list of available VC\n",
    "Ag -> Al: 5. Display list of relevant VC\n",
    "Al -> Ag: 6. Confirm intent to share and select VC\n",
    "Ag -> Ag: 7. Use VC to create verifiable\\npresentation with age ≥ 18 proof\n",
    "Ag -> V: 8. Send verifiable presentation\n",
    "V -> V: 9. Verify\n",
    "V -> Ag: Redirect\n",
    "@enduml "
   ]
  },
  {
   "cell_type": "markdown",
   "id": "11dcbb5c-0498-4b5e-b4d1-a1c50b89fa43",
   "metadata": {},
   "source": [
    "Expanding on the above steps:\n",
    "\n",
    "1. Alice navigates to a resource where the issuer has provided connection information.\n",
    "2. Alice's edge agent (assuming she uses her smart phone) uses the connection information to establish a secure connection between itself and the verifier.\n",
    "3. The verifier requests a proof of age to\n",
    "4. Alice's agents work with the VC repository to create a list of possible VCs Alice can use to satisfy the verifier's request\n",
    "5. Alice's agents work together to display this list to Alice\n",
    "6. Alice confirms the intent to share the claim and selects the VC to use\n",
    "7. Alice's agent(s) use the VC(s) to create a verifiable presentation with a proof that alice is above 18\n",
    "8. Alice's edge agent sends to verifiable presentation to the verifier\n",
    "9. The verifier verifies the claim\n",
    "10. The verifier sends a redirect to Alice's device.\n",
    "\n",
    "Note that both sequence diagrams included the term 'verifiable presentation'. This term will be explored next."
   ]
  },
  {
   "cell_type": "markdown",
   "id": "6b2be903-d03a-44b5-9f74-231eb67d4790",
   "metadata": {},
   "source": [
    "## A note on Verifiable Presentations"
   ]
  },
  {
   "cell_type": "markdown",
   "id": "f985220a-2879-4a4e-90ef-c62da84d0629",
   "metadata": {},
   "source": [
    "A VC is not the same as a verifiable presentation. And it is often not enough for a verifier to simply receive a VC. Some reasons for this include:\n",
    "\n",
    "* Verifiers need assurances that the credential holder actually intended to share the claims contained in the VC.\n",
    "* A VC may contain more information than what the user intended to share.\n",
    "* In the examples provided above, the holder often needed to link together difference VCs. But a VC does not include a proof of holder binding between claims shared from multiple different VC.\n",
    "* A holder may want to specify terms of use for the claims shared.\n",
    "\n",
    "Consequently, a verifiable presentation may be used to combine and present VC data. The data in a presentation may be about the same credential subject, but it is possible to create presentations involving multiple credential subjects (for instance, the example flow above with Claiming citizenship by parentage involved a verifiable presentation with two credential subjects, the applicant and the mother of said application).\n",
    "\n",
    "Below is an illustrative information graph for a verifiable presentation. Note how this graph builds on the previous example of a VC.\n",
    "\n",
    "<img src=\"https://www.w3.org/TR/vc-data-model/diagrams/presentation-graph.svg\" alt=\"Information graph showing the basics of a verifiable presentation\" width=\"700\">\n",
    "\n",
    "Fig 4. Information graphs showing the basics of a verifiable presentation."
   ]
  },
  {
   "cell_type": "markdown",
   "id": "9085f35b-867f-41b2-8e0d-a940e05085ab",
   "metadata": {},
   "source": [
    "## The VC lifecycle"
   ]
  },
  {
   "cell_type": "markdown",
   "id": "f56af0a9-653c-4955-91e7-31012b25e7a9",
   "metadata": {},
   "source": [
    "The VC lifecycle depends on the implementation and the VC format. This section will first describe the generic steps involved, before focusing on how the VC lifecycle looks like in EBSI. In general, the VC lifecycle consists of:\n",
    "\n",
    "1. The issuer can issue each VC exactly once to the holder.\n",
    "2. The holder can:\n",
    "    1. delete each VC exactly once.\n",
    "    2. transfer a given VC any number of times\n",
    "    3. present claims from a VC any number of times\n",
    "3. The verifier can perform a validity status check on the VC any number of times. \n",
    "\n",
    "The issuer and the holder activities are rather straight forward. However, the specifics of how to perform a validity status check is ecosystem specific. Some, like eIDAS are encouraging privacy preserving options and flows where validity status checks are performed without the issuer being notified about the use of the VC. \n",
    "\n",
    "In EBSI the generic VC lifecycle is based on the W3C specifications, but is purpose fit. Before describing the [EBSI VC lifecycle](https://ec.europa.eu/digital-building-blocks/wikis/display/EBSIDOC/Verifiable+Credentials+Lifecycle), it is necessary to know that EBSI defines a fourth role in addition to the regular roles (i.e., issuers, holders, and verifiers). The EBSI VC ecosystem also includes the Trusted Accreditation Issuer (TAI). The TAI accredits the issuers to issue an EBSI VC. The reliance of a TAI means that, while anyone could issue a VC, only those issuers accredited by a TAI will be able to issue EBSI VC. As aforementioned, verifiers are tasked with assessing whether or not to trust a VC, and doing a check on the issuer is a key part of a verifier's assessment. For a VC to be consider an EBSI VC, it needs to issued by a TAI accredited issuer.\n",
    "\n",
    "For the EBSI VC to work, a TAI needs to:\n",
    "\n",
    "* register a self generated DID and the cryptographic material required for connection establishment and credential verification on a VDR that EBSI supports.\n",
    "* establish a trust model for their domain. \n",
    "* define schemas and manage these schemas using the Trusted Schemas Registry.\n",
    "* issue Verifiable Accreditations to Accreditation issuers and VC issuers.\n",
    "\n",
    "For the EBSI VC to work, a TAI accredited trusted issuer needs to:\n",
    "\n",
    "* obtain Verifiable Accreditations from TAI\n",
    "* register a self generated DID and the cryptographic material required for connection establishment and credential verification on a VDR that EBSI supports.\n",
    "* register and manage their Verifiable Accreditations to the EBSI Trusted Issuers Registry.\n",
    "* issue VC to holders\n",
    "* E-seal VC\n",
    "\n",
    "For the EBSI VC to work, a holder needs to:\n",
    "\n",
    "* generate DIDs and cryptographic keys in their wallets.\n",
    "* identify trusted issuers using the EBSI Trusted Issuers Registry.\n",
    "* request EBSI VC from TAI accredited trusted issuers.\n",
    "* share their EBSI VC with verifiers using verifiable presentations.\n",
    "\n",
    "Finally, verifiers can:\n",
    "\n",
    "* request EBSI VC from holders\n",
    "* verify the verifiable presentation and the claims contained within.\n",
    "* verify issuers and their accreditation status.\n",
    "\n",
    "Note how the steps include the generic issuer holder verifier interactions, but that the specific way trust is established is purpose fit for the context that EBSI was designed for. Note specifically how the EBSI ecosystem limits EBSI VC issuance to TAI accredited entities. This gives verifiers in the EBSI ecosystem a way to assess whether or not to trust an EBSI VC.\n",
    "\n",
    "Later in this text, we will do a technical deep dive into how EBSI works."
   ]
  },
  {
   "cell_type": "markdown",
   "id": "7df38782-9df9-4b20-bca8-6bbc3146e0f1",
   "metadata": {},
   "source": [
    "## EBSI VC use cases"
   ]
  },
  {
   "cell_type": "markdown",
   "id": "afd2d191-fa58-4350-a89a-37c7e882f4c4",
   "metadata": {},
   "source": [
    "\n",
    "Above, the text has described the following:\n",
    "\n",
    "* the VC data model, \n",
    "* when and how to use a VC, \n",
    "* the VC ecosystem components and participants and their interactions, \n",
    "* what a VC can look like, \n",
    "* the generic VC lifecycle, and \n",
    "* the EBSI VC specific adaptations. \n",
    "\n",
    "It is now suitable to introduce the various EBSI VC use cases. On the EBSI confluence page, there are currently 7 use cases described. These are: 1) the European Self-Sovereign Identity Framework (ESSIF), 2) Diplomas, 3) Document traceability, 4) Asylum process management, 5) European Social Security Pass (ESSP), 6) SME financing, and 7) Trusted data sharing. In addition, there are other use cases that have applied for formal EBSI use case status. These use cases are: unique building identity, compliance, vehicle management, supply chain visibility, immunization, trust networks for SME, immigration control, health insurance cards, markets for media assets, public procurement, debt and equity financing, project service infrastructure, driving license, fraud prevention, eHealth, sustainable cities, and tourism. A few of the proposed use cases will be described next, followed by a more in depth description of the adopted EBSI use cases.\n",
    "\n",
    "### Proposed EBSI use cases\n",
    "\n",
    "The following are the proposed use cases for EBSI that have so far not been adopted. The described use cases are selected based on the order they appeared on the EBSI application page (and as such were not handpicked to make a point). Together, the three are representative of a broader theme in all applications, i.e., using EBSI for either identity or as a coordination tool for enabling trusted data exchanges in complex and dynamic networks.\n",
    "\n",
    "#### Unique Building Identification\n",
    "\n",
    "**The use case in brief**:  Develop a Unique Building Identification (UBI) and use if as the backbone of an information infrastructure where monitoring and construction data is shared between stakeholders.\n",
    "**Claimed benefit with EBSI**: Building monitoring data and construction data comes from a wide range of sources and from different countries. These data need to be pooled together for further analysis. But analysis is not possible if the data is not trustworthy. The use of EBSI VC to establish UBI is a way to establish trust.\n",
    "\n",
    "#### Compliance by design\n",
    "\n",
    "**The use case in brief**: Develop a system in which (financial) processes can be executed in a way that is always completely compliant with all applicable laws and regulations. Three main functions: 1) compliance through enforcement of laws and regulations, 2) simplify accountability by performing audits ex ante, and 3) combine and analyze information to allow traceability of public funds.\n",
    "**Claimed benefit with EBSI**: The use case is not VC related but proposes using Ethereum smart contracts on the Hyperledger Besu network that runs on EBSI.\n",
    "\n",
    "#### Management of a vehicle's lifecycle\n",
    "\n",
    "**The use case in brief**: To gather all relevant information along the lifecycle of a car across organizations and states and to establish a way to generate a transparent, trustworthy, and verified vehicle history report. To do so, the use case describes a need for secure and reliable data exchanges with customizable data ownership. A key enabler for all is to have a way to establish unique identities for entities (vehicles, parts, data etc.).\n",
    "**Claimed benefit with EBSI**: The use of an EBSI DLT (more specifically [R3 Corda](https://www.corda.net/)) to register information on identities. However, EBSI does not support Corda or its specific way to handle and manage identity.\n",
    "\n",
    "\n",
    "### Adopted EBSI use cases\n",
    "\n",
    "#### The European Self Sovereign Identity Framework\n",
    "\n",
    "The ESSIF use case is influenced by two main streams of though: 1) Self Sovereign Identity (SSI), and 2) the W3C VC model. The SSI concept is ill defined and highly politicized and the [wikipedia page on SSI](https://en.wikipedia.org/wiki/Self-sovereign_identity) and the references provided therein is probably the best start for a reader interested in the topic. Readers interested in learning how ESSIF builds on SSI are referred to the ESSIF text \"[How we use SSI](https://ec.europa.eu/digital-building-blocks/wikis/display/EBSIDOC/%5Barchived%5DESSIF+How+we+use+SSI)\".\n",
    "\n",
    "The ESSIF use case in brief:\n",
    "\n",
    "* it is about \"implementing a generic SSI capability, allowing users to create and control their own identity without relying on centralized authorities.\" The use case become an EBSI use case to address challenges related to digital identity in a cross border setting.\n",
    "* wants to leverage SSI principles (arguably, UCAD exchanges are a core feature in SSI) as an alternative to today's data management in the public sector where natural persons and legal persons cannot access their own data easily as these data are often tightly controlled and protected by centralized public authorities.\n",
    "* address some of the challenges in the existing solutions for the Once Only Principle (OOP), where cross border exchanges of data can be fairly complex and where the data subject is not in absolute control over these data flows (OOP is consent based).\n",
    "* GDPR compliance is important and ESSIF wants to enable a user centric way to manage consent information. Here, the [Automated Data Agreements project](https://github.com/decentralised-dataexchange/automated-data-agreements) is especially noteworthy as it enables using any VC ecosystem to manage a user's consent using VC.\n",
    "* the problems ESSIF wants to solve are as follows:\n",
    "    * Data acquisition and maintenance\n",
    "    * Data processing and the lack of identity enhanced data exchanges (i.e., it is often hard to know the source of data)\n",
    "    * Breaking down data silos\n",
    "    * Data subjects are not in control over their own identity data\n",
    "    * Existing solutions are not privacy preserving\n",
    "    * Today's solutions are not universal, linkable, or interoperable\n",
    "    * Citizens may have multiple national identities and it is hard identity in Europe.\n",
    "    * Lack of certifications\n",
    "\n",
    "To the above, the scope of ESSIF is to facilitate cross-border interactions using SSI and to enable UCAD within Europe. To do so, ESSIF is engaged in building an identity layer for EBSI. The technology of choice is the aforementioned adaptation of W3C VC and verifiable presentations and the ESSIF functional schematic is very similar to the VC data model shown above in Figure 1. A TAI accredited issuer can issue EBSI VC directly to holders, or issue EBSI VC following a credential request by the holder. The holder uses a personal data repository to store EBSI VC and the cryptographic secrets required for establishing secure communications channels and for signing an EBSI VC into an EBSI verifiable presentation. The verifier can request a verifiable presentation or the holder can create a verifiable presentation and send one to the verifier without a prior request.\n",
    "\n",
    "As ESSIF builds extensively on W3C VC, it is not worth describing the roles and flows in additional detail. What is interesting, however, is the VDR that ESSIF proposes and the specifics of this VDR. Since EBSI is blockchain agnostic (this means that EBSI is not a blockchain, but an infrastructure that can host a number of different decentralized/distributed storage solutions including blockchains and DLTs), ESSIF requires that EBSI can support multiple different VDR solutions. Or as ESSIF explains:\n",
    "\n",
    "> In the SSI stack, DLTs are typically the base, with other infrastructure layers above such as abstraction layers associated with identifiers, protocols and claims, before reaching the application layers. This being said, DLT layers are not necessarily more influential as everything should be DLT agnostic. \n",
    "\n",
    "test\n",
    "\n",
    "#### Cross-border coordination of asylum procedures\n",
    "\n",
    "**The use case in brief**: To build a shared and persistent truth on the state of an asylum process that can shared among the member states. The use case proposes a unique digital identity for each asylum applicant and to link the asylum process to this identity.\n",
    "**Claimed benefit with EBSI**: The use of an EBSI ledger for managing the asylum process. The use of EBSI VC for sharing identity information.\n",
    "\n",
    "#### European Social Security Number\n",
    "\n",
    "**The use case in brief**: To assign a unique identifier, an European Social Security Number (ESSN), to each citizen and to be able to track their movements across Europe.\n",
    "**Claimed benefit with EBSI**: The use of an EBSI ledger for managing ESSN."
   ]
  },
  {
   "cell_type": "markdown",
   "id": "fce72826-bc16-496d-80a2-76f88bcc0d97",
   "metadata": {},
   "source": [
    "# A technical deep dive"
   ]
  },
  {
   "cell_type": "markdown",
   "id": "69f70839-9d47-4009-8efa-d8d4c010432c",
   "metadata": {},
   "source": [
    "## EBSI architecture and stuff !!"
   ]
  },
  {
   "cell_type": "markdown",
   "id": "4ae837e9-a329-45f5-8ac3-d23a414ae58e",
   "metadata": {
    "jp-MarkdownHeadingCollapsed": true,
    "tags": []
   },
   "source": [
    "## The Trust over IP stack"
   ]
  },
  {
   "cell_type": "markdown",
   "id": "e1785868-763c-481b-9cd5-390199e7ff13",
   "metadata": {},
   "source": [
    "The Trust over IP stack has two tracks: Technology and Governance. The technology stack contains all the technical components that make it possible to exchange verifiable data between two actors. The governance track contains the rules and policies that govern each layer of the technical solution.\n",
    "\n",
    "<img src = 'fig/toip.png' width = 700>\n",
    "\n",
    "Below, we look specifically at the technology stack (layers 1-3) and run everything using the default governance settings and in \"God mode\".\n",
    "\n",
    "This text aims to document the design process with the Authentic Company Data project at Bolagsverket. Digital identity is rapidly evolving. Open source projects like Hyperledger Aries and Ursa projects provide a set of protocols that, when paired with DLTs such as Hyperledger Indy or Besu, can be used for building distributed applications built on authentic and secure data.\n",
    "\n",
    "\n",
    "\n",
    "\n",
    "\n",
    "\n",
    "A core element of this text is the [Trust over IP concept](https://trustoverip.org/toip-model/). The Linux Foundation added ToIP in to its projects in 2020. The mission of the ToIP foundation is to simplify and standardize how trust is established online, i.e., to provide mechanisms for how interacting entities can trust the credential exchanges they are engaged in. At its core, the ToIP introduces three actors: an issuer of credentials, a holder of credentials, and a verifier of credentials. \n",
    "\n",
    "The concept introduces a technology and governance stack that affords a very high degree of privacy and user control to the credential holder. The ToIP concept can be viewed as an alternative to existing centralized and federated identity models where the user has very limited control over their online idenity and data. However, the ToIP concept does not assume any trust model for identity related data and can be configured to support many kinds of trust models. \n",
    "\n",
    "## Objectives\n",
    "\n",
    "The specific objectives of this text is to build a good foundation for understanding ToIP compliant digital identities. The text will use a series of labs to demonstrate how Verifiable Credentials (or equivalent authenticated data) works and to motivate design choices along the way. The main focus of the text is  Layers 1-3 on the ToIP technology stack.\n",
    "\n",
    "<img src=\"https://miro.medium.com/max/1400/1*DgPBpnT_RxDEnd_ptdynkQ.png\" alt=\"drawing\" width=\"800\"/>\n",
    "\n",
    "**Fig 2.** *The dual stack ToIP ([source](https://www.dizme.io/)).*\n",
    "\n",
    "Also, the default settings for the governance stacks are often used since the focus is on the technology stack. More specifically:\n",
    "\n",
    "* Layer 1: establishing cryptographic roots of trust labs:\n",
    "  1. How to establish a secure and privacy connection between two actors.\n",
    "  2. How to verify the identity of the party you are connecting to.\n",
    "  3. Explain the governance choices necessary to enable technical trust on Layer 1.\n",
    "* Layer 2: the agent labs:\n",
    "  1. How to implement digital wallets and agents\n",
    "* Layer 3: data exchange labs\n",
    "  1. Offering, requesting, and creating verifiable credentials\n",
    "  2. Verifying verifiable credentials\n",
    "  3. Enabling advanced features like selective disclosure and predicate proofs\n",
    "\n",
    "Note that the lab numbering will not correspond to the layer numbering.\n",
    "\n",
    "## Terminology and key concepts\n",
    "\n",
    "See this [link](https://docs.google.com/document/d/1gfIz5TT0cNp2kxGMLFXr19x1uoZsruUe_0glHst2fZ8/edit) for an exhaustive list of terms and definitions. Key concepts used in the labs are as follow:\n",
    "\n",
    "* **Self-sovereign identity (SSI)**. An idea that digital identity should be privacy preserving and identity subject controlled by design. Identity related data flows should be solely in the control of the identity subject, i.e., there is no communication between the issuer and the verifier.\n",
    "* **Trust over IP**. A Linux Foundation organization that has developed the dual stack model of how to establishing trust online.\n",
    "* **Decentralized identifiers (DID)**. A DID is a universally unique identifier that can be cryptographically verified in such a way that does not rely on a central authority. See the [W3C proposed standards page](https://www.w3.org/TR/did-core/) for more information.\n",
    "* **Zero Knowledge Proof (ZKP)**. A proof system that prooves only whether a fact or a statement is true or not without revealing any additional details about the fact or statement.\n",
    "*  **Selective disclosure**. A capability of some verifiable credential formats that allows the holder to select which attributes from an issued verifiable credential to share with a verifier.\n",
    "*  **Revocation**. The capability of an issuer to publish information used to verify the status of an issued credential. Revocation is either done using traditional techniques, or in a ZKP fashion.\n",
    "*  **Verifiable Credential formats**. The specific way a verifiable credential is formatted. For an in-depth reading see [Young. Verifiable Credentials\n",
    "Flavors Explained](https://www.lfph.io/wp-content/uploads/2021/02/Verifiable-Credentials-Flavors-Explained.pdf) and for an overview see this [infographic](https://www.lfph.io/wp-content/uploads/2021/04/Verifiable-Credentials-Flavors-Explained-Infographic.pdf). The credential format and the signature schemes used is one major design choice. For selective disclosure, you need a signature scheme capable of multi-message signing, e.g., CL or BBS+. Of the two, CL signatures are more widely deployed, but are not compliant with the W3C VC data model. In contrast, BBS+ is W3C VC compliant, but does not support ZKP revocation and redicate proofs. Each lab will detail the use of VC format.\n",
    "    - *AnonCred*. An early privacy focuse VC format focused on attributes. Not compatible with the W3C VC format but is easier to use and has more extensive privacy features. See details [here](https://github.com/PeterAltmann/SSIdemo/blob/main/VC_formats.md).\n",
    "* **Secure storage**. A way to securely store secrets. This involves the management of cryptographic secrets handled within a key management service, and the storage of other sensitive data.\n",
    "* **Agent**. An agent is a software that interacts with other entities in order to facilitate the handling of VCs.\n",
    "* **Blockhains and Distributed Ledger Technology (DLT)**. An identity ecosystem must rely on some sort of verifiable data registry (a VDR) to maintain certain data that must be public. The exact nature of the VDR is another major design implication.  \n",
    "* **Framework**. The framework is one out of two logical components that enables an agent to interact. The framework is what knows how to establish a connection, send a message, create a credential etc. There exist many frameworks, the most popular is arguably the frameworks that build on the Hyperledger Aries protocols. Most of the labs herein, build on the Aries framework called ACA-Py unless otherwise specified. The ACA-Py is a python based framework focused on enterprise agents.\n",
    "* **Controller**. The controller is the second logical component of an agent. The framework does not know when to establish a connection or when to issue a credential. The controller encodes the organizations business rules and is responsible for telling the framework what to do and when to do it.\n",
    "\n",
    "There are many protocols, technologies, implementations etc., mentioned in the text below. To facilitate reading, please se the following terminology/concepts/terms map in [this link](https://user-images.githubusercontent.com/30799110/150362394-5d0319ae-7bad-4674-863c-d6dd35346ea9.png).\n",
    "\n",
    "# General setup guide for the labs\n",
    "\n",
    "The prerequisites for the labs are a computer (with access to Ubuntu 18.04) and a smart phone. All the labs can be run locally on your machine, or using the browser using a service called \"Play with Docker\", which allows you to access a terminal command line without having to install anything locally. If you want to run the labs locally, you will need a terminal CLI running bash shell, [docker](https://docs.docker.com/get-docker/) and [docker-compose](https://docs.docker.com/compose/install/), and [git](https://www.linode.com/docs/guides/how-to-install-git-on-linux-mac-and-windows/). To run the labs in your browser, go to the docker playground http://play-with-von.vonx.io/ (already has all the prerequisites installed). Optionally, if you are not comfortable with CLI, there is this guide that is focused on [openAPI](https://medium.com/@khalifa.toumi/how-to-use-hyperledger-aries-cloud-agent-for-a-classical-workflow-issuer-holder-verifier-9dd595f2f847).\n",
    "\n",
    "## Lab 1 \n",
    "\n",
    "In Lab 1., we use the demos provided to get a basic feel for how agents work and interact. Follow [this link](https://github.com/PeterAltmann/SSIdemo/blob/main/LAB1.md) for the lab.\n",
    "\n",
    "## Lab 2\n",
    "\n",
    "In Lab 2. we move beyond the demos and take a closer look at how we can use ACA-Py to provision agents and do basic interactions. Follow [this link](https://github.com/PeterAltmann/SSIdemo/blob/main/LAB2.md) to get to the lab. \n",
    "\n",
    "## Lab 3\n",
    "\n",
    "In Lab 3. we continue taking a closer look at ACA-Py and see how we can use it to start our own agents and issue a VC within the context of Authentic Company Data. See this [link](https://github.com/PeterAltmann/SSIdemo/blob/main/LAB3.md). \n",
    "\n",
    "## Lab 4\n",
    "\n",
    "In [Lab 4](https://github.com/PeterAltmann/SSIdemo/blob/main/LAB4.md), we take a closer look at DIDComm and the ways agents can connect.\n",
    "\n",
    "## Lab 5\n",
    "\n",
    "In Lab 5, we take a closer look at a simple presentation flow.\n",
    "\n",
    "## Lab 6\n",
    "\n",
    "In [Lab 6](https://github.com/PeterAltmann/SSIdemo/blob/main/LAB6.md), we take a closer look at revocation.\n",
    "\n",
    "## Lab 7\n",
    "\n",
    "In Lab 7, we take a closer look at selective disclosure.\n",
    "\n",
    "## Lab 8\n",
    "\n",
    "In Lab 8, we look at the OpenAPI demo that exists in the [ACA-Py github demo folder](https://github.com/hyperledger/aries-cloudagent-python/blob/main/demo/AriesOpenAPIDemo.md). \n",
    "\n",
    "## Lab 9\n",
    "\n",
    "In Lab 9. We showcase webhooks and how the aca-py agent framework interacts with the controller.\n",
    "\n",
    "## Lab 10\n",
    "\n",
    "In Lab 10, we look at JSON-LD VC formats signed with BBS+. Source (https://github.com/hyperledger/aries-cloudagent-python/blob/main/demo/AliceWantsAJsonCredential.md)\n",
    "\n"
   ]
  },
  {
   "cell_type": "markdown",
   "id": "bb755640-c158-458b-b5bd-eb506a60808a",
   "metadata": {},
   "source": [
    "## Formats for VCs\n",
    "\n",
    "The ongoing work\n",
    "\n",
    "focus on SD-JWT and mdoc and anoncreds"
   ]
  },
  {
   "cell_type": "markdown",
   "id": "117fe37e-bfa9-4771-ab6e-b479752ce694",
   "metadata": {
    "tags": []
   },
   "source": [
    "## Revocation\n",
    "\n",
    "my revocation document on confluence"
   ]
  },
  {
   "cell_type": "markdown",
   "id": "0cdf618b-fc0e-418b-a764-39a05a808232",
   "metadata": {},
   "source": [
    "## EBSI architecture\n",
    "\n",
    "text from https://ec.europa.eu/digital-building-blocks/wikis/display/EBSIDOC/Architecture"
   ]
  },
  {
   "cell_type": "markdown",
   "id": "af9e4a38-4552-4a62-87bc-ab9a0e304111",
   "metadata": {},
   "source": [
    "## EBSI VCs\n",
    "\n",
    "https://ec.europa.eu/digital-building-blocks/wikis/display/EBSIDOC/Build"
   ]
  },
  {
   "cell_type": "markdown",
   "id": "2b78b001-1c36-4451-9674-5fa2ea6ab79d",
   "metadata": {},
   "source": [
    "## Working with Aries, Ursa, and Indy\n",
    "\n",
    "The SSIdemo documents"
   ]
  },
  {
   "cell_type": "markdown",
   "id": "497aa74f-f2c7-4ff4-ae7c-5462f4af9051",
   "metadata": {},
   "source": [
    "## The proof of business case"
   ]
  },
  {
   "cell_type": "markdown",
   "id": "94bc9ea7-9b93-4a18-9504-c78345401e72",
   "metadata": {
    "jp-MarkdownHeadingCollapsed": true,
    "tags": []
   },
   "source": [
    "# An illustrative example using ACA-Py and Proof of Business"
   ]
  },
  {
   "cell_type": "code",
   "execution_count": null,
   "id": "ae56acd5-6d3c-472b-be8b-703f93baa57b",
   "metadata": {},
   "outputs": [],
   "source": []
  }
 ],
 "metadata": {
  "kernelspec": {
   "display_name": "Python 3 (ipykernel)",
   "language": "python",
   "name": "python3"
  },
  "language_info": {
   "codemirror_mode": {
    "name": "ipython",
    "version": 3
   },
   "file_extension": ".py",
   "mimetype": "text/x-python",
   "name": "python",
   "nbconvert_exporter": "python",
   "pygments_lexer": "ipython3",
   "version": "3.9.7"
  }
 },
 "nbformat": 4,
 "nbformat_minor": 5
}
