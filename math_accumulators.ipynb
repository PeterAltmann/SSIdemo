{
 "cells": [
  {
   "cell_type": "markdown",
   "id": "711cd42f-090d-4223-9081-5bb02ec6341b",
   "metadata": {
    "tags": []
   },
   "source": [
    "# An introduction to non-revocation proofs using cryptographic accumulators\n",
    "\n",
    "The purpose of this notebook is to give a high level idea of how revocation works using cryptographic accumulators. In reality, there are various ways to construct and use accumulators and to generate ZKP of non-revocation. Below is just meant to provide a very simple example on how the idea works."
   ]
  },
  {
   "cell_type": "markdown",
   "id": "a0adcdcc-6357-4e61-939b-d624ba4b8b82",
   "metadata": {},
   "source": [
    "## Basic workings of a non-revocation proof"
   ]
  },
  {
   "cell_type": "code",
   "execution_count": 1,
   "id": "976184ce-5293-4694-95a5-24ad1954c560",
   "metadata": {},
   "outputs": [],
   "source": [
    "# !pip install ECPy\n",
    "# !pip install pycrypto"
   ]
  },
  {
   "cell_type": "code",
   "execution_count": 2,
   "id": "23fd5c8c-ee98-46ca-9eba-ea7ce0a38048",
   "metadata": {},
   "outputs": [],
   "source": [
    "from ecpy.curves import Curve, Point\n",
    "from Crypto.Util import number\n",
    "import numpy as np"
   ]
  },
  {
   "cell_type": "code",
   "execution_count": 3,
   "id": "693e6845-b8f8-4e40-a452-fed20c520fbf",
   "metadata": {},
   "outputs": [],
   "source": [
    "c = Curve.get_curve('secp256k1')\n",
    "G = c.generator\n",
    "order = c.order"
   ]
  },
  {
   "cell_type": "markdown",
   "id": "15d39bde-cdf2-4f0e-887a-7148dff60470",
   "metadata": {},
   "source": [
    "The issuer generates a tails file and computes the accumulator"
   ]
  },
  {
   "cell_type": "code",
   "execution_count": 4,
   "id": "9f9ed0c6-63ea-460e-aee7-4919cd03b127",
   "metadata": {
    "tags": []
   },
   "outputs": [],
   "source": [
    "tails_factors = []\n",
    "tails_factors_inv = []\n",
    "for i in range(10):\n",
    "    tmp = number.getPrime(255) #one less than order to make sure that it does not wrap around the mod\n",
    "    tails_factors.append(tmp)\n",
    "    tails_factors_inv.append(tmp)\n",
    "    \n",
    "H = tails_factors[0] * G # Holder's point\n",
    "w = np.prod(tails_factors[1:]) % order # Witness value\n",
    "A = H * w # Accumulator"
   ]
  },
  {
   "cell_type": "markdown",
   "id": "d306f958-0b6f-4b90-bc17-de21b746e66c",
   "metadata": {},
   "source": [
    "We issue a credential where the non revocation proof includes a value from the index. For our example, we use index 0. The witness includes all the factors except the holder's point. The accumulator is published."
   ]
  },
  {
   "cell_type": "markdown",
   "id": "5b4c79e7-b4d6-4099-be59-e066b1493b85",
   "metadata": {},
   "source": [
    "A simple demonstration of non-revocation can be done as follows:\n",
    "\n",
    "* Generator is $G$\n",
    "* Holder point is $H = a_0 \\cdot G$\n",
    "* Tails file is $[a_0, a_1, \\ldots, a_n]$\n",
    "* Accumulator is $A = G \\cdot \\prod_{i=0}^{n}a_i$\n",
    "* Witness point for $a_0$ is $w = a_0^{-1} \\cdot \\prod_{i=0}^{n}a_i$\n",
    "* The holder generates a random blinding factor $r$ and its inverse $r^{-1}$.\n",
    "\n",
    "The holder now has everything required to initiate the non revocation proof.\n",
    "\n",
    "* The holder sends to the verifier: $[r \\cdot H, r \\cdot w]$. The verifier cannot learn $(H,w)$ as that would require an efficient way to solve the EC discrete log problem.\n",
    "* The verifier generates a challenge $c$ and sends back $[c \\cdot r \\cdot H, c \\cdot r \\cdot w]$. Note that the holder cannot learn $c$ due to ECDLP.\n",
    "* The holder computes $[c \\cdot r \\cdot H \\cdot r^{-1}, c \\cdot r \\cdot w \\cdot r^{-1}]$, which gives the non-revocation proof: $p = (c \\cdot r \\cdot H \\cdot r^{-1} ) (c \\cdot r \\cdot w \\cdot r^{-1}) = c^2 \\cdot w \\cdot H$ \n",
    "* Victor checks if $p \\cdot c^{-2} = A$ "
   ]
  },
  {
   "cell_type": "code",
   "execution_count": 5,
   "id": "19d0db32-e0df-4583-bce7-c8a6c50ab417",
   "metadata": {},
   "outputs": [
    {
     "data": {
      "text/plain": [
       "True"
      ]
     },
     "execution_count": 5,
     "metadata": {},
     "output_type": "execute_result"
    }
   ],
   "source": [
    "# Holder\n",
    "r = number.getRandomRange(2, order)\n",
    "r_inv = pow(r, -1, order)\n",
    "blinded_values = [r * H, r * w]\n",
    "\n",
    "# Verifier does\n",
    "c = number.getRandomRange(2, order)\n",
    "challenge = [c * i for i in blinded_values]\n",
    "\n",
    "# Holder does\n",
    "non_revocation = (r_inv * challenge[0]) * (r_inv * challenge[1])\n",
    "\n",
    "# Verifier now checks\n",
    "non_revocation * pow(c, -2, order) == A"
   ]
  },
  {
   "cell_type": "markdown",
   "id": "7a7b896c-e561-4b4c-a26c-7ed157fb7451",
   "metadata": {},
   "source": [
    "## Issuer revocation"
   ]
  },
  {
   "cell_type": "markdown",
   "id": "e3d67508-f9d1-4f49-8c7c-3e7d8defa1f5",
   "metadata": {
    "tags": []
   },
   "source": [
    "### Issuer revokes a credential \n",
    "\n",
    "* To remove $H$ from $A$, the issuer simply does $A_{new} = A_{old} \\cdot a_0^{-1}$.\n",
    "* To remove any value set from $A$, the issuer computes $A_{new} = A_{old} \\cdot \\prod^{n}_{i=m} a_i^{-1}$ where the range $[m,n]$ is the index of all the revoked values.\n",
    "* When a value is revoked, the issuer publishes a delta to allow still valid holders to prove non-revocation."
   ]
  },
  {
   "cell_type": "markdown",
   "id": "10cda9d3-77a9-4219-8466-65047841be0b",
   "metadata": {},
   "source": [
    "Note that it is trivially easy for a holder create a false proof. This because the delta contains information about what is still a valid point. As stated, the above example is to create a basic understanding of how accumulators work. The example below is closer to the truth."
   ]
  },
  {
   "cell_type": "code",
   "execution_count": 6,
   "id": "81117971-17bc-493e-978d-469ed66fa966",
   "metadata": {},
   "outputs": [],
   "source": [
    "delta = np.prod(tails_factors_inv[5:]) % order\n",
    "A_new = A * delta"
   ]
  },
  {
   "cell_type": "code",
   "execution_count": 7,
   "id": "82e760e0-357e-4d90-b300-0f02b25f0ea2",
   "metadata": {},
   "outputs": [
    {
     "data": {
      "text/plain": [
       "True"
      ]
     },
     "execution_count": 7,
     "metadata": {},
     "output_type": "execute_result"
    }
   ],
   "source": [
    "# Holder\n",
    "r = number.getRandomRange(2, order)\n",
    "r_inv = pow(r, -1, order)\n",
    "blinded_values = [r * H, r * w]\n",
    "\n",
    "# Verifier does\n",
    "c = number.getRandomRange(2, order)\n",
    "challenge = [c * i for i in blinded_values]\n",
    "\n",
    "# Holder does\n",
    "non_revocation = (r_inv * challenge[0]) * (r_inv * challenge[1]) * delta\n",
    "\n",
    "# Verifier now checks\n",
    "non_revocation * pow(c, -2, order) == A_new"
   ]
  }
 ],
 "metadata": {
  "kernelspec": {
   "display_name": "Python 3 (ipykernel)",
   "language": "python",
   "name": "python3"
  },
  "language_info": {
   "codemirror_mode": {
    "name": "ipython",
    "version": 3
   },
   "file_extension": ".py",
   "mimetype": "text/x-python",
   "name": "python",
   "nbconvert_exporter": "python",
   "pygments_lexer": "ipython3",
   "version": "3.9.7"
  }
 },
 "nbformat": 4,
 "nbformat_minor": 5
}
