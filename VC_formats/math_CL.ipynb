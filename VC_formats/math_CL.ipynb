{
 "cells": [
  {
   "cell_type": "markdown",
   "id": "23696bfc-4a42-47c5-b293-b49767df400b",
   "metadata": {},
   "source": [
    "# Mathematical foundations of CL\n",
    "\n",
    "Selective disclosure and the AnonCred format requires a signature scheme that supports signing multiple messages with a single signature. The Camenisch-Lysyanskaya (CL) signature scheme is a multi message capable signature scheme that was developed in a series of papers ([CL01](https://eprint.iacr.org/2001/019.pdf), [CL02](https://cs.brown.edu/people/alysyans/papers/camlys02.pdf), [CL03](http://cs.brown.edu/people/alysyans/papers/camlys02b.pdf), [CL04](https://www.iacr.org/archive/crypto2004/31520055/cl04.pdf)). To understand CL signatures, it is important to understand both the Discrete Log Problem and Cryptographic Commitments."
   ]
  },
  {
   "cell_type": "markdown",
   "id": "3b907193-9a34-415b-81d2-9fc7f0579e16",
   "metadata": {},
   "source": [
    "## Discrete Log Problem\n",
    "\n",
    "Given a multiplicative cyclic group $G$ a generator $g$ can generate every element $h \\in G$ as $g^x$ for some $x$. The **discrete log** to the base $g$ of $h$ in the group $G$ is defined as $x$.\n",
    "\n",
    "Example: For $G = \\mathbf{Z}_5$, and $g=2$, the discrete log of 1 is 4 because $2^4 \\equiv 1 \\pmod 5$\n",
    "\n",
    "The **discrete log problem** is defined as: given $(G,g,h)$, find the base $g$ discrete log of $h$ in $G$. Note that the discrete log problem is not always hard. The hardness depends on the choice of the groups. A prime order group $\\mathbf{Z}_p$ where $p-1$ is not a product of small primes (it is common to use a [safe prime](https://en.wikipedia.org/wiki/Safe_and_Sophie_Germain_primes#:~:text=The%20number%202p%20%2B%201%20associated,is%20its%20associated%20safe%20prime.&text=Sophie%20Germain%20primes%20and%20safe,key%20cryptography%20and%20primality%20testing.) of at least 1024 bits) is safe in the sense that we know of no efficient algorithms for solving the discrete log in that group."
   ]
  },
  {
   "cell_type": "markdown",
   "id": "2d5f819a-5a2c-4c49-8203-542c6dc85d26",
   "metadata": {},
   "source": [
    "## Cryptographic commitments\n",
    "\n",
    "A commitment scheme is a protocol that allows one to commit a message publicly with the option to reveal the message when so desired. The [Pedersen commitment scheme](https://web.archive.org/web/20170811001441/https://eprint.iacr.org/2004/201.pdf), in its simplified version, is a commitment $c$ of the message $m$ as $c \\equiv a^m \\pmod n$ where $a$ is a member of a large multiplicate cyclic group $G$. Due to the discrete log problem, a receiver given $c$ cannot find $m$, but it is trivially easy to verify the commitment if the committer shares $m$."
   ]
  },
  {
   "cell_type": "markdown",
   "id": "2335499c-ad20-44bf-912b-5b937c4d64e6",
   "metadata": {},
   "source": [
    "## CL signatures\n",
    "\n",
    "### Strong RSA based \n",
    "\n",
    "Originally, CL signatures were based on the strong RSA assumption. This resulted in large key sizes to provide sufficient security against prime factorization. The actors and their interactions are as follows:\n",
    "\n",
    "* An issuer signs a signature on a block of messages\n",
    "* The holder presents the messages, or a subset thereof, to a verfier together with the signature\n",
    "* The verifier checks the messages and the signature\n",
    "\n",
    "The CL signature scheme consists of three steps ([source](https://www.csc.kth.se/~buc/PPC/Slides/jan.pdf)):\n",
    "\n",
    "1. Key generation\n",
    "2. Signature generation\n",
    "3. Signature verification\n",
    "\n",
    "**Key generation**. \n",
    "\n",
    "Prerequisites: a collision-free hash function $H:\\{0,1\\}^{*} \\rightarrow \\{0,1\\}^{l}$ \n",
    "\n",
    "* Private key: two random primes $(p,q)$\n",
    "* Public key: RSA modulus $n = pq$, and $a_i,b,d \\in \\mathbf{QR}_n$ (ie., generates $K+2$ random numbers from a [quadratic residue](https://en.wikipedia.org/wiki/Quadratic_residue) modulo $n$)\n",
    "\n",
    "**Signature generation**\n",
    "\n",
    "* The issuer generates a random prime $e > 2^l$ and a random number $s \\approx n$. \n",
    "* Compute $c$ s.t. \n",
    "\n",
    "\\begin{align}\n",
    "    d \\equiv a_1^{m_1} \\cdot \\ldots \\cdot a_k^{m_k} b^s c ^e \\pmod n\n",
    "\\end{align}\n",
    "\n",
    "The signature is $(c,e,s)$.\n",
    "\n",
    "**Signature verification** \n",
    "\n",
    "Given a signature $(c,e,s)$ of messages $\\{m_1,\\ldots,m_k\\}$, a verifier can verify the signature using the issuer's public key."
   ]
  },
  {
   "cell_type": "markdown",
   "id": "cc97aea2-7e90-453d-b2ff-cff2e99c9379",
   "metadata": {
    "tags": []
   },
   "source": [
    "## Selective disclosure with CL signatures\n",
    "\n",
    "The holder can selectively disclose a message by:\n",
    "\n",
    "1. sending $m_i$ to the verifier, who computes $(a_i^{m_i}) \\pmod n$\n",
    "2. compute $(a_i^{m_i}) \\pmod n$, which is the commitment of $m_i$ and sent the commitment to he verifier\n",
    "\n",
    "The holder can send over the messages they wish to disclose, and the commitment for the messages they wish to keep secret."
   ]
  },
  {
   "cell_type": "markdown",
   "id": "bc9b5704-0986-472e-973a-7a103c006b58",
   "metadata": {
    "tags": []
   },
   "source": [
    "### The alternative as shown on [medium](https://medium.com/finema/anonymous-credential-part-2-selective-disclosure-and-cl-signature-b904a93a1565)\n",
    "\n",
    "The steps are the same as above, but the medium link provides the computation as follows:\n",
    "\n",
    "\\begin{align}\n",
    "    v^e \\equiv a_1^{m_1} \\cdot \\ldots \\cdot a_k^{m_k} b^s c \\pmod n\n",
    "\\end{align}\n",
    "\n",
    "This is the same as the one above with the step of computing the $e^{-1}$, using $(p-1)(q-1)$ as modulus, and raising both the RH and LS to it."
   ]
  },
  {
   "cell_type": "code",
   "execution_count": 1,
   "id": "d642aa91-1d43-430a-9cbc-781da63597ae",
   "metadata": {
    "tags": []
   },
   "outputs": [],
   "source": [
    "#!conda install -c conda-forge pycryptodome -y # for docker jupyter labs\n",
    "from Crypto.Util import number"
   ]
  },
  {
   "cell_type": "code",
   "execution_count": 2,
   "id": "2f3e3593-8102-4c83-8a5f-b3b795c12a5d",
   "metadata": {},
   "outputs": [
    {
     "name": "stdout",
     "output_type": "stream",
     "text": [
      "Public key is: (a_1, a_2) = (550828409666538705, 9571406797102341698), b = 2600824706072779672, c = 5866881841088568039, n = 11149101156031745201\n",
      "Private key is: (2689281043, 4145755307)\n",
      "\n",
      "Signature on m_1, m_2 (10674260871497813288, 3754177875595527393) is: e = 28284475931224289779, s = 484321854995968823211740647871723565820, v = 2475067959638636802\n",
      "RHS is same as LHS: True\n"
     ]
    }
   ],
   "source": [
    "# The medium version\n",
    "p = number.getPrime(32) # We ignore safe primes\n",
    "q = number.getPrime(32) # We ignore safe primes\n",
    "n = p*q\n",
    "\n",
    "a_1 = pow(number.getRandomRange(2, n), 2, n)\n",
    "a_2 = pow(number.getRandomRange(2, n), 2, n)\n",
    "b = pow(number.getRandomRange(2, n), 2, n)\n",
    "c = pow(number.getRandomRange(2, n), 2, n)\n",
    "\n",
    "m_1 = number.getRandomRange(2, n)\n",
    "m_2 = number.getRandomRange(2, n)\n",
    "\n",
    "e = number.getPrime(m_1.bit_length() + 1)\n",
    "e_inv = pow(e, -1, (p-1)*(q-1))\n",
    "s = number.getRandomNBitInteger(m_1.bit_length() + n.bit_length() + 1)\n",
    "\n",
    "RH = (pow(a_1, m_1, n) * pow(a_2, m_2, n) * pow(b, s, n) * c) % n\n",
    "v = pow(RH, e_inv, n)\n",
    "\n",
    "print(f'Public key is: (a_1, a_2) = {(a_1, a_2)}, b = {b}, c = {c}, n = {n}')\n",
    "print(f'Private key is:', (p,q))\n",
    "print(f'\\nSignature on m_1, m_2 ({m_1}, {m_2}) is: e = {e}, s = {s}, v = {v}')\n",
    "\n",
    "print('RHS is same as LHS:', pow(v, e, n) == (pow(a_1, m_1, n) * pow(a_2, m_2, n) * pow(b, s, n) * c) % n)"
   ]
  },
  {
   "cell_type": "markdown",
   "id": "d3574c02-3f3a-41ce-b547-faff7b1f4ba1",
   "metadata": {},
   "source": [
    "### The traditional way as shown in CL01"
   ]
  },
  {
   "cell_type": "markdown",
   "id": "16dbc946-2cfd-4445-baba-0e3e92319cea",
   "metadata": {},
   "source": [
    "Steps:\n",
    "\n",
    "* Generate $n=pq$\n",
    "* $R_0, \\ldots, R_{L-1}, S, Z \\in \\mathbf{QR}_n$\n",
    "* Public key will be $(n,R_0, \\ldots, R_{L-1}, S, Z)$\n",
    "* Secret key is $p$\n",
    "* Message space is $\\{(m_0, \\ldots, m_{L-1}): m_i \\in \\pm \\{0,1\\}^{l_m}\\}$\n",
    "* Signing algorithm: on input $(m_0, \\ldots, m_{L-1})$ chose a random prime $e>l_m + 2$ and a random number $v$ of length $l_v = l_n + l_m + l_r$ where $l_r$ is a security parameter\n",
    "* Compute the value $A$ s.t. \n",
    "\n",
    "\\begin{align}\n",
    "  A = \\Bigg(\\frac{Z}{R_0^{m_0} \\cdot \\ldots \\cdot R_{L-1}^{m_{L-1}} \\cdot S^v}\\Bigg)^{\\frac{1}{e}} \\pmod n\n",
    "\\end{align}\n",
    "\n",
    "* The signature on the message $(m_0, \\ldots, m_{L-1})$ consists of $(e,A,v)$\n",
    "\n",
    "Verification of the signature on the message is done through:\n",
    "\n",
    "* $Z \\equiv A^e \\cdot R_0^{m_0} \\cdot \\ldots \\cdot R_{L-1}^{m_{L-1}} \\cdot S^v \\pmod n$"
   ]
  },
  {
   "cell_type": "code",
   "execution_count": 3,
   "id": "0ddcf3ef-ad2d-4286-892e-22631e3a04e2",
   "metadata": {},
   "outputs": [
    {
     "name": "stdout",
     "output_type": "stream",
     "text": [
      "Public key is: n = 9171217927405769009, (R_0, R_1) = (8192245720955003556, 6667589631636168374), S = 2735196351304324892, Z = 4847505334916751160\n",
      "Private key is: (2722736041, 3368383049)\n",
      "\n",
      "Signature on m_0, m_1 (1181652844703113230, 1205699119803473053) is: e = 4210433832471942679, s = 3369317229320912901, v = 26954893583704235995610919337064775128\n",
      "RHS is the same as LHS: True\n"
     ]
    }
   ],
   "source": [
    "p = number.getPrime(32) # We ignore safe primes\n",
    "q = number.getPrime(32) # We ignore safe primes\n",
    "n = p*q\n",
    "\n",
    "R_0 = pow(number.getRandomRange(2, n), 2, n)\n",
    "R_1 = pow(number.getRandomRange(2, n), 2, n)\n",
    "S = pow(number.getRandomRange(2, n), 2, n)\n",
    "Z = pow(number.getRandomRange(2, n), 2, n)\n",
    "\n",
    "m_0 = number.getRandomRange(2, n)\n",
    "m_1 = number.getRandomRange(2, n)\n",
    "\n",
    "e = number.getPrime(m_0.bit_length() + 1)\n",
    "e_inv = pow(e, -1, (p-1)*(q-1))\n",
    "v = number.getRandomNBitInteger(m_0.bit_length() + n.bit_length() + 1)\n",
    "\n",
    "X = pow(R_0, m_0, n) * pow(R_1, m_1, n) * pow(S, v, n)\n",
    "X_inv = pow(X, -1, n)\n",
    "A = pow((Z * X_inv) % n, e_inv, n)\n",
    "\n",
    "print(f'Public key is: n = {n}, (R_0, R_1) = {(R_0, R_1)}, S = {S}, Z = {Z}')\n",
    "print(f'Private key is:', (p,q))\n",
    "print(f'\\nSignature on m_0, m_1 ({m_0}, {m_1}) is: e = {e}, s = {A}, v = {v}')\n",
    "\n",
    "print('RHS is the same as LHS:', (pow(A, e, n) * X) % n == Z)"
   ]
  }
 ],
 "metadata": {
  "kernelspec": {
   "display_name": "Python 3 (ipykernel)",
   "language": "python",
   "name": "python3"
  },
  "language_info": {
   "codemirror_mode": {
    "name": "ipython",
    "version": 3
   },
   "file_extension": ".py",
   "mimetype": "text/x-python",
   "name": "python",
   "nbconvert_exporter": "python",
   "pygments_lexer": "ipython3",
   "version": "3.9.7"
  }
 },
 "nbformat": 4,
 "nbformat_minor": 5
}
